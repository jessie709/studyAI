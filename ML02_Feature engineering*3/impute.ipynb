{
 "cells": [
  {
   "cell_type": "code",
   "execution_count": 1,
   "metadata": {},
   "outputs": [
    {
     "name": "stdout",
     "output_type": "stream",
     "text": [
      "X [[7, 2, 3], [4, nan, 6], [10, 5, nan]]\n",
      "Y [[nan, 2, 3], [4, nan, 6], [10, nan, 9]]\n",
      "Z [[nan, nan, nan], [nan, nan, nan], [nan, nan, nan]]\n",
      "X [[ 7.   2.   3. ]\n",
      " [ 4.   3.5  6. ]\n",
      " [10.   5.   4.5]]\n",
      "Y [[ 7.   2.   3. ]\n",
      " [ 4.   3.5  6. ]\n",
      " [10.   3.5  9. ]]\n",
      "Z [[7.  3.5 4.5]\n",
      " [7.  3.5 4.5]\n",
      " [7.  3.5 4.5]]\n"
     ]
    }
   ],
   "source": [
    "import numpy as np\n",
    "from sklearn.impute import SimpleImputer\n",
    "imp_mean = SimpleImputer(missing_values=np.nan, strategy='mean')\n",
    "X = [[7, 2, 3], [4, np.nan, 6], [10, 5, np.nan]]\n",
    "print(\"X\",X)\n",
    "imp_mean.fit(X)\n",
    "Y = [[np.nan, 2, 3], [4, np.nan, 6], [10, np.nan, 9]]\n",
    "print(\"Y\",Y)\n",
    "Z = [[np.nan, np.nan, np.nan], [np.nan, np.nan, np.nan], [np.nan, np.nan, np.nan]]\n",
    "print(\"Z\",Z)\n",
    "\n",
    "print(\"X\",imp_mean.transform(X))\n",
    "print(\"Y\",imp_mean.transform(Y))\n",
    "print(\"Z\",imp_mean.transform(Z))"
   ]
  },
  {
   "cell_type": "code",
   "execution_count": 2,
   "metadata": {},
   "outputs": [
    {
     "name": "stdout",
     "output_type": "stream",
     "text": [
      "X1 [[nan  1.  3.]\n",
      " [ 4.  0. nan]\n",
      " [ 8.  1.  0.]]\n",
      "X2 [[ 5.  1. nan]\n",
      " [nan  2.  3.]\n",
      " [ 2.  4.  0.]]\n",
      "X2_tr [[False  True]\n",
      " [ True False]\n",
      " [False False]]\n"
     ]
    }
   ],
   "source": [
    "import numpy as np\n",
    "from sklearn.impute import MissingIndicator\n",
    "X1 = np.array([[np.nan, 1, 3],\n",
    "               [4, 0, np.nan],\n",
    "               [8, 1, 0]])\n",
    "X2 = np.array([[5, 1, np.nan],\n",
    "               [np.nan, 2, 3],\n",
    "               [2, 4, 0]])\n",
    "print(\"X1\",X1)\n",
    "print(\"X2\",X2)\n",
    "\n",
    "indicator = MissingIndicator()\n",
    "indicator.fit(X1)\n",
    "\n",
    "X2_tr = indicator.transform(X2)\n",
    "print(\"X2_tr\",X2_tr)"
   ]
  },
  {
   "cell_type": "code",
   "execution_count": null,
   "metadata": {},
   "outputs": [],
   "source": []
  }
 ],
 "metadata": {
  "kernelspec": {
   "display_name": "Python 3",
   "language": "python",
   "name": "python3"
  },
  "language_info": {
   "codemirror_mode": {
    "name": "ipython",
    "version": 3
   },
   "file_extension": ".py",
   "mimetype": "text/x-python",
   "name": "python",
   "nbconvert_exporter": "python",
   "pygments_lexer": "ipython3",
   "version": "3.5.6"
  }
 },
 "nbformat": 4,
 "nbformat_minor": 2
}
