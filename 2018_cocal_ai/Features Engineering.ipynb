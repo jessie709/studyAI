{
 "cells": [
  {
   "cell_type": "markdown",
   "metadata": {
    "collapsed": false
   },
   "source": [
    "# Features Engineering\n",
    "\n",
    "## Continuous Numeric Data\n",
    "\n",
    "### Binarization\n",
    "\n",
    "根据指定的阈值将特征分为0或者1"
   ]
  },
  {
   "cell_type": "code",
   "execution_count": 1,
   "metadata": {
    "collapsed": false
   },
   "outputs": [
    {
     "data": {
      "text/html": [
       "<div>\n",
       "<style scoped>\n",
       "    .dataframe tbody tr th:only-of-type {\n",
       "        vertical-align: middle;\n",
       "    }\n",
       "\n",
       "    .dataframe tbody tr th {\n",
       "        vertical-align: top;\n",
       "    }\n",
       "\n",
       "    .dataframe thead th {\n",
       "        text-align: right;\n",
       "    }\n",
       "</style>\n",
       "<table border=\"1\" class=\"dataframe\">\n",
       "  <thead>\n",
       "    <tr style=\"text-align: right;\">\n",
       "      <th></th>\n",
       "      <th>listen_count</th>\n",
       "    </tr>\n",
       "  </thead>\n",
       "  <tbody>\n",
       "    <tr>\n",
       "      <th>0</th>\n",
       "      <td>10</td>\n",
       "    </tr>\n",
       "    <tr>\n",
       "      <th>1</th>\n",
       "      <td>0</td>\n",
       "    </tr>\n",
       "    <tr>\n",
       "      <th>2</th>\n",
       "      <td>1</td>\n",
       "    </tr>\n",
       "    <tr>\n",
       "      <th>3</th>\n",
       "      <td>22</td>\n",
       "    </tr>\n",
       "    <tr>\n",
       "      <th>4</th>\n",
       "      <td>8</td>\n",
       "    </tr>\n",
       "  </tbody>\n",
       "</table>\n",
       "</div>"
      ]
     },
     "execution_count": 1,
     "metadata": {
     },
     "output_type": "execute_result"
    }
   ],
   "source": [
    "# 使用 pandas 创建 DataFrame\n",
    "import pandas as pd\n",
    "from IPython.display import display\n",
    "\n",
    "df = pd.DataFrame()\n",
    "df['listen_count'] = [10, 0, 1, 22, 8]\n",
    "\n",
    "display(df)"
   ]
  },
  {
   "cell_type": "code",
   "execution_count": 2,
   "metadata": {
    "collapsed": false
   },
   "outputs": [
    {
     "data": {
      "text/plain": [
       "array([1, 0, 1, 1, 1])"
      ]
     },
     "execution_count": 2,
     "metadata": {
     },
     "output_type": "execute_result"
    }
   ],
   "source": [
    "from sklearn.preprocessing import Binarizer\n",
    "\n",
    "# 这里的阈值 threshold 设置为 0.9\n",
    "# 是因为 判断条件为: if > 0.9 then 1; if <= 0.9 then 0\n",
    "bn = Binarizer(threshold=0.9)\n",
    "pd_watched = bn.transform([df['listen_count']])[0]\n",
    "pd_watched"
   ]
  },
  {
   "cell_type": "markdown",
   "metadata": {
    "collapsed": false
   },
   "source": [
    "### Rounding\n",
    "\n",
    "有时特征的原始值（raw value）精度很高，比如：0.98746，对分析用处不大，此时可以降低其精度"
   ]
  },
  {
   "cell_type": "code",
   "execution_count": 3,
   "metadata": {
    "collapsed": false
   },
   "outputs": [
    {
     "data": {
      "text/html": [
       "<div>\n",
       "<style scoped>\n",
       "    .dataframe tbody tr th:only-of-type {\n",
       "        vertical-align: middle;\n",
       "    }\n",
       "\n",
       "    .dataframe tbody tr th {\n",
       "        vertical-align: top;\n",
       "    }\n",
       "\n",
       "    .dataframe thead th {\n",
       "        text-align: right;\n",
       "    }\n",
       "</style>\n",
       "<table border=\"1\" class=\"dataframe\">\n",
       "  <thead>\n",
       "    <tr style=\"text-align: right;\">\n",
       "      <th></th>\n",
       "      <th>top_percent</th>\n",
       "      <th>popularity_scale_10</th>\n",
       "      <th>popularity_scale_100</th>\n",
       "    </tr>\n",
       "  </thead>\n",
       "  <tbody>\n",
       "    <tr>\n",
       "      <th>0</th>\n",
       "      <td>0.808640</td>\n",
       "      <td>8</td>\n",
       "      <td>81</td>\n",
       "    </tr>\n",
       "    <tr>\n",
       "      <th>1</th>\n",
       "      <td>0.896155</td>\n",
       "      <td>9</td>\n",
       "      <td>90</td>\n",
       "    </tr>\n",
       "    <tr>\n",
       "      <th>2</th>\n",
       "      <td>0.074588</td>\n",
       "      <td>1</td>\n",
       "      <td>7</td>\n",
       "    </tr>\n",
       "    <tr>\n",
       "      <th>3</th>\n",
       "      <td>0.789677</td>\n",
       "      <td>8</td>\n",
       "      <td>79</td>\n",
       "    </tr>\n",
       "    <tr>\n",
       "      <th>4</th>\n",
       "      <td>0.296076</td>\n",
       "      <td>3</td>\n",
       "      <td>30</td>\n",
       "    </tr>\n",
       "  </tbody>\n",
       "</table>\n",
       "</div>"
      ]
     },
     "execution_count": 3,
     "metadata": {
     },
     "output_type": "execute_result"
    }
   ],
   "source": [
    "import pandas as dp\n",
    "import numpy as np\n",
    "\n",
    "df = dp.DataFrame()\n",
    "df['top_percent'] = np.random.rand(5)\n",
    "df['popularity_scale_10'] = np.array(np.round(df['top_percent'] * 10), dtype='int') # 取值范围在1-10\n",
    "df['popularity_scale_100'] = np.array(np.round(df['top_percent'] * 100), dtype='int') # 取值范围在1-100\n",
    "df"
   ]
  },
  {
   "cell_type": "markdown",
   "metadata": {
    "collapsed": false
   },
   "source": [
    "### Interactions\n",
    "\n",
    "相互作用，指的是：在监督学习模型中，通常将特征作为输入值，将标签（目标）作为输出值，从而建立一个函数。比如线性回（linear regression）归等式可以表示为：\n",
    "\n",
    "$y=c_1x_1+c_2x_2+\\cdots+c_nx_n$\n",
    "\n",
    "- $y$ 表示输出值，即标签（目标）\n",
    "- ${x_1,x_2,\\cdots,x_n}$ 表示特征\n",
    "- ${c_1,c_2,\\cdots,c_n}$ 表示权重（weights）或系数（conefficients）\n",
    "\n",
    "在这种情况下，这个简单的线性模型表示的是输入值和输出值的关系，纯粹基于单独的输入特征。\n",
    "\n",
    "然而，在现实环境中，尝试和捕获这些特征间的相互作用作为输入特征是很具有意义的。用上面线性回归公式结合相互作用的特征可以简单的进行扩展\n",
    "\n",
    "$y=c_1x_1+c_2x_2+\\cdots+c_nx_n+c_{11}x_1^2+c_{12}x_2^2+\\cdots$"
   ]
  },
  {
   "cell_type": "markdown",
   "metadata": {
    "collapsed": false
   },
   "source": [
    "#### Polynomial Features\n",
    "\n",
    "多项式特征，它属于 Derived Features 中的一种，所谓 Derived Features 直译为派生特征，实际就是根据已有特征派生出新的特征。多项式特征就是其中典型的用法。\n",
    "\n",
    "对于派生特征本身不难理解，就是用数据集中原有的特征，经过某些计算得到一些新的特征，比如采用多项式的方法（关于多项式的算法这里不再赘述，具体可参考[sklearn](https://scikit-learn.org/stable/modules/generated/sklearn.preprocessing.PolynomialFeatures.html#sklearn.preprocessing.PolynomialFeatures)），但是不容易的理解的是，为什么要派生特征，特别是为什么要使用多项式方法派生特征，他到底基于什么考虑呢？\n",
    "\n",
    "通过下面的例子大体可以理解。这里先用一句话来概述：通过二项式特征派生，可以使用线性回归模型来解决二项式分布的数据。即无需更换模型（线性回归模型），仅需要对数据进行调整即可满足原模型（这里指线性回归模型）"
   ]
  },
  {
   "cell_type": "code",
   "execution_count": 4,
   "metadata": {
    "collapsed": false
   },
   "outputs": [
    {
     "data": {
      "text/plain": [
       "<matplotlib.collections.PathCollection at 0x7f8488d09518>"
      ]
     },
     "execution_count": 4,
     "metadata": {
     },
     "output_type": "execute_result"
    },
    {
     "data": {
      "image/png": "[encoded data removed]"
     },
     "metadata": {
      "image/png": {
       "height": 250,
       "width": 364
      }
     },
     "output_type": "execute_result"
    }
   ],
   "source": [
    "import numpy as np\n",
    "import matplotlib.pyplot as plt\n",
    "\n",
    "x = np.array([1, 2, 3, 4, 5])\n",
    "y = np.array([4, 2, 1, 3, 7])\n",
    "plt.scatter(x, y)"
   ]
  },
  {
   "cell_type": "markdown",
   "metadata": {
    "collapsed": false
   },
   "source": [
    "上面的图显示 x 和 y 的散点关系图\n",
    "\n",
    "我们采用 LinearRegression 模型来为其建模"
   ]
  },
  {
   "cell_type": "code",
   "execution_count": 5,
   "metadata": {
    "collapsed": false
   },
   "outputs": [
    {
     "data": {
      "text/plain": [
       "[<matplotlib.lines.Line2D at 0x7f849ae1bdd8>]"
      ]
     },
     "execution_count": 5,
     "metadata": {
     },
     "output_type": "execute_result"
    },
    {
     "data": {
      "image/png": "[encoded data removed]"
     },
     "metadata": {
      "image/png": {
       "height": 250,
       "width": 364
      }
     },
     "output_type": "execute_result"
    }
   ],
   "source": [
    "import numpy as np\n",
    "from sklearn.linear_model import LinearRegression\n",
    "import matplotlib.pyplot as plt\n",
    "\n",
    "X = x[:, np.newaxis]\n",
    "model = LinearRegression().fit(X, y)\n",
    "y_fit = model.predict(X)\n",
    "plt.scatter(x, y)\n",
    "plt.plot(x, y_fit)"
   ]
  },
  {
   "cell_type": "markdown",
   "metadata": {
    "collapsed": false
   },
   "source": [
    "从上图很容易看出，直线很难满足数据间的关系，这时，我们可以采用 polynomial 方法来派生新的特征"
   ]
  },
  {
   "cell_type": "code",
   "execution_count": 14,
   "metadata": {
    "collapsed": false
   },
   "outputs": [
    {
     "data": {
      "text/plain": [
       "array([[  1.,   1.,   1.],\n",
       "       [  2.,   4.,   8.],\n",
       "       [  3.,   9.,  27.],\n",
       "       [  4.,  16.,  64.],\n",
       "       [  5.,  25., 125.]])"
      ]
     },
     "execution_count": 14,
     "metadata": {
     },
     "output_type": "execute_result"
    }
   ],
   "source": [
    "from sklearn.preprocessing import PolynomialFeatures\n",
    "import matplotlib.pyplot as plt\n",
    "\n",
    "poly = PolynomialFeatures(degree=3, include_bias=False)\n",
    "X2 = poly.fit_transform(X)\n",
    "X2"
   ]
  },
  {
   "cell_type": "markdown",
   "metadata": {
    "collapsed": false
   },
   "source": [
    "现在用 polynomial features 方法派生出来新特征的 X2 特征集来训练 linear regression 模型"
   ]
  },
  {
   "cell_type": "code",
   "execution_count": 0,
   "metadata": {
    "collapsed": false
   },
   "outputs": [
   ],
   "source": [
    "from sklearn.linear_model import LinearRegression\n",
    "import matplotlib.pyplot as plt\n",
    "\n",
    "model = LinearRegression().fit(X2, y)\n",
    "y_fit = model.predict(X2)\n",
    "plt.scatter(x, y)\n",
    "plt.plot(x, y_fit)"
   ]
  },
  {
   "cell_type": "markdown",
   "metadata": {
    "collapsed": false
   },
   "source": [
    "#### sklearn.preprocessing.PolynomialFeatures\n",
    "\n",
    "这里解释一下`sklearn.preprocessing.PolynomialFeatures`API 的用法\n",
    "\n",
    "> 官方文档解释：Generator polynomial and interaction features  \n",
    "> 比如二维数据[a, b], the degree-2 polynomial features is $[1, a, b, a^2, ab, b^2]$"
   ]
  },
  {
   "cell_type": "markdown",
   "metadata": {
    "collapsed": false
   },
   "source": [
    "### Binning\n",
    "\n",
    "分箱。将 continuous numeric features 分到不同的分类中。比如将年龄分为老、中、青，将收入分为低收入、中等收入、高收入等。\n",
    "\n",
    "binning 可以分为如下两类：\n",
    "\n",
    "- fixed-width binning\n",
    "- adaptive binnig\n",
    "\n",
    "#### Fixed-width binning\n",
    "\n",
    "人为的设定分箱标准。\n",
    "\n",
    "以下用 `./data/2016-FCC-New-Coders-Survey-Data.csv` 数据集为例来进行理解"
   ]
  },
  {
   "cell_type": "code",
   "execution_count": 0,
   "metadata": {
    "collapsed": false
   },
   "outputs": [
   ],
   "source": [
    "import pandas as pd\n",
    "from IPython.display import display\n",
    "\n",
    "fcc_df = pd.read_csv('./data/2016-FCC-New-Coders-Survey-Data.csv', encoding='utf-8')\n",
    "\n",
    "display(fcc_df.describe())\n",
    "fcc_df[['ID.x', 'EmploymentField', 'Age', 'Income']].head()"
   ]
  },
  {
   "cell_type": "markdown",
   "metadata": {
    "collapsed": false
   },
   "source": [
    "这里先着重分析以下 Age 特征。首先通过图表的方式来看看 Age 特征的情况"
   ]
  },
  {
   "cell_type": "code",
   "execution_count": 0,
   "metadata": {
    "collapsed": false
   },
   "outputs": [
   ],
   "source": [
    "import matplotlib.pyplot as plt\n",
    "\n",
    "_, ax = plt.subplots()\n",
    "fcc_df['Age'].hist(edgecolor='black', grid=False)\n",
    "ax.set_title('Developer Age Histogram', fontsize=12)\n",
    "ax.set_xlabel('Age', fontsize=12)\n",
    "ax.set_ylabel('Frequency', fontsize=12)"
   ]
  },
  {
   "cell_type": "markdown",
   "metadata": {
    "collapsed": false
   },
   "source": [
    "如果我们想以下面的方式划分年龄\n",
    "\n",
    "```\n",
    "Age Range : Bin\n",
    "----------------\n",
    " 0 -  15   : 1\n",
    "16 -  30   : 2\n",
    "31 -  45   : 3\n",
    "46 -  60   : 4\n",
    "61 -  75   : 5\n",
    "75 - 100   : 6\n",
    "```"
   ]
  },
  {
   "cell_type": "code",
   "execution_count": 0,
   "metadata": {
    "collapsed": false
   },
   "outputs": [
   ],
   "source": [
    "import numpy as np\n",
    "\n",
    "bin_range = [0, 15, 30, 45, 60, 75, 100]\n",
    "bin_names = [1, 2, 3, 4, 5, 6]\n",
    "\n",
    "fcc_df['Age_bin_custom_range'] = pd.cut(np.array(fcc_df['Age']), bins=bin_range)\n",
    "fcc_df['Age_bin_custom_label'] = pd.cut(np.array(fcc_df['Age']), bins=bin_range, labels=bin_names)\n",
    "\n",
    "fcc_df[['ID.x', 'Age', 'Age_bin_custom_range', 'Age_bin_custom_label']].iloc[1071: 1076]"
   ]
  },
  {
   "cell_type": "markdown",
   "metadata": {
    "collapsed": false
   },
   "source": [
    "#### Adaptive binning\n",
    "\n",
    "根据数据自身的特征自动分箱。通常可分为 2-quantiles 也称之为 *median* ，4-quantiles 也称之为 *quartile* ，10-quantiles 也称之为 *deciles*"
   ]
  },
  {
   "cell_type": "code",
   "execution_count": 0,
   "metadata": {
    "collapsed": false
   },
   "outputs": [
   ],
   "source": [
    "fig, ax = plt.subplots()\n",
    "fcc_df['Income'].hist(bins=30, edgecolor='black', grid=False)\n",
    "ax.set_title('Developer Income Histogram', fontsize=12)\n",
    "ax.set_xlabel('Developer Income', fontsize=12)\n",
    "ax.set_ylabel('Frequency', fontsize=12)"
   ]
  },
  {
   "cell_type": "code",
   "execution_count": 0,
   "metadata": {
    "collapsed": false
   },
   "outputs": [
   ],
   "source": [
   ]
  }
 ],
 "metadata": {
  "kernelspec": {
   "display_name": "Python 3 (Ubuntu Linux)",
   "language": "python",
   "name": "python3"
  },
  "language_info": {
   "codemirror_mode": {
    "name": "ipython",
    "version": 3
   },
   "file_extension": ".py",
   "mimetype": "text/x-python",
   "name": "python",
   "nbconvert_exporter": "python",
   "pygments_lexer": "ipython3",
   "version": "3.6.7"
  }
 },
 "nbformat": 4,
 "nbformat_minor": 0
}