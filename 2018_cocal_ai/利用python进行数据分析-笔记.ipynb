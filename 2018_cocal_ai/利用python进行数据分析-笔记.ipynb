{
 "cells": [
  {
   "cell_type": "markdown",
   "metadata": {
    "collapsed": false
   },
   "source": [
    "\n",
    "# 准备工作\n",
    "\n",
    "## 重要的python库\n",
    "\n",
    "### NumPy\n",
    "是python科学计算的基础包，它提供了以下功能（不限于此）：\n",
    "- 快速高效的多维数组对象ndarray\n",
    "- 用于对数组执行元素级计算以及直接对数组执行数学运算的函数\n",
    "- 用于读些硬盘上基于数组的数据集的工具\n",
    "- 线下代数运算、傅里叶变换、以及随机数生成\n",
    "\n",
    "### pandas\n",
    "这个名字源于panel data（面板数据，这是多维结构化数据集在计量经济学中的术语）以及python data analysis（python数据分析）。\n",
    "\n",
    "pandas提供了快速便捷处理结构化数据的大量数据结构和函数，兼具NumPy高性能的数组计算功能以及电子表格和关系型数据库（如SQL）灵活的数据处理功能。\n",
    "\n",
    "### matplotlib\n",
    "用于绘制图表和其他二维数据可视化的python库。\n",
    "\n",
    "### IPython和Jupyter\n",
    "IPython现在主要用于编写、测试、调试Python代码的强化shell。\n",
    "\n",
    "Jupyter是一个更为宽泛的多语言交互计算工具。\n",
    "\n",
    "Jupyter Notebook是一个交互式网络代码“笔记本”，可在用Markdown和HTML编写的内容中嵌入可交互的源代码，并可使用IPython进行编译执行，显示执行结果。\n",
    "\n",
    "### SciPy\n",
    "是一组专门解决科学计算中各种标准问题域的包集合：\n",
    " - scipy.integrate：数值积分例程和微分方程求解器\n",
    " - scipy.linalg：扩展了由numpy.linaga提供的线性代数例程和矩阵分解功能\n",
    " - scipy.optimize：函数优化器（最小化器）以及根查找算法\n",
    " - scipy.signal：信号处理工具\n",
    " - scipy.sparse：稀疏矩阵和稀疏线性系统求解器\n",
    " - scipy.special：SPECFUN（这是一个实现了许多常用数学函数（如伽马函数）的Fortran库）的包装器\n",
    " - scipy.stats：标准连续的离散概率分布（如密度函数、采样器、连续分布函数等）、各种统计检验方法，以及更好的描述系统统计法\n",
    "\n",
    "NumPy和SciPy结合使用，便形成了一个相当完备和成熟的计算平台，可以处理多种传统的科学计算问题.\n",
    "\n",
    "### scikit-learn\n",
    "Python的通用学习工具包。\n",
    "\n",
    "- 分离：SVM、近邻、随机森林、逻辑回归\n",
    "- 回归：Lasso、岭回归\n",
    "- 聚类：k-均值、谱聚类\n",
    "- 降维：PCA、特征选择、矩阵分解\n",
    "- 选型：网络搜索、交叉验证、度量\n",
    "- 预处理：特征提取、标准化\n",
    "\n",
    "### statsmodels\n",
    "是一个统计分析包。\n",
    "\n",
    "与sckikit-learn比较，statsmodels包含经典统计学和经济计量学的算法。\n",
    "\n",
    "- 回归模式：线下回归，广义线性模型，健壮线性模型，线性混合效应模型\n",
    "- 方差分析（ANOVA）\n",
    "- 时间序列分析：AR、ARMA、ARIMA、VAR和其他模型\n",
    "- 非参数方法：核密度估计、核回归\n",
    "- 统计模型结果可视化\n",
    "\n",
    "statsmodels关注统计推断，scikit-learn注重预测。\n",
    "\n",
    "# 04章 NumPy基础：数组和矢量计算\n",
    "\n",
    "## 创建ndarray\n",
    "\n",
    "创建数组最简单的办法就是使用 array 函数。"
   ]
  },
  {
   "cell_type": "code",
   "execution_count": 3,
   "metadata": {
    "collapsed": false
   },
   "outputs": [
   ],
   "source": [
    "import numpy as np"
   ]
  },
  {
   "cell_type": "code",
   "execution_count": 9,
   "metadata": {
    "collapsed": false
   },
   "outputs": [
   ],
   "source": [
    "data1 = [6, 7.5, 8, 0, 1]"
   ]
  },
  {
   "cell_type": "code",
   "execution_count": 5,
   "metadata": {
    "collapsed": false
   },
   "outputs": [
   ],
   "source": [
    "arr1 = np.array(data1)"
   ]
  },
  {
   "cell_type": "code",
   "execution_count": 6,
   "metadata": {
    "collapsed": false
   },
   "outputs": [
    {
     "data": {
      "text/plain": [
       "array([ 6. ,  7.5,  8. ,  0. ,  1. ])"
      ]
     },
     "execution_count": 6,
     "metadata": {
     },
     "output_type": "execute_result"
    }
   ],
   "source": [
    "arr1"
   ]
  },
  {
   "cell_type": "code",
   "execution_count": 7,
   "metadata": {
    "collapsed": false
   },
   "outputs": [
    {
     "data": {
      "text/plain": [
       "(5,)"
      ]
     },
     "execution_count": 7,
     "metadata": {
     },
     "output_type": "execute_result"
    }
   ],
   "source": [
    "arr1.shape"
   ]
  },
  {
   "cell_type": "code",
   "execution_count": 8,
   "metadata": {
    "collapsed": false
   },
   "outputs": [
    {
     "data": {
      "text/plain": [
       "1"
      ]
     },
     "execution_count": 8,
     "metadata": {
     },
     "output_type": "execute_result"
    }
   ],
   "source": [
    "arr1.ndim"
   ]
  },
  {
   "cell_type": "markdown",
   "metadata": {
    "collapsed": false
   },
   "source": [
    "嵌套序列（比如由一组等长列表组成的列表）将会被转换为一个多维数组："
   ]
  },
  {
   "cell_type": "code",
   "execution_count": 10,
   "metadata": {
    "collapsed": false
   },
   "outputs": [
   ],
   "source": [
    "data2 = [[1, 2, 3, 4], [5, 6, 7, 8]]"
   ]
  },
  {
   "cell_type": "code",
   "execution_count": 11,
   "metadata": {
    "collapsed": false
   },
   "outputs": [
   ],
   "source": [
    "arr2 = np.array(data2)"
   ]
  },
  {
   "cell_type": "code",
   "execution_count": 12,
   "metadata": {
    "collapsed": false
   },
   "outputs": [
    {
     "data": {
      "text/plain": [
       "array([[1, 2, 3, 4],\n",
       "       [5, 6, 7, 8]])"
      ]
     },
     "execution_count": 12,
     "metadata": {
     },
     "output_type": "execute_result"
    }
   ],
   "source": [
    "arr2"
   ]
  },
  {
   "cell_type": "code",
   "execution_count": 13,
   "metadata": {
    "collapsed": false
   },
   "outputs": [
    {
     "data": {
      "text/plain": [
       "(2, 4)"
      ]
     },
     "execution_count": 13,
     "metadata": {
     },
     "output_type": "execute_result"
    }
   ],
   "source": [
    "arr2.shape"
   ]
  },
  {
   "cell_type": "code",
   "execution_count": 14,
   "metadata": {
    "collapsed": false
   },
   "outputs": [
    {
     "data": {
      "text/plain": [
       "2"
      ]
     },
     "execution_count": 14,
     "metadata": {
     },
     "output_type": "execute_result"
    }
   ],
   "source": [
    "arr2.ndim"
   ]
  },
  {
   "cell_type": "code",
   "execution_count": 0,
   "metadata": {
    "collapsed": false
   },
   "outputs": [
   ],
   "source": [
   ]
  }
 ],
 "metadata": {
  "kernelspec": {
   "display_name": "SageMath (stable)",
   "name": "sagemath"
  },
  "language_info": {
   "codemirror_mode": {
    "name": "ipython",
    "version": 2
   },
   "file_extension": ".py",
   "mimetype": "text/x-python",
   "name": "python",
   "nbconvert_exporter": "python",
   "pygments_lexer": "ipython2",
   "version": "2.7.15"
  }
 },
 "nbformat": 4,
 "nbformat_minor": 0
}