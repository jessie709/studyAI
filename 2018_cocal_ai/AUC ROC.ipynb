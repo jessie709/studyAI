{
 "cells": [
  {
   "cell_type": "markdown",
   "metadata": {
    "collapsed": false
   },
   "source": [
    "# Comprehession AUC ROC\n",
    "\n",
    "- AUC area under curve\n",
    "- ROC receiver operating characteristic\n",
    "\n",
    "在二值分类问题中，通常使用 logtic regression 建模，衡量该模型的一种指标是 AUC\n",
    "\n",
    "ROC 使用不同阈值所得到的 TPR 和 FPR 建立坐标体系（Y轴为 TPR，X 轴为 FPR）\n",
    "\n",
    "为了理解 ROC，必须深刻认识 confusion matrix\n",
    "\n",
    "<img src=\"./pic/Confusion_matrix.png\" width=\"1024\" />\n",
    "\n",
    "关于如何画出 ROC 可以参见“./excel/AUC-ROC.xlsx”"
   ]
  },
  {
   "cell_type": "code",
   "execution_count": 0,
   "metadata": {
    "collapsed": false
   },
   "outputs": [
   ],
   "source": [
   ]
  }
 ],
 "metadata": {
  "kernelspec": {
   "display_name": "Python 3 (Ubuntu Linux)",
   "language": "python",
   "name": "python3"
  }
 },
 "nbformat": 4,
 "nbformat_minor": 0
}