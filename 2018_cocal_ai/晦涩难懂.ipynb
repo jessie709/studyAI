{
 "cells": [
  {
   "cell_type": "markdown",
   "metadata": {
    "collapsed": false
   },
   "source": [
    "# Singular-Value Decompositin\n",
    "\n",
    "奇异值分解\n",
    "\n",
    "对于任何一个矩阵均可分解为如下形式\n",
    "\n",
    "$A=U \\cdot \\Sigma \\cdot V^T$\n",
    "\n",
    "- $A$ 是一个 $m \\times n$ 的矩阵\n",
    "- $U$ 是一个 $m \\times m$ 的方阵。其各列称为矩阵 $A$ 的左奇异向量\n",
    "- $\\Sigma$ 是一个 $m \\times n$ 的对角矩阵(diagonal matrix)\n",
    "- $V^T$ 是一个 $n \\times n$ 的转置矩阵。其各列称之为矩阵 $A$ 的右奇异向量\n",
    "\n",
    "## Calculate Singular-Value Decomposition\n",
    "\n",
    "> 具体算法不再深究，主要学习如何用 numpy 包去计算 SVD 值"
   ]
  },
  {
   "cell_type": "code",
   "execution_count": 2,
   "metadata": {
    "collapsed": false
   },
   "outputs": [
    {
     "name": "stdout",
     "output_type": "stream",
     "text": [
      "原始矩阵3*2 A = \n",
      "[[1 2]\n",
      " [3 4]\n",
      " [5 6]]\n",
      "\n",
      "右奇异向量3*3 U = \n",
      "[[-0.2298477   0.88346102  0.40824829]\n",
      " [-0.52474482  0.24078249 -0.81649658]\n",
      " [-0.81964194 -0.40189603  0.40824829]]\n",
      "\n",
      "Sigma对角矩阵2*2 s = \n",
      "[9.52551809 0.51430058]\n",
      "\n",
      "左奇异向量2*2 VT = \n",
      "[[-0.61962948 -0.78489445]\n",
      " [-0.78489445  0.61962948]]\n",
      "\n"
     ]
    }
   ],
   "source": [
    "import numpy as np\n",
    "\n",
    "# 定义一个 3*2 的矩阵\n",
    "A = np.array([[1, 2], [3, 4], [5, 6]])\n",
    "\n",
    "# 计算 SVD\n",
    "U, s, VT = np.linalg.svd(A)\n",
    "\n",
    "print('原始矩阵3*2 A = \\n{}\\n'.format(A))\n",
    "print('右奇异向量3*3 U = \\n{}\\n'.format(U))\n",
    "print('Sigma对角矩阵2*2 s = \\n{}\\n'.format(s))\n",
    "print('左奇异向量2*2 VT = \\n{}\\n'.format(VT))"
   ]
  },
  {
   "cell_type": "markdown",
   "metadata": {
    "collapsed": false
   },
   "source": [
    "## Reconstruct Matrix from SVD\n",
    "\n",
    "从 SVD 重构矩阵。即根据 SVD 分解的 $U \\Sigma V^T$ 重新还原矩阵 $A$"
   ]
  },
  {
   "cell_type": "code",
   "execution_count": 3,
   "metadata": {
    "collapsed": false
   },
   "outputs": [
    {
     "name": "stdout",
     "output_type": "stream",
     "text": [
      "原矩阵3*2 A = \n",
      "[[1 2]\n",
      " [3 4]\n",
      " [5 6]]\n",
      "\n",
      "重建后的矩阵3*2 B=\n",
      "[[1. 2.]\n",
      " [3. 4.]\n",
      " [5. 6.]]\n",
      "\n",
      "Sigma = \n",
      "[[9.52551809 0.        ]\n",
      " [0.         0.51430058]\n",
      " [0.         0.        ]]\n"
     ]
    }
   ],
   "source": [
    "import numpy as np\n",
    "\n",
    "# 定义一个矩阵\n",
    "# 这里采用一些帮助函数去快速的创建一个矩阵\n",
    "# arange()函数类似 python 自带的 range() 函数，只不过他直接返回了一个列表（数组）\n",
    "# 如下列中 arange(1, 7) 会返回 [1 2 3 4 5 6]\n",
    "# reshape()函数则是将一个列表（数组）转换成一个指定行列的矩阵\n",
    "# 如下列中 reshape((3, 2)) 就是转换成一个 3*2 的矩阵\n",
    "A = np.arange(1, 7).reshape((3, 2))\n",
    "\n",
    "# 计算 SVD 值\n",
    "U, s, VT = np.linalg.svd(A)\n",
    "\n",
    "# 转换 s 为矩阵\n",
    "# 因为在上面的 SVD 计算时，返回的 Sigma 是对角矩阵的对角值，即 s 值是一个一维数组\n",
    "# 在后续进行计算时，必须将 s 转换成矩阵\n",
    "# 这里需要特别注意的是 numpy 提供一个函数 diag() 它可以将一个一维数组转换成一个对角矩阵，其中对角矩阵的上矩阵和下矩阵的元素为零\n",
    "# 比如 diag([1, 2]) 会返回 [[1, 0], [0, 2]]\n",
    "#\n",
    "# 再次，Sigma 其实需要的是个长形矩阵，而使用 diag() 函数返回的是个方阵\n",
    "# Sigma 是长形矩阵的原因是 原始矩阵 A 是一个 3*2 的矩阵，根据 SVD 的定义 Sigma 矩阵也必须是 3*2 的矩阵\n",
    "# 因此需要使用 zeros() 函数先构建好一个 3*2 的全零矩阵，然后再用 diag() 返回的对角方阵填充进去\n",
    "\n",
    "# A.shape 返回的是 A 的“形状” 这里是 [3, 2]\n",
    "# A.shape[0] 返回矩阵 A 的行数 这里是3；A.shape[1] 返回矩阵 A 的列数 这里是2\n",
    "# zeros(3, 2) 返回一个3*2的全零矩阵\n",
    "Sigma = np.zeros((A.shape[0], A.shape[1]))\n",
    "\n",
    "# 用对角矩阵的对角值 s （一个一维数组），使用 diag() 函数转换成 对角矩阵\n",
    "# 接着用对角矩阵填充 填充 Sigma 的全零矩阵 得到我们期望要的 3*2 的对角矩阵\n",
    "Sigma[:A.shape[1], :A.shape[1]] = np.diag(s)\n",
    "\n",
    "# 重建矩阵 A\n",
    "# 下面的函数是数学公式的代码化表示形式\n",
    "# 所代表的数据公式：B = U . Sigma . VT 公式中的“.” 表示矩阵“内积”操作\n",
    "B = U.dot(Sigma.dot(VT))\n",
    "\n",
    "# 输出结果 以便于理解\n",
    "\n",
    "print('原矩阵3*2 A = \\n{}\\n'.format(A))\n",
    "print('重建后的矩阵3*2 B=\\n{}\\n'.format(B))\n",
    "print('Sigma = \\n{}'.format(Sigma))"
   ]
  },
  {
   "cell_type": "markdown",
   "metadata": {
    "collapsed": false
   },
   "source": [
    "# SVD for Dimensionality Reduction\n",
    "\n",
    "用 SVD 降维\n",
    "\n",
    "实现降维的步骤：\n",
    "- 对原矩阵进行 SVD 操作\n",
    "- 从 $\\Sigma$ 对角线数据中选取最大的 k 个奇异值\n",
    "- 从 $\\Sigma$ 矩阵中提取这些列，组成的矩阵可记为 $\\Sigma_k$\n",
    "- 从 $V^T$ 矩阵提取这些行，组成的矩阵可记为 $(V^T)_k$\n",
    "\n",
    "**重构矩阵：** 一个近似于原始矩阵 A 的矩阵 B 为(即为重构矩阵 A)\n",
    "\n",
    "$B=U \\cdot \\Sigma_k \\cdot (V^T)_k$\n",
    "\n",
    "**降维：** 降维后的数据集可设为 T。这也被称为“矩阵的密集总结”或“投影”（原文：This is a dense summary of the matrix or a projection. 此段谷歌翻译为：这是矩阵或投影的密集总结。按上下文理解不应该是这样翻译）\n",
    "\n",
    "$T=U \\cdot \\Sigma_k$\n",
    "\n",
    "或者用原矩阵 A 也可求出 T\n",
    "\n",
    "$T=(V^T)_k \\cdot A$"
   ]
  },
  {
   "cell_type": "code",
   "execution_count": 4,
   "metadata": {
    "collapsed": false
   },
   "outputs": [
    {
     "name": "stdout",
     "output_type": "stream",
     "text": [
      "原始3*10矩阵 A = \n",
      "[[ 1  2  3  4  5  6  7  8  9 10]\n",
      " [11 12 13 14 15 16 17 18 19 20]\n",
      " [21 22 23 24 25 26 27 28 29 30]]\n",
      "\n",
      "重构的矩阵3*10矩阵 B = \n",
      "[[ 1.  2.  3.  4.  5.  6.  7.  8.  9. 10.]\n",
      " [11. 12. 13. 14. 15. 16. 17. 18. 19. 20.]\n",
      " [21. 22. 23. 24. 25. 26. 27. 28. 29. 30.]]\n",
      "\n",
      "矩阵的密集总结3*2 T = \n",
      "[[-18.52157747   6.47697214]\n",
      " [-49.81310011   1.91182038]\n",
      " [-81.10462276  -2.65333138]]\n",
      "\n"
     ]
    }
   ],
   "source": [
    "import numpy as np\n",
    "\n",
    "# 创建一个 3*10 的矩阵\n",
    "# 创建原理同上，此处不再赘述\n",
    "A = np.arange(1, 31).reshape((3, 10))\n",
    "\n",
    "# 计算 SVD\n",
    "# U：3*3 左奇异值向量矩阵\n",
    "# a：1*3 对角矩阵的对角，一个一维数组\n",
    "# V：10*10 右奇异值向量\n",
    "U, s, VT = np.linalg.svd(A)\n",
    "\n",
    "# 构建 Sigma\n",
    "# 首先创建一个 3*10 的零矩阵\n",
    "# 接着根据 s 创建对角矩阵\n",
    "# 最后用对角矩阵填入零矩阵，完成 Sigma 的构建\n",
    "Sigma = np.zeros((A.shape[0], A.shape[1]))\n",
    "Sigma[:A.shape[0], :A.shape[0]] = np.diag(s)\n",
    "\n",
    "# 选定 k 值\n",
    "# 奇异值在对角矩阵中，即在变量 s 中\n",
    "# s = [9.69657342e+01 7.25578339e+00 5.43064394e-15]\n",
    "# 进过分析奇异值，选取头两个较大的奇异值作为 k 值，即2\n",
    "n_elements = 2\n",
    "\n",
    "# 从 Sigma 中提取头2列\n",
    "SigmaK = Sigma[:, :n_elements]\n",
    "\n",
    "# 从 VT 中提取头2行\n",
    "VTK = VT[:n_elements, :]\n",
    "\n",
    "# 重构原始矩阵\n",
    "B = U.dot(SigmaK.dot(VTK))\n",
    "\n",
    "# 计算矩阵的密集总结\n",
    "T = U.dot(SigmaK)\n",
    "\n",
    "T2 = A.dot(VTK.T)\n",
    "\n",
    "# 打印输出\n",
    "print('原始3*10矩阵 A = \\n{}\\n'.format(A))\n",
    "print('重构的矩阵3*10矩阵 B = \\n{}\\n'.format(B))\n",
    "print('矩阵的密集总结3*2 T = \\n{}\\n'.format(T))"
   ]
  },
  {
   "cell_type": "markdown",
   "metadata": {
    "collapsed": false
   },
   "source": [
    "sklearn 提供了便捷的方式去进行上述的降维操作"
   ]
  },
  {
   "cell_type": "code",
   "execution_count": 6,
   "metadata": {
    "collapsed": false
   },
   "outputs": [
    {
     "name": "stdout",
     "output_type": "stream",
     "text": [
      "[[18.52157747  6.47697214]\n",
      " [49.81310011  1.91182038]\n",
      " [81.10462276 -2.65333138]]\n"
     ]
    }
   ],
   "source": [
    "import numpy as np\n",
    "from sklearn.decomposition import TruncatedSVD\n",
    "\n",
    "A = np.arange(1, 31).reshape((3, 10))\n",
    "\n",
    "svd = TruncatedSVD(n_components=2)\n",
    "svd.fit(A)\n",
    "result = svd.transform(A)\n",
    "print(result)"
   ]
  },
  {
   "cell_type": "code",
   "execution_count": 23,
   "metadata": {
    "collapsed": false
   },
   "outputs": [
    {
     "name": "stdout",
     "output_type": "stream",
     "text": [
      "[[0.73907319 0.37832033 0.47521497 ... 0.16782066 0.86163692 0.36393223]\n",
      " [0.4524857  0.47744957 0.26090577 ... 0.87411717 0.84804004 0.05151885]\n",
      " [0.44286818 0.22242612 0.12360592 ... 0.45433957 0.00771565 0.47401077]\n",
      " ...\n",
      " [0.46294866 0.32335242 0.58879875 ... 0.29039868 0.37577206 0.36904438]\n",
      " [0.8755749  0.68198116 0.90029047 ... 0.94853233 0.63370128 0.15550252]\n",
      " [0.38239853 0.86093371 0.48077229 ... 0.66228065 0.24182452 0.66051977]]\n",
      "[94.05547647 10.57612645 10.49741004 10.35329108 10.31968805 10.19877307\n",
      " 10.07774583  9.97242221  9.87014639  9.75395268  9.73903817  9.62688153\n",
      "  9.59060521  9.46758327  9.35279762  9.25781664  9.21239321  9.15102353\n",
      "  9.05864898  8.9957529   8.9114839   8.81636683  8.74231272  8.59650453\n",
      "  8.51733832  8.35563573  8.32630264  8.26410065  8.18634531  8.12534497\n",
      "  7.97727861  7.79728133  7.6647652   7.53207852  7.50117042]\n"
     ]
    },
    {
     "name": "stdout",
     "output_type": "stream",
     "text": [
      "(1000, 12)\n",
      "[[ 3.0743828   0.21119468  0.2897876  ... -0.01723758  0.14410731\n",
      "   0.08295103]\n",
      " [ 3.07339871  0.31406898 -0.31772263 ...  0.13707631 -0.48238849\n",
      "  -0.26413384]\n",
      " [ 2.7561411  -0.17661887  0.3482378  ...  0.04766107  0.29137356\n",
      "   0.25501114]\n",
      " ...\n",
      " [ 3.50215242 -0.42981492 -0.2417442  ...  0.2440669  -0.8196519\n",
      "   0.40758181]\n",
      " [ 3.15295237  0.16173632  0.48228902 ... -0.38697509  0.26500825\n",
      "   0.02762645]\n",
      " [ 2.86219305  0.28169993 -0.04602209 ...  0.20942362  0.41408605\n",
      "   0.12484578]]\n"
     ]
    }
   ],
   "source": [
    "import numpy as np\n",
    "from sklearn.decomposition import TruncatedSVD\n",
    "\n",
    "A = np.random.rand(1000, 35)\n",
    "print(A)\n",
    "\n",
    "U, s, VT = np.linalg.svd(A)\n",
    "\n",
    "print(s)\n",
    "\n",
    "svd = TruncatedSVD(n_components=12)\n",
    "svd.fit(A)\n",
    "result = svd.transform(A)\n",
    "print(result.shape)\n",
    "print(result)"
   ]
  },
  {
   "cell_type": "markdown",
   "metadata": {
    "collapsed": false
   },
   "source": [
    "# Probability Space 概率空间\n",
    "\n",
    "**概率空间**由三部分组成，可以表示为$S(\\Omega,\\mathcal F,P)$\n",
    "- $\\Omega$, a sample space, which is the set of all possible outcomes\n",
    "- $\\mathcal F$, a set of events, where each event is a set containing zero or more outcomes\n",
    "- $P$, a function, the assignment of probabilitys to the events\n",
    "\n",
    "> **event** is a set of outcomes of an experiment(a subset of the sample space) to which a probability is assigned.\n",
    "\n",
    "# Random Variable 随机变量\n",
    "\n",
    "【随机变量】是一个函数，它的值是随机现象可能的结果\n",
    "\n",
    "## 离散随机变量\n",
    "\n",
    "## 连续随机变量\n",
    "\n",
    "# Probability Mass Function 概率质量函数\n",
    "\n",
    "在概率论中，【概率质量函数】是离散随机变量在各特定取值上的概率。\n",
    "\n",
    "【概率质量函数】和【概率密度函数】的不同处在于：概率质量函数是对离散随机变量定义的，本身代表该值的概率；【概率密度函数】是对连续随机变量定义的，本身不是概率，只是对连续随机变量的概率密度函数在某区间内进行积分后才是概率。\n",
    "\n",
    "# Probability Density Function 概率密度函数\n",
    "\n",
    "# Cumulative Distrubution Function 累积分布函数\n",
    "\n",
    "【累积分布函数】在连续随机变量中表示的是【概率密度函数】的积分"
   ]
  },
  {
   "cell_type": "markdown",
   "metadata": {
    "collapsed": false
   },
   "source": [
    "# Distributions 分布\n",
    "\n",
    "## Uniform Distribution 均匀分布\n",
    "\n",
    "均匀分布的概念是，随机变量 X 落在[a, b]的子区间内的概率只与子区间的长度有关，而与子区间的位置无关，因此 X 落在[a, b]的长度相等的子区间内的可能性（概率）是相等的，所谓的均匀指的是这种等的可能性。"
   ]
  },
  {
   "cell_type": "code",
   "execution_count": 2,
   "metadata": {
    "collapsed": false
   },
   "outputs": [
    {
     "name": "stdout",
     "output_type": "stream",
     "text": [
      "[-0.18685721 -0.5285378  -0.70130484 -0.15368974 -0.00701209 -0.8142663\n",
      " -0.70141784 -0.36329621 -0.31261013 -0.27003619]\n"
     ]
    }
   ],
   "source": [
    "import numpy as np\n",
    "\n",
    "s = np.random.uniform(-1, 0, 10)\n",
    "print(s)"
   ]
  },
  {
   "cell_type": "code",
   "execution_count": 4,
   "metadata": {
    "collapsed": false
   },
   "outputs": [
    {
     "name": "stdout",
     "output_type": "stream",
     "text": [
      "[[-0.09013486  0.32454896 -0.56611436 -0.77180248 -0.24307679]\n",
      " [-0.7390056  -0.92967276 -0.98650257 -0.69183113  0.42252714]\n",
      " [ 0.16276141  0.30548587 -0.32196765 -0.26457188 -0.56341332]]\n"
     ]
    }
   ],
   "source": [
    "import numpy as np\n",
    "\n",
    "s = np.random.uniform(-1, 1, (3,5))\n",
    "print(s)"
   ]
  },
  {
   "cell_type": "markdown",
   "metadata": {
    "collapsed": false
   },
   "source": [
    "## Normal Distribution 正态分布（高斯分布）\n",
    "\n",
    "source: [maths is fun](https://www.mathsisfun.com/data/standard-normal-distribution.html)\n",
    "\n",
    "**正态分布** 具有以下特征：\n",
    "- mean = median = mode\n",
    "- symmetry about the center 基于中心对称\n",
    "- 50%的值小于平均值（mean），50%的值大于平均值\n",
    "\n",
    "![alt text](https://www.mathsisfun.com/data/images/normal-distribution-2.svg \"Normal Distribution\")\n",
    "\n",
    "### Standard Deviations 标准差\n",
    "\n",
    "以下是标准差与正态分布的关系\n",
    "\n",
    "- **68%** 的值在基于平均值的一个标准差内\n",
    "- **95%** 的值在基于平均值的两个标准差内\n",
    "- **99.7%** 的值在基于平均值的三个标准差内\n",
    "\n",
    "![alt text](https://www.mathsisfun.com/data/images/normal-distrubution-3sds.svg)\n",
    "\n",
    "- **贝尔曲线**的是标准差的区间指分布图，可直接取值进行计算：\n",
    "\n",
    "![alt text](https://www.mathsisfun.com/data/images/normal-distrubution-large.svg)\n",
    "\n",
    "\n",
    "通过调整mean(区间均值) standard devaition(标准均差)，借助贝尔曲线的概率值，进行标准点定位后，精确运算；"
   ]
  },
  {
   "cell_type": "markdown",
   "metadata": {
    "collapsed": false
   },
   "source": [
    "# Covariance 协方差\n",
    "\n",
    "理解协方差可以通过这个网址[How would you explain covariance to someone who understands only the mean?](https://stats.stackexchange.com/questions/18058/how-would-you-explain-covariance-to-someone-who-understands-only-the-mean)"
   ]
  },
  {
   "cell_type": "markdown",
   "metadata": {
    "collapsed": false
   },
   "source": [
    "# 期望值"
   ]
  },
  {
   "cell_type": "markdown",
   "metadata": {
    "collapsed": false
   },
   "source": [
    "# Chebyshev's Inequality 切比雪夫不等式\n",
    "\n",
    "用于理解的资源：\n",
    "\n",
    "- [Chebyshev's Inequality](https://www.statlect.com/fundamentals-of-probability/Chebyshev-inequality)"
   ]
  },
  {
   "cell_type": "code",
   "execution_count": 0,
   "metadata": {
    "collapsed": false
   },
   "outputs": [
   ],
   "source": [
   ]
  }
 ],
 "metadata": {
  "kernelspec": {
   "display_name": "Python 3 (Ubuntu Linux)",
   "language": "python",
   "name": "python3"
  },
  "language_info": {
   "codemirror_mode": {
    "name": "ipython",
    "version": 3
   },
   "file_extension": ".py",
   "mimetype": "text/x-python",
   "name": "python",
   "nbconvert_exporter": "python",
   "pygments_lexer": "ipython3",
   "version": "3.6.7"
  }
 },
 "nbformat": 4,
 "nbformat_minor": 0
}