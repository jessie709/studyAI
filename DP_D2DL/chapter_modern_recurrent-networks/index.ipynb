{
 "cells": [
  {
   "cell_type": "markdown",
   "metadata": {},
   "source": [
    "# Modern Recurrent Networks\n",
    "\n",
    ":label:`chap_modern_rnn`\n",
    "\n",
    "\n",
    "Although we have learned the basics of recurrent neural networks,\n",
    "they are not sufficient for a practitioner to solve today's sequence learning problems.\n",
    "For instance, given the numerical unstability during gradient calculation,\n",
    "gated recurrent neural networks much more common in practice.\n",
    "We will begin by introducing two of such widely-used networks,\n",
    "namely gated recurrent units (GRUs) and long short term memory (LSTM),\n",
    "with illustrations using the same language modeling problem as introduced in :numref:`chap_rnn`.\n",
    "\n",
    "Furthermore, we will modify recurrent neural networks\n",
    "with a single undirectional hidden layer.\n",
    "We will describe deep architectures,\n",
    "and discuss the bidirectional design with both forward and backward recursion.\n",
    "They are frequently adopted in modern recurrent networks.\n",
    "\n",
    "\n",
    "In fact, a large portion of sequence learning problems \n",
    "such as automatic speech recognition, text to speech, and machine translation,\n",
    "consider both inputs and outputs to be sequences of arbitrary length.\n",
    "Finally, we will take machine translation as an example,\n",
    "and introduce the encoder-decoder architecture based on\n",
    "recurrent neural networks and modern practices for such sequence to sequence learning problems."
   ]
  },
  {
   "cell_type": "markdown",
   "metadata": {},
   "source": [
    "```toc\n",
    ":maxdepth: 2\n",
    "\n",
    "gru\n",
    "lstm\n",
    "deep-rnn\n",
    "bi-rnn\n",
    "machine-translation\n",
    "encoder-decoder\n",
    "seq2seq\n",
    "beam-search\n",
    "```\n"
   ]
  }
 ],
 "metadata": {
  "language_info": {
   "name": "python"
  }
 },
 "nbformat": 4,
 "nbformat_minor": 2
}