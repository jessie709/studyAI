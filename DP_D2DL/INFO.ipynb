{
 "cells": [
  {
   "cell_type": "markdown",
   "metadata": {},
   "source": [
    "# Building\n",
    "\n",
    "## Building without Evaluation\n",
    "\n",
    "Change `eval_notebook = True` to `eval_notebook = False` in `config.ini`.\n",
    "\n",
    "\n",
    "## Building PDF"
   ]
  },
  {
   "cell_type": "markdown",
   "metadata": {},
   "source": [
    "```\n",
    "# Install d2lbook\n",
    "pip install git+https://github.com/d2l-ai/d2l-book\n",
    "\n",
    "sudo apt-get install texlive-full\n",
    "sudo apt-get install librsvg2-bin\n",
    "sudo apt-get install pandoc  # If not working, conda install pandoc\n",
    "\n",
    "# To import d2l\n",
    "python setup.py develop\n",
    "\n",
    "# Build PDF\n",
    "d2lbook build pdf\n",
    "```\n"
   ]
  },
  {
   "cell_type": "markdown",
   "metadata": {},
   "source": [
    "### Fonts for PDF"
   ]
  },
  {
   "cell_type": "markdown",
   "metadata": {},
   "source": [
    "```\n",
    "wget https://raw.githubusercontent.com/d2l-ai/utils/master/install_fonts.sh\n",
    "sudo bash install_fonts.sh\n",
    "```\n"
   ]
  },
  {
   "cell_type": "markdown",
   "metadata": {},
   "source": [
    "## Building HTML"
   ]
  },
  {
   "cell_type": "markdown",
   "metadata": {},
   "source": [
    "```\n",
    "d2lbook build html\n",
    "```\n"
   ]
  }
 ],
 "metadata": {
  "language_info": {
   "name": "python"
  }
 },
 "nbformat": 4,
 "nbformat_minor": 2
}