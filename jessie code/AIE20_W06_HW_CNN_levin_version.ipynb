{
 "cells": [
  {
   "cell_type": "markdown",
   "metadata": {},
   "source": [
    "# 计算输出特征图\n",
    "\n",
    "**假设：**\n",
    "\n",
    "> - 正方形的 方形的 输入 特征图 特征图 的大小为 的大小为 I * I \n",
    "> - 正方形的 卷积核的大小为 f * f\n",
    "> - 步长 （stride）为 s\n",
    "> - 填充 （padding）的行数或者列为 p\n",
    "\n",
    "**问：**正方形的输出特征图的大小 （O * O）为多少？请列出相应的数学公式？\n",
    "\n",
    "**答：**\n",
    "\n",
    "- 在 'SAME' 即填充的情况下\n",
    "    - $O = ceil(\\frac{I}{s})$\n",
    "- 在 'VALID' 即不填充的情况下\n",
    "    - $O = ceil(\\frac{I-f+1}{s})$"
   ]
  },
  {
   "cell_type": "markdown",
   "metadata": {},
   "source": [
    "# 根据下图中描述的卷积神经网络参数搭建一个与之对应的卷积神经网络，实现 MNIST 手写数字识别\n",
    "\n",
    "![](../pics/AIE20_W06_HW_CNN_01.png)"
   ]
  },
  {
   "cell_type": "code",
   "execution_count": 4,
   "metadata": {
    "ExecuteTime": {
     "end_time": "2019-11-21T01:03:46.164600Z",
     "start_time": "2019-11-21T01:03:46.158600Z"
    }
   },
   "outputs": [],
   "source": [
    "import tensorflow as tf\n",
    "import numpy as np\n",
    "import os"
   ]
  },
  {
   "cell_type": "code",
   "execution_count": 5,
   "metadata": {
    "ExecuteTime": {
     "end_time": "2019-11-21T01:03:47.014600Z",
     "start_time": "2019-11-21T01:03:47.008600Z"
    }
   },
   "outputs": [],
   "source": [
    "lib_path = os.path.abspath('../libs/')\n",
    "if lib_path not in os.sys.path:\n",
    "    os.sys.path.append(lib_path)\n",
    "import input_data"
   ]
  },
  {
   "cell_type": "code",
   "execution_count": 6,
   "metadata": {
    "ExecuteTime": {
     "end_time": "2019-11-21T01:03:48.647600Z",
     "start_time": "2019-11-21T01:03:48.025600Z"
    }
   },
   "outputs": [
    {
     "name": "stdout",
     "output_type": "stream",
     "text": [
      "Extracting mnist_data\\train-images-idx3-ubyte.gz\n",
      "Extracting mnist_data\\train-labels-idx1-ubyte.gz\n",
      "Extracting mnist_data\\t10k-images-idx3-ubyte.gz\n",
      "Extracting mnist_data\\t10k-labels-idx1-ubyte.gz\n"
     ]
    }
   ],
   "source": [
    "################################################################################\n",
    "#\n",
    "# load data\n",
    "#\n",
    "################################################################################\n",
    "mnist = input_data.read_data_sets('mnist_data', one_hot=True)"
   ]
  },
  {
   "cell_type": "code",
   "execution_count": 7,
   "metadata": {
    "ExecuteTime": {
     "end_time": "2019-11-21T01:03:49.570600Z",
     "start_time": "2019-11-21T01:03:49.561600Z"
    }
   },
   "outputs": [
    {
     "name": "stdout",
     "output_type": "stream",
     "text": [
      "features shape is (1, 784) and data type is float32\n",
      " lable shape is (1, 10) and data type is float64\n"
     ]
    }
   ],
   "source": [
    "sample_features, sample_lable = mnist.train.next_batch(1)\n",
    "print(f'features shape is {sample_features.shape} and data type is {sample_features.dtype}\\n',\n",
    "      f'lable shape is {sample_lable.shape} and data type is {sample_lable.dtype}')"
   ]
  },
  {
   "cell_type": "code",
   "execution_count": 8,
   "metadata": {
    "ExecuteTime": {
     "end_time": "2019-11-21T01:03:51.830600Z",
     "start_time": "2019-11-21T01:03:51.825600Z"
    }
   },
   "outputs": [],
   "source": [
    "################################################################################\n",
    "#\n",
    "# initial tensorflow enviroment\n",
    "#\n",
    "################################################################################\n",
    "tf.reset_default_graph()"
   ]
  },
  {
   "cell_type": "code",
   "execution_count": 9,
   "metadata": {
    "ExecuteTime": {
     "end_time": "2019-11-21T01:03:54.506600Z",
     "start_time": "2019-11-21T01:03:54.306600Z"
    }
   },
   "outputs": [],
   "source": [
    "################################################################################\n",
    "#\n",
    "# declare parameters & function\n",
    "#\n",
    "################################################################################\n",
    "\n",
    "learning_rate = 0.1\n",
    "batch_size = 100\n",
    "training_epoch = 1000\n",
    "\n",
    "X_input = tf.placeholder(tf.float32,\n",
    "                         shape=[None, 28, 28, 1])\n",
    "Y_label = tf.placeholder(tf.float64,\n",
    "                         shape=[None, 10])\n",
    "\n",
    "\n",
    "def add_nn_layer(X,\n",
    "                 in_size,\n",
    "                 out_size,\n",
    "                 activation_function=None):\n",
    "    # weigths 使用随机正态分布初始化权重\n",
    "    W = tf.Variable(tf.random_normal(shape=[in_size, out_size]))\n",
    "    # bias 设置偏置单元的值为常量0.1\n",
    "    b = tf.Variable(tf.constant(0.1, shape=[1, out_size]))\n",
    "    # 计算：f = X product W + b\n",
    "    f = tf.add(tf.matmul(X, W), b)\n",
    "\n",
    "    return f if activation_function is None else activation_function(f)\n",
    "\n",
    "\n",
    "def add_convolutional_layer(X,\n",
    "                            in_channels,\n",
    "                            out_channels,\n",
    "                            filter_height,\n",
    "                            filter_width,\n",
    "                            stride,\n",
    "                            activation_function=None):\n",
    "    \"\"\"添加卷积层\n",
    "\n",
    "    Parameters:\n",
    "    -----------\n",
    "    X: 输入的数据 [batch, in_height, in_width, in_channels]\n",
    "    in_channels: 输入特征图（feature map）的数量\n",
    "    out_channels: 输出特征图（feature map）的数量\n",
    "    filter_hight: 过滤器卷积核的高度\n",
    "    filter_width：过滤器卷积核的宽度\n",
    "    stride: 步长\n",
    "    \"\"\"\n",
    "    # Filters 过滤器初始化\n",
    "    F = tf.Variable(tf.truncated_normal(shape=[filter_height,\n",
    "                                               filter_width,\n",
    "                                               in_channels,\n",
    "                                               out_channels]))\n",
    "    # bais 偏置单元初始化\n",
    "    b = tf.Variable(tf.constant(0.1, shape=[out_channels]))\n",
    "    # X [batch, in_height, in_width, in_channels]\n",
    "    # F [kernel_size kernel_size in_channels out_channels]\n",
    "    conv = tf.nn.conv2d(X,\n",
    "                        F,\n",
    "                        strides=[1, stride, stride, 1],\n",
    "                        padding='SAME')\n",
    "    output = conv if activation_function is None else activation_function(conv)\n",
    "\n",
    "    return tf.add(output, b)\n",
    "\n",
    "\n",
    "def add_pooling_layer(X,\n",
    "                      pool_height,\n",
    "                      pool_width,\n",
    "                      stride):\n",
    "    \"\"\"添加池化层\n",
    "\n",
    "    Parameters:\n",
    "    -----------\n",
    "    X: 输入数据 [batch_size] + input_spatial_shape + [num_channels]\n",
    "    pool_height: 池化核高度\n",
    "    pool_width: 池化核宽度\n",
    "    stride: 步长\n",
    "    \"\"\"\n",
    "    return tf.nn.max_pool(X,\n",
    "                          [1, pool_height, pool_width, 1],\n",
    "                          [1, stride, stride, 1],\n",
    "                          padding='SAME')"
   ]
  },
  {
   "cell_type": "code",
   "execution_count": 10,
   "metadata": {
    "ExecuteTime": {
     "end_time": "2019-11-21T01:03:56.383600Z",
     "start_time": "2019-11-21T01:03:55.947600Z"
    }
   },
   "outputs": [],
   "source": [
    "################################################################################\n",
    "#\n",
    "# constructed graph\n",
    "#\n",
    "################################################################################\n",
    "# 卷积层1\n",
    "# 输入数据 的维度 [-1, 28, 28, 1]\n",
    "# 输出数据的维度 [-1, 28, 28, 32]\n",
    "conv_1 = add_convolutional_layer(X_input,\n",
    "                                 in_channels=1,\n",
    "                                 out_channels=32,\n",
    "                                 filter_height=5,\n",
    "                                 filter_width=5,\n",
    "                                 stride=1,\n",
    "                                 activation_function=tf.nn.relu)\n",
    "# 池化层1\n",
    "# 输入数据 的维度 [-1, 28, 28, 32]\n",
    "# 输出数据的维度 [-1, 14, 14, 32]\n",
    "pool_1 = add_pooling_layer(conv_1,\n",
    "                           pool_height=2,\n",
    "                           pool_width=2,\n",
    "                           stride=2)\n",
    "# 卷积层2\n",
    "# 输入数据 的维度 [-1, 14, 14, 32]\n",
    "# 输出数据的维度 [-1, 14, 14, 64]\n",
    "conv_2 = add_convolutional_layer(pool_1,\n",
    "                                 in_channels=32,\n",
    "                                 out_channels=64,\n",
    "                                 filter_height=5,\n",
    "                                 filter_width=5,\n",
    "                                 stride=1,\n",
    "                                 activation_function=tf.nn.relu)\n",
    "# 池化层2\n",
    "# 输入数据 的维度 [-1, 14, 14, 64]\n",
    "# 输出数据的维度 [-1, 7, 7, 64]\n",
    "pool_2 = add_pooling_layer(conv_2,\n",
    "                           pool_height=2,\n",
    "                           pool_width=2,\n",
    "                           stride=2)\n",
    "# 打平数据\n",
    "# [-1, 7, 7, 64] -> [-1, 7*7*64]\n",
    "fc_X = tf.reshape(pool_2, shape=[-1, 7*7*64])\n",
    "# 全连接层1\n",
    "# 输入数据 的维度 [-1, 7*7*64]\n",
    "# 输出数据的维度 [-1, 1024]\n",
    "fc_1 = add_nn_layer(fc_X,\n",
    "                    in_size=7*7*64,\n",
    "                    out_size=1024,\n",
    "                    activation_function=tf.nn.relu)\n",
    "# 输出层\n",
    "# 输入数据 的维度 [-1, 1024]\n",
    "# 输出数据的维度 [-1, 10]\n",
    "output = add_nn_layer(fc_1,\n",
    "                      in_size=1024,\n",
    "                      out_size=10)\n",
    "# 损失函数\n",
    "loss_op = tf.losses.softmax_cross_entropy(onehot_labels=Y_label,logits=output)\n",
    "# 优化算法 梯度下降\n",
    "train_op = tf.train.GradientDescentOptimizer(\n",
    "    learning_rate=learning_rate).minimize(loss_op)\n",
    "# 初始化数据operator\n",
    "init_op = tf.global_variables_initializer()"
   ]
  },
  {
   "cell_type": "code",
   "execution_count": 12,
   "metadata": {
    "ExecuteTime": {
     "end_time": "2019-11-21T01:44:13.899204Z",
     "start_time": "2019-11-21T01:40:28.348004Z"
    }
   },
   "outputs": [
    {
     "name": "stdout",
     "output_type": "stream",
     "text": [
      "0.87\n",
      "0.85\n",
      "0.85\n",
      "0.85\n",
      "0.85\n",
      "0.85\n",
      "0.85\n",
      "0.85\n",
      "0.85\n",
      "0.85\n"
     ]
    }
   ],
   "source": [
    "################################################################################\n",
    "#\n",
    "# executed graph\n",
    "#\n",
    "################################################################################\n",
    "with tf.Session() as sess:\n",
    "#     writer = tf.summary.FileWriter('../graphs', sess.graph)\n",
    "    sess.run(init_op)\n",
    "    for epoch in range(training_epoch):\n",
    "        x, y = mnist.train.next_batch(batch_size=batch_size)\n",
    "        x = x.reshape([batch_size, 28, 28, 1])\n",
    "        sess.run(train_op,\n",
    "                 feed_dict={X_input: x,\n",
    "                            Y_label: y})\n",
    "        if epoch % 100 == 0:\n",
    "            test_number = 1000\n",
    "            test_data = mnist.test.images[:test_number]\n",
    "            test_data = test_data.reshape([test_number, 28, 28, 1])\n",
    "            pred = sess.run(output,\n",
    "                            feed_dict={X_input: test_data})\n",
    "            result = tf.argmax(pred, 1)\n",
    "            label = tf.argmax(mnist.test.labels[:test_number], 1)\n",
    "            accuracy = sess.run(\n",
    "                tf.reduce_sum(\n",
    "                    tf.cast(tf.equal(result, label),\n",
    "                            tf.int32)) / batch_size)\n",
    "            print(accuracy)"
   ]
  },
  {
   "cell_type": "markdown",
   "metadata": {},
   "source": [
    "![](../pics/AIE20_W06_HW_CNN_02.png)"
   ]
  },
  {
   "cell_type": "code",
   "execution_count": null,
   "metadata": {},
   "outputs": [],
   "source": []
  }
 ],
 "metadata": {
  "kernelspec": {
   "display_name": "Python 3",
   "language": "python",
   "name": "python3"
  },
  "language_info": {
   "codemirror_mode": {
    "name": "ipython",
    "version": 3
   },
   "file_extension": ".py",
   "mimetype": "text/x-python",
   "name": "python",
   "nbconvert_exporter": "python",
   "pygments_lexer": "ipython3",
   "version": "3.6.9"
  },
  "toc": {
   "base_numbering": 1,
   "nav_menu": {},
   "number_sections": true,
   "sideBar": true,
   "skip_h1_title": true,
   "title_cell": "Table of Contents",
   "title_sidebar": "Contents",
   "toc_cell": false,
   "toc_position": {},
   "toc_section_display": true,
   "toc_window_display": false
  }
 },
 "nbformat": 4,
 "nbformat_minor": 2
}
