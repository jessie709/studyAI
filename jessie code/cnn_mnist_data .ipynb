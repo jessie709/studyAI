{
 "cells": [
  {
   "cell_type": "markdown",
   "metadata": {},
   "source": [
    "# 神经网路 Neural Network\n",
    "## 卷积神经网络 Convolutinal Neural Network\n",
    "### 卷积神经网络的基本组件: 卷积层, 池化层, 全连接\n",
    "### 滤波器(filter), 卷积核(kernal),通道(channel)\n",
    "### 步长(stride), 填充(Padding), 特种图(feature map)"
   ]
  },
  {
   "cell_type": "code",
   "execution_count": 1,
   "metadata": {
    "ExecuteTime": {
     "end_time": "2019-11-21T02:00:02.997559Z",
     "start_time": "2019-11-21T01:59:59.087383Z"
    }
   },
   "outputs": [
    {
     "name": "stderr",
     "output_type": "stream",
     "text": [
      "/Users/jessie/opt/anaconda3/envs/tf1.8/lib/python3.6/site-packages/tensorflow/python/framework/dtypes.py:519: FutureWarning: Passing (type, 1) or '1type' as a synonym of type is deprecated; in a future version of numpy, it will be understood as (type, (1,)) / '(1,)type'.\n",
      "  _np_qint8 = np.dtype([(\"qint8\", np.int8, 1)])\n",
      "/Users/jessie/opt/anaconda3/envs/tf1.8/lib/python3.6/site-packages/tensorflow/python/framework/dtypes.py:520: FutureWarning: Passing (type, 1) or '1type' as a synonym of type is deprecated; in a future version of numpy, it will be understood as (type, (1,)) / '(1,)type'.\n",
      "  _np_quint8 = np.dtype([(\"quint8\", np.uint8, 1)])\n",
      "/Users/jessie/opt/anaconda3/envs/tf1.8/lib/python3.6/site-packages/tensorflow/python/framework/dtypes.py:521: FutureWarning: Passing (type, 1) or '1type' as a synonym of type is deprecated; in a future version of numpy, it will be understood as (type, (1,)) / '(1,)type'.\n",
      "  _np_qint16 = np.dtype([(\"qint16\", np.int16, 1)])\n",
      "/Users/jessie/opt/anaconda3/envs/tf1.8/lib/python3.6/site-packages/tensorflow/python/framework/dtypes.py:522: FutureWarning: Passing (type, 1) or '1type' as a synonym of type is deprecated; in a future version of numpy, it will be understood as (type, (1,)) / '(1,)type'.\n",
      "  _np_quint16 = np.dtype([(\"quint16\", np.uint16, 1)])\n",
      "/Users/jessie/opt/anaconda3/envs/tf1.8/lib/python3.6/site-packages/tensorflow/python/framework/dtypes.py:523: FutureWarning: Passing (type, 1) or '1type' as a synonym of type is deprecated; in a future version of numpy, it will be understood as (type, (1,)) / '(1,)type'.\n",
      "  _np_qint32 = np.dtype([(\"qint32\", np.int32, 1)])\n",
      "/Users/jessie/opt/anaconda3/envs/tf1.8/lib/python3.6/site-packages/tensorflow/python/framework/dtypes.py:528: FutureWarning: Passing (type, 1) or '1type' as a synonym of type is deprecated; in a future version of numpy, it will be understood as (type, (1,)) / '(1,)type'.\n",
      "  np_resource = np.dtype([(\"resource\", np.ubyte, 1)])\n"
     ]
    }
   ],
   "source": [
    "import tensorflow as tf\n",
    "import input_data\n",
    "import numpy as np"
   ]
  },
  {
   "cell_type": "code",
   "execution_count": null,
   "metadata": {},
   "outputs": [],
   "source": [
    "num_class=10\n",
    "batch_size=100\n",
    "\n",
    "slim = tf.contrib.slim"
   ]
  },
  {
   "cell_type": "code",
   "execution_count": null,
   "metadata": {},
   "outputs": [],
   "source": [
    "X_batch = tf.placeholder(tf.float32,shape=[None,28,28,1])\n",
    "Y_batch = tf.placeholder(tf.float32,shape=[None,10])"
   ]
  },
  {
   "cell_type": "code",
   "execution_count": null,
   "metadata": {},
   "outputs": [],
   "source": [
    "def weight_variable(shape):\n",
    "    return tf.Variable(tf.truncated_normal(shape=shape))"
   ]
  },
  {
   "cell_type": "code",
   "execution_count": null,
   "metadata": {},
   "outputs": [],
   "source": [
    "def biase_variable(shape):\n",
    "    return tf.Variable(tf.constant(0.1,shape=shape))"
   ]
  },
  {
   "cell_type": "code",
   "execution_count": null,
   "metadata": {},
   "outputs": [],
   "source": [
    "def conv_2d(input,in_size,out_size,ksize,stride):\n",
    "    weight = tf.Variable(tf.truncated_normal(shape=[ksize,ksize,in_size,out_size]))\n",
    "    biase = tf.Variable(tf.constant(0.1,shape=[out_size]))\n",
    "    conv=tf.nn.conv2d(input,weight,[1,stride,stride,1],padding=\"SAME\")\n",
    "    output=tf.nn.relu(tf.add(conv,biase))\n",
    "    return output"
   ]
  },
  {
   "cell_type": "code",
   "execution_count": null,
   "metadata": {},
   "outputs": [],
   "source": [
    "def max_pool_2x2(input,ksize,stride):\n",
    "    return tf.nn.max_pool(input,[1,ksize,ksize,1],[1,stride,stride,1],padding=\"SAME\")"
   ]
  },
  {
   "cell_type": "code",
   "execution_count": null,
   "metadata": {},
   "outputs": [],
   "source": [
    "#conv1\n",
    "#W_conv1=weight_viriable([3,3,1,32])   #28*28*1\n",
    "#b_conv1=bias_viriable([32])\n",
    "#h_conv1=tf.nn.relu(conv2d(X_batch,W_conv1)+b_conv1)\n",
    "h_conv1 = conv_2d(X_batch,in_size=1,out_size=32,ksize=5,stride=1)\n",
    "h_pool1=max_pool_2x2(h_conv1,ksize=2,stride=2)    #14*14*32"
   ]
  },
  {
   "cell_type": "code",
   "execution_count": null,
   "metadata": {},
   "outputs": [],
   "source": [
    "#conv2\n",
    "#W_conv2=weight_viriable([3,3,32,64])  \n",
    "#b_conv2=bias_viriable([64])\n",
    "#h_conv2=tf.nn.relu(conv2d(h_pool1,W_conv2)+b_conv2)\n",
    "h_conv2 = conv_2d(h_pool1,in_size=32,out_size=64,ksize=5,stride=1)\n",
    "h_pool2=max_pool_2x2(h_conv2,ksize=2,stride=2)    #7*7*64"
   ]
  },
  {
   "cell_type": "code",
   "execution_count": null,
   "metadata": {},
   "outputs": [],
   "source": [
    "#fc1\n",
    "W_fc1=weight_variable([7*7*64,1024])\n",
    "b_fc1=biase_variable([1024])\n",
    "h_pool2_flat=tf.reshape(h_pool2,shape=[-1,7*7*64])\n",
    "h_fc1 = tf.nn.relu(tf.matmul(h_pool2_flat,W_fc1)+b_fc1)"
   ]
  },
  {
   "cell_type": "code",
   "execution_count": null,
   "metadata": {},
   "outputs": [],
   "source": [
    "#fc2\n",
    "W_fc2=weight_variable([1024,10])\n",
    "b_fc2=biase_variable([10])\n",
    "prediction_op = tf.matmul(h_fc1,W_fc2)+b_fc2"
   ]
  },
  {
   "cell_type": "code",
   "execution_count": null,
   "metadata": {},
   "outputs": [],
   "source": [
    "loss_op = tf.losses.softmax_cross_entropy(onehot_labels=Y_batch,logits=prediction_op)\n",
    "train_op = tf.train.GradientDescentOptimizer(0.1).minimize(loss_op)\n",
    "\n",
    "init_op = tf.global_variables_initializer()"
   ]
  },
  {
   "cell_type": "code",
   "execution_count": null,
   "metadata": {},
   "outputs": [],
   "source": [
    "mnist = input_data.read_data_sets(\"mnist_data\",one_hot=True)"
   ]
  },
  {
   "cell_type": "code",
   "execution_count": 17,
   "metadata": {},
   "outputs": [
    {
     "name": "stdout",
     "output_type": "stream",
     "text": [
      "0.85\n",
      "1.26\n",
      "1.07\n",
      "1.26\n",
      "0.89\n",
      "1.26\n",
      "1.26\n",
      "1.26\n",
      "1.26\n",
      "1.26\n"
     ]
    }
   ],
   "source": [
    "with tf.Session() as sess:\n",
    "    sess.run(init_op)\n",
    "    for i in np.arange(1000):\n",
    "        xs, ys = mnist.train.next_batch(batch_size)\n",
    "        xs_reshape = xs.reshape([batch_size,28,28,1])\n",
    "        _,loss = sess.run([train_op, loss_op], feed_dict={X_batch:xs_reshape, Y_batch:ys})\n",
    "\n",
    "        if i%100 == 0:\n",
    "            test_data = mnist.test.images[:1000]\n",
    "            test_reshape = test_data.reshape([1000,28,28,1])\n",
    "            pred = sess.run(prediction_op,feed_dict={X_batch:test_reshape, Y_batch:mnist.test.labels[:1000]})\n",
    "            result = tf.arg_max(pred, 1)\n",
    "            label = tf.arg_max(mnist.test.labels[:1000],1)\n",
    "            #print(sess.run(result))\n",
    "            #print(sess.run(label))\n",
    "            accuracy = sess.run(tf.reduce_sum(tf.cast(tf.equal(result,label),tf.int32))/batch_size)\n",
    "            print(accuracy)"
   ]
  },
  {
   "cell_type": "code",
   "execution_count": null,
   "metadata": {},
   "outputs": [],
   "source": []
  }
 ],
 "metadata": {
  "kernelspec": {
   "display_name": "Python 3",
   "language": "python",
   "name": "python3"
  },
  "language_info": {
   "codemirror_mode": {
    "name": "ipython",
    "version": 3
   },
   "file_extension": ".py",
   "mimetype": "text/x-python",
   "name": "python",
   "nbconvert_exporter": "python",
   "pygments_lexer": "ipython3",
   "version": "3.6.9"
  },
  "toc": {
   "base_numbering": 1,
   "nav_menu": {},
   "number_sections": true,
   "sideBar": true,
   "skip_h1_title": false,
   "title_cell": "Table of Contents",
   "title_sidebar": "Contents",
   "toc_cell": false,
   "toc_position": {},
   "toc_section_display": true,
   "toc_window_display": true
  }
 },
 "nbformat": 4,
 "nbformat_minor": 2
}
