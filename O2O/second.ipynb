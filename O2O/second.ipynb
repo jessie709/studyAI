{
 "cells": [
  {
   "cell_type": "code",
   "execution_count": 129,
   "metadata": {},
   "outputs": [],
   "source": [
    "import pandas as pd\n",
    "import numpy as np\n",
    "\n",
    "# load data\n",
    "dfoff = pd.read_csv('./ccf_offline_stage1_train.csv', parse_dates=[5, 6])\n",
    "dfTest = pd.read_csv('./ccf_offline_stage1_test_revised.csv')"
   ]
  },
  {
   "cell_type": "code",
   "execution_count": 130,
   "metadata": {},
   "outputs": [],
   "source": [
    "# 删除 Coupon_id 为空的样本\n",
    "dfoff = dfoff.dropna(subset=['Coupon_id'])"
   ]
  },
  {
   "cell_type": "code",
   "execution_count": 131,
   "metadata": {},
   "outputs": [],
   "source": [
    "# define function\n",
    "\n",
    "def getDiscountType(row):\n",
    "    if pd.isnull(row):\n",
    "        return np.nan\n",
    "    elif ':' in row:\n",
    "        return 1\n",
    "    else:\n",
    "        return 0\n",
    "\n",
    "def covertRate(row):\n",
    "    if pd.isnull(row):\n",
    "        return 1.0\n",
    "    elif ':' in str(row):\n",
    "        rows = row.split(':')\n",
    "        return 1.0 - float(rows[1]) / float(rows[0])\n",
    "    else:\n",
    "        return float(row)\n",
    "\n",
    "def getDiscountMan(row):\n",
    "    if ':' in str(row):\n",
    "        rows = row.split(':')\n",
    "        return int(rows[0])\n",
    "    else:\n",
    "        return 0\n",
    "    \n",
    "def getDiscountJian(row):\n",
    "    if ':' in str(row):\n",
    "        rows = row.split(':')\n",
    "        return int(rows[1])\n",
    "    else:\n",
    "        return 0"
   ]
  },
  {
   "cell_type": "code",
   "execution_count": 132,
   "metadata": {},
   "outputs": [],
   "source": [
    "def processData(df):\n",
    "    # coverate discount_rate\n",
    "    df['discount_rate'] = df['Discount_rate'].apply(covertRate)\n",
    "    df['discount_man'] = df['Discount_rate'].apply(getDiscountMan)\n",
    "    df['discount_jian'] = df['Discount_rate'].apply(getDiscountJian)\n",
    "    df['discount_type'] = df['Discount_rate'].apply(getDiscountType)\n",
    "    df['distance'] = df['Distance'].fillna(-1).astype(int)"
   ]
  },
  {
   "cell_type": "code",
   "execution_count": 133,
   "metadata": {
    "scrolled": true
   },
   "outputs": [],
   "source": [
    "processData(dfoff)\n",
    "processData(dfTest)\n",
    "\n",
    "# 计算 lable\n",
    "# Date - Date_received <=15 赋值1 正样本；其他为0 负样本\n",
    "dfoff['lable'] = np.where((dfoff['Date'] - dfoff['Date_received']).dt.days <= 15, 1, 0)"
   ]
  },
  {
   "cell_type": "code",
   "execution_count": 134,
   "metadata": {},
   "outputs": [],
   "source": [
    "# 处理 空值\n",
    "#dfoff['Coupon_id'] = dfoff['Coupon_id'].fillna(0).astype(int)\n",
    "dfoff['discount_type'] = dfoff['discount_type'].fillna(-1).astype(int)"
   ]
  },
  {
   "cell_type": "code",
   "execution_count": 135,
   "metadata": {},
   "outputs": [
    {
     "name": "stdout",
     "output_type": "stream",
     "text": [
      "<class 'pandas.core.frame.DataFrame'>\n",
      "Int64Index: 1053282 entries, 1 to 1754883\n",
      "Data columns (total 13 columns):\n",
      "User_id          1053282 non-null int64\n",
      "Merchant_id      1053282 non-null int64\n",
      "Coupon_id        1053282 non-null float64\n",
      "Discount_rate    1053282 non-null object\n",
      "Distance         947279 non-null float64\n",
      "Date_received    1053282 non-null datetime64[ns]\n",
      "Date             75382 non-null datetime64[ns]\n",
      "discount_rate    1053282 non-null float64\n",
      "discount_man     1053282 non-null int64\n",
      "discount_jian    1053282 non-null int64\n",
      "discount_type    1053282 non-null int64\n",
      "distance         1053282 non-null int64\n",
      "lable            1053282 non-null int64\n",
      "dtypes: datetime64[ns](2), float64(3), int64(7), object(1)\n",
      "memory usage: 112.5+ MB\n",
      "<class 'pandas.core.frame.DataFrame'>\n",
      "RangeIndex: 113640 entries, 0 to 113639\n",
      "Data columns (total 11 columns):\n",
      "User_id          113640 non-null int64\n",
      "Merchant_id      113640 non-null int64\n",
      "Coupon_id        113640 non-null int64\n",
      "Discount_rate    113640 non-null object\n",
      "Distance         101576 non-null float64\n",
      "Date_received    113640 non-null int64\n",
      "discount_rate    113640 non-null float64\n",
      "discount_man     113640 non-null int64\n",
      "discount_jian    113640 non-null int64\n",
      "discount_type    113640 non-null int64\n",
      "distance         113640 non-null int64\n",
      "dtypes: float64(2), int64(8), object(1)\n",
      "memory usage: 9.5+ MB\n"
     ]
    }
   ],
   "source": [
    "dfoff.info(null_counts=True)\n",
    "dfTest.info()"
   ]
  },
  {
   "cell_type": "code",
   "execution_count": 166,
   "metadata": {},
   "outputs": [],
   "source": [
    "# 创建样本特征和标签\n",
    "features = ['User_id', 'Merchant_id', 'Coupon_id', 'discount_rate', \n",
    "        'discount_man', 'discount_jian', 'discount_type', 'distance']\n",
    "X = dfoff[features]\n",
    "y = dfoff['lable']"
   ]
  },
  {
   "cell_type": "code",
   "execution_count": 167,
   "metadata": {},
   "outputs": [],
   "source": [
    "# 将样本数据拆分\n",
    "from sklearn.model_selection import train_test_split\n",
    "X_train, X_test, y_train, y_test = train_test_split(X, y)"
   ]
  },
  {
   "cell_type": "code",
   "execution_count": 168,
   "metadata": {},
   "outputs": [
    {
     "name": "stderr",
     "output_type": "stream",
     "text": [
      "/Users/levin/anaconda3/lib/python3.6/site-packages/sklearn/linear_model/stochastic_gradient.py:144: FutureWarning: max_iter and tol parameters have been added in SGDClassifier in 0.19. If both are left unset, they default to max_iter=5 and tol=None. If tol is not None, max_iter defaults to max_iter=1000. From 0.21, default max_iter will be 1000, and default tol will be 1e-3.\n",
      "  FutureWarning)\n"
     ]
    },
    {
     "data": {
      "text/plain": [
       "SGDClassifier(alpha=0.0001, average=False, class_weight=None,\n",
       "       early_stopping=False, epsilon=0.1, eta0=0.0, fit_intercept=True,\n",
       "       l1_ratio=0.15, learning_rate='optimal', loss='log', max_iter=None,\n",
       "       n_iter=None, n_iter_no_change=5, n_jobs=None, penalty='l2',\n",
       "       power_t=0.5, random_state=None, shuffle=True, tol=None,\n",
       "       validation_fraction=0.1, verbose=0, warm_start=False)"
      ]
     },
     "execution_count": 168,
     "metadata": {},
     "output_type": "execute_result"
    }
   ],
   "source": [
    "# 训练模型\n",
    "from sklearn.linear_model import SGDClassifier\n",
    "\n",
    "model = SGDClassifier(\n",
    "    loss='log',\n",
    "#     penalty='elasticnet',\n",
    "#     fit_intercept=True,\n",
    "#     max_iter=100,\n",
    "#     shuffle=True,\n",
    "#     alpha = 0.01,\n",
    "#     l1_ratio = 0.01,\n",
    "#     n_jobs=1,\n",
    "#     class_weight=None\n",
    ")\n",
    "\n",
    "model.fit(X_train, y_train)"
   ]
  },
  {
   "cell_type": "code",
   "execution_count": 169,
   "metadata": {},
   "outputs": [
    {
     "name": "stdout",
     "output_type": "stream",
     "text": [
      "0.8244765894098838\n"
     ]
    }
   ],
   "source": [
    "score = model.score(X_test, y_test)\n",
    "print(score)"
   ]
  },
  {
   "cell_type": "code",
   "execution_count": 170,
   "metadata": {},
   "outputs": [
    {
     "data": {
      "text/plain": [
       "array([[0., 1.],\n",
       "       [1., 0.],\n",
       "       [1., 0.],\n",
       "       ...,\n",
       "       [1., 0.],\n",
       "       [0., 1.],\n",
       "       [1., 0.]])"
      ]
     },
     "execution_count": 170,
     "metadata": {},
     "output_type": "execute_result"
    }
   ],
   "source": [
    "# 预测\n",
    "proba = model.predict_proba(dfTest[features])\n",
    "proba"
   ]
  },
  {
   "cell_type": "code",
   "execution_count": null,
   "metadata": {},
   "outputs": [],
   "source": []
  }
 ],
 "metadata": {
  "kernelspec": {
   "display_name": "Python 3",
   "language": "python",
   "name": "python3"
  },
  "language_info": {
   "codemirror_mode": {
    "name": "ipython",
    "version": 3
   },
   "file_extension": ".py",
   "mimetype": "text/x-python",
   "name": "python",
   "nbconvert_exporter": "python",
   "pygments_lexer": "ipython3",
   "version": "3.6.5"
  }
 },
 "nbformat": 4,
 "nbformat_minor": 2
}
