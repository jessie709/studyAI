{
 "cells": [
  {
   "cell_type": "code",
   "execution_count": 1,
   "metadata": {},
   "outputs": [],
   "source": [
    "import numpy as np\n",
    "import tensorflow as tf"
   ]
  },
  {
   "cell_type": "code",
   "execution_count": 2,
   "metadata": {},
   "outputs": [],
   "source": [
    "def get_input_fn(dataset_split, batch_size, capacity=10000, min_after_dequeue=3000):\n",
    "\n",
    "  def _input_fn():\n",
    "    images_batch, labels_batch = tf.train.shuffle_batch(\n",
    "        tensors=[dataset_split.images, dataset_split.labels.astype(np.int32)],\n",
    "        batch_size=batch_size,\n",
    "        capacity=capacity,\n",
    "        min_after_dequeue=min_after_dequeue,\n",
    "        enqueue_many=True,\n",
    "        num_threads=4)\n",
    "    features_map = {'images': images_batch}\n",
    "    return features_map, labels_batch\n",
    "\n",
    "  return _input_fn"
   ]
  },
  {
   "cell_type": "code",
   "execution_count": 3,
   "metadata": {},
   "outputs": [
    {
     "name": "stdout",
     "output_type": "stream",
     "text": [
      "\n",
      "WARNING: The TensorFlow contrib module will not be included in TensorFlow 2.0.\n",
      "For more information, please see:\n",
      "  * https://github.com/tensorflow/community/blob/master/rfcs/20180907-contrib-sunset.md\n",
      "  * https://github.com/tensorflow/addons\n",
      "If you depend on functionality not listed there, please file an issue.\n",
      "\n",
      "WARNING:tensorflow:From <ipython-input-3-3fb369d135d5>:1: load_mnist (from tensorflow.contrib.learn.python.learn.datasets.mnist) is deprecated and will be removed in a future version.\n",
      "Instructions for updating:\n",
      "Please use alternatives such as official/mnist/dataset.py from tensorflow/models.\n",
      "WARNING:tensorflow:From /Users/wind/WORK/venv/my_scikit_learn/lib/python2.7/site-packages/tensorflow/contrib/learn/python/learn/datasets/mnist.py:300: read_data_sets (from tensorflow.contrib.learn.python.learn.datasets.mnist) is deprecated and will be removed in a future version.\n",
      "Instructions for updating:\n",
      "Please use alternatives such as official/mnist/dataset.py from tensorflow/models.\n",
      "WARNING:tensorflow:From /Users/wind/WORK/venv/my_scikit_learn/lib/python2.7/site-packages/tensorflow/contrib/learn/python/learn/datasets/mnist.py:260: maybe_download (from tensorflow.contrib.learn.python.learn.datasets.base) is deprecated and will be removed in a future version.\n",
      "Instructions for updating:\n",
      "Please write your own downloading logic.\n",
      "WARNING:tensorflow:From /Users/wind/WORK/venv/my_scikit_learn/lib/python2.7/site-packages/tensorflow/contrib/learn/python/learn/datasets/mnist.py:262: extract_images (from tensorflow.contrib.learn.python.learn.datasets.mnist) is deprecated and will be removed in a future version.\n",
      "Instructions for updating:\n",
      "Please use tf.data to implement this functionality.\n",
      "Extracting ./train-images-idx3-ubyte.gz\n",
      "WARNING:tensorflow:From /Users/wind/WORK/venv/my_scikit_learn/lib/python2.7/site-packages/tensorflow/contrib/learn/python/learn/datasets/mnist.py:267: extract_labels (from tensorflow.contrib.learn.python.learn.datasets.mnist) is deprecated and will be removed in a future version.\n",
      "Instructions for updating:\n",
      "Please use tf.data to implement this functionality.\n",
      "Extracting ./train-labels-idx1-ubyte.gz\n",
      "Extracting ./t10k-images-idx3-ubyte.gz\n",
      "Extracting ./t10k-labels-idx1-ubyte.gz\n",
      "WARNING:tensorflow:From /Users/wind/WORK/venv/my_scikit_learn/lib/python2.7/site-packages/tensorflow/contrib/learn/python/learn/datasets/mnist.py:290: __init__ (from tensorflow.contrib.learn.python.learn.datasets.mnist) is deprecated and will be removed in a future version.\n",
      "Instructions for updating:\n",
      "Please use alternatives such as official/mnist/dataset.py from tensorflow/models.\n"
     ]
    }
   ],
   "source": [
    "data = tf.contrib.learn.datasets.mnist.load_mnist('./')"
   ]
  },
  {
   "cell_type": "code",
   "execution_count": 4,
   "metadata": {},
   "outputs": [],
   "source": [
    "train_input_fn = get_input_fn(data.train, batch_size=256)\n",
    "eval_input_fn = get_input_fn(data.validation, batch_size=5000)"
   ]
  },
  {
   "cell_type": "code",
   "execution_count": 5,
   "metadata": {},
   "outputs": [],
   "source": [
    "image_column = tf.contrib.layers.real_valued_column('images', dimension=784)"
   ]
  },
  {
   "cell_type": "code",
   "execution_count": 8,
   "metadata": {},
   "outputs": [
    {
     "name": "stdout",
     "output_type": "stream",
     "text": [
      "INFO:tensorflow:Using default config.\n",
      "WARNING:tensorflow:Using temporary folder as model directory: /var/folders/lz/3q4b548d1rz53xqk13jsr2680000gn/T/tmpgFZooI\n",
      "INFO:tensorflow:Using config: {'_save_checkpoints_secs': 600, '_num_ps_replicas': 0, '_keep_checkpoint_max': 5, '_task_type': None, '_train_distribute': None, '_is_chief': True, '_cluster_spec': <tensorflow.python.training.server_lib.ClusterSpec object at 0x12b8e8a90>, '_tf_config': gpu_options {\n",
      "  per_process_gpu_memory_fraction: 1.0\n",
      "}\n",
      ", '_protocol': None, '_save_checkpoints_steps': None, '_keep_checkpoint_every_n_hours': 10000, '_session_config': None, '_model_dir': '/var/folders/lz/3q4b548d1rz53xqk13jsr2680000gn/T/tmpgFZooI', '_tf_random_seed': None, '_master': '', '_device_fn': None, '_num_worker_replicas': 0, '_task_id': 0, '_log_step_count_steps': 100, '_evaluation_master': '', '_eval_distribute': None, '_environment': 'local', '_save_summary_steps': 100}\n"
     ]
    }
   ],
   "source": [
    "optimizer = tf.train.FtrlOptimizer(learning_rate=5.0, l2_regularization_strength=1.0)\n",
    "estimator = tf.contrib.learn.LinearClassifier(feature_columns=[image_column], n_classes=10, optimizer=optimizer)"
   ]
  },
  {
   "cell_type": "code",
   "execution_count": 9,
   "metadata": {},
   "outputs": [
    {
     "name": "stdout",
     "output_type": "stream",
     "text": [
      "INFO:tensorflow:Create CheckpointSaverHook.\n",
      "INFO:tensorflow:Graph was finalized.\n",
      "INFO:tensorflow:Running local_init_op.\n",
      "INFO:tensorflow:Done running local_init_op.\n",
      "INFO:tensorflow:Saving checkpoints for 0 into /var/folders/lz/3q4b548d1rz53xqk13jsr2680000gn/T/tmpgFZooI/model.ckpt.\n",
      "INFO:tensorflow:loss = 2.302585, step = 1\n",
      "INFO:tensorflow:global_step/sec: 127.698\n",
      "INFO:tensorflow:loss = 0.40392584, step = 101 (0.786 sec)\n",
      "INFO:tensorflow:global_step/sec: 296.038\n",
      "INFO:tensorflow:loss = 0.29984152, step = 201 (0.336 sec)\n",
      "INFO:tensorflow:global_step/sec: 506.996\n",
      "INFO:tensorflow:loss = 0.30940023, step = 301 (0.198 sec)\n",
      "INFO:tensorflow:global_step/sec: 558.413\n",
      "INFO:tensorflow:loss = 0.48585874, step = 401 (0.179 sec)\n",
      "INFO:tensorflow:global_step/sec: 568.515\n",
      "INFO:tensorflow:loss = 0.3395538, step = 501 (0.176 sec)\n",
      "INFO:tensorflow:global_step/sec: 556.899\n",
      "INFO:tensorflow:loss = 0.29223216, step = 601 (0.179 sec)\n",
      "INFO:tensorflow:global_step/sec: 549.677\n",
      "INFO:tensorflow:loss = 0.25888866, step = 701 (0.182 sec)\n",
      "INFO:tensorflow:global_step/sec: 569.346\n",
      "INFO:tensorflow:loss = 0.44340083, step = 801 (0.176 sec)\n",
      "INFO:tensorflow:global_step/sec: 572.767\n",
      "INFO:tensorflow:loss = 0.30878586, step = 901 (0.175 sec)\n",
      "INFO:tensorflow:global_step/sec: 571.422\n",
      "INFO:tensorflow:loss = 0.2584805, step = 1001 (0.175 sec)\n",
      "INFO:tensorflow:global_step/sec: 567.894\n",
      "INFO:tensorflow:loss = 0.27241668, step = 1101 (0.176 sec)\n",
      "INFO:tensorflow:global_step/sec: 576.801\n",
      "INFO:tensorflow:loss = 0.3532279, step = 1201 (0.173 sec)\n",
      "INFO:tensorflow:global_step/sec: 570.392\n",
      "INFO:tensorflow:loss = 0.28869236, step = 1301 (0.175 sec)\n",
      "INFO:tensorflow:global_step/sec: 572.629\n",
      "INFO:tensorflow:loss = 0.22448792, step = 1401 (0.175 sec)\n",
      "INFO:tensorflow:global_step/sec: 568.327\n",
      "INFO:tensorflow:loss = 0.27853593, step = 1501 (0.176 sec)\n",
      "INFO:tensorflow:global_step/sec: 574.815\n",
      "INFO:tensorflow:loss = 0.31608915, step = 1601 (0.174 sec)\n",
      "INFO:tensorflow:global_step/sec: 563\n",
      "INFO:tensorflow:loss = 0.24590367, step = 1701 (0.177 sec)\n",
      "INFO:tensorflow:global_step/sec: 556.982\n",
      "INFO:tensorflow:loss = 0.2165756, step = 1801 (0.179 sec)\n",
      "INFO:tensorflow:global_step/sec: 566.499\n",
      "INFO:tensorflow:loss = 0.17934003, step = 1901 (0.176 sec)\n",
      "INFO:tensorflow:Saving checkpoints for 2000 into /var/folders/lz/3q4b548d1rz53xqk13jsr2680000gn/T/tmpgFZooI/model.ckpt.\n",
      "INFO:tensorflow:Loss for final step: 0.27095366.\n",
      "Elapsed time: 54.8782670498 seconds\n",
      "INFO:tensorflow:Starting evaluation at 2019-03-02T15:44:47Z\n",
      "INFO:tensorflow:Graph was finalized.\n",
      "INFO:tensorflow:Restoring parameters from /var/folders/lz/3q4b548d1rz53xqk13jsr2680000gn/T/tmpgFZooI/model.ckpt-2000\n",
      "INFO:tensorflow:Running local_init_op.\n",
      "INFO:tensorflow:Done running local_init_op.\n",
      "INFO:tensorflow:Evaluation [1/1]\n",
      "INFO:tensorflow:Finished evaluation at 2019-03-02-15:44:48\n",
      "INFO:tensorflow:Saving dict for global step 2000: accuracy = 0.9246, global_step = 2000, loss = 0.28413156\n",
      "{'loss': 0.28413156, 'global_step': 2000, 'accuracy': 0.9246}\n"
     ]
    }
   ],
   "source": [
    "import time\n",
    "# Train.\n",
    "start = time.time()\n",
    "estimator.fit(input_fn=train_input_fn, steps=2000)\n",
    "end = time.time()\n",
    "print('Elapsed time: {} seconds'.format(end - start))\n",
    "\n",
    "# Evaluate and report metrics.\n",
    "eval_metrics = estimator.evaluate(input_fn=eval_input_fn, steps=1)\n",
    "print(eval_metrics)"
   ]
  },
  {
   "cell_type": "code",
   "execution_count": 10,
   "metadata": {},
   "outputs": [
    {
     "name": "stdout",
     "output_type": "stream",
     "text": [
      "INFO:tensorflow:Using default config.\n",
      "WARNING:tensorflow:Using temporary folder as model directory: /var/folders/lz/3q4b548d1rz53xqk13jsr2680000gn/T/tmpaUjg6U\n",
      "INFO:tensorflow:Using config: {'_save_checkpoints_secs': 600, '_num_ps_replicas': 0, '_keep_checkpoint_max': 5, '_task_type': None, '_train_distribute': None, '_is_chief': True, '_cluster_spec': <tensorflow.python.training.server_lib.ClusterSpec object at 0x12b90a050>, '_tf_config': gpu_options {\n",
      "  per_process_gpu_memory_fraction: 1.0\n",
      "}\n",
      ", '_protocol': None, '_save_checkpoints_steps': None, '_keep_checkpoint_every_n_hours': 10000, '_session_config': None, '_model_dir': '/var/folders/lz/3q4b548d1rz53xqk13jsr2680000gn/T/tmpaUjg6U', '_tf_random_seed': None, '_master': '', '_device_fn': None, '_num_worker_replicas': 0, '_task_id': 0, '_log_step_count_steps': 100, '_evaluation_master': '', '_eval_distribute': None, '_environment': 'local', '_save_summary_steps': 100}\n"
     ]
    }
   ],
   "source": [
    "optimizer = tf.train.FtrlOptimizer(\n",
    "   learning_rate=50.0, l2_regularization_strength=0.001)\n",
    "\n",
    "kernel_mapper = tf.contrib.kernel_methods.RandomFourierFeatureMapper(\n",
    "  input_dim=784, output_dim=2000, stddev=5.0, name='rffm')\n",
    "\n",
    "kernel_mappers = {image_column: [kernel_mapper]}\n",
    "\n",
    "estimator = tf.contrib.kernel_methods.KernelLinearClassifier(\n",
    "   n_classes=10, optimizer=optimizer, kernel_mappers=kernel_mappers)"
   ]
  },
  {
   "cell_type": "code",
   "execution_count": 11,
   "metadata": {},
   "outputs": [
    {
     "name": "stdout",
     "output_type": "stream",
     "text": [
      "INFO:tensorflow:Create CheckpointSaverHook.\n",
      "INFO:tensorflow:Graph was finalized.\n",
      "INFO:tensorflow:Running local_init_op.\n",
      "INFO:tensorflow:Done running local_init_op.\n",
      "INFO:tensorflow:Saving checkpoints for 0 into /var/folders/lz/3q4b548d1rz53xqk13jsr2680000gn/T/tmpaUjg6U/model.ckpt.\n",
      "INFO:tensorflow:loss = 2.302585, step = 1\n",
      "INFO:tensorflow:global_step/sec: 50.8185\n",
      "INFO:tensorflow:loss = 0.21413952, step = 101 (1.969 sec)\n",
      "INFO:tensorflow:global_step/sec: 72.6805\n",
      "INFO:tensorflow:loss = 0.13452624, step = 201 (1.377 sec)\n",
      "INFO:tensorflow:global_step/sec: 80.9881\n",
      "INFO:tensorflow:loss = 0.14569175, step = 301 (1.233 sec)\n",
      "INFO:tensorflow:global_step/sec: 84.6142\n",
      "INFO:tensorflow:loss = 0.10977515, step = 401 (1.183 sec)\n",
      "INFO:tensorflow:global_step/sec: 85.6598\n",
      "INFO:tensorflow:loss = 0.1736286, step = 501 (1.168 sec)\n",
      "INFO:tensorflow:global_step/sec: 69.4576\n",
      "INFO:tensorflow:loss = 0.06793881, step = 601 (1.439 sec)\n",
      "INFO:tensorflow:global_step/sec: 72.7251\n",
      "INFO:tensorflow:loss = 0.09473351, step = 701 (1.376 sec)\n",
      "INFO:tensorflow:global_step/sec: 72.0929\n",
      "INFO:tensorflow:loss = 0.10449083, step = 801 (1.387 sec)\n",
      "INFO:tensorflow:global_step/sec: 76.4418\n",
      "INFO:tensorflow:loss = 0.08301067, step = 901 (1.308 sec)\n",
      "INFO:tensorflow:global_step/sec: 75.1571\n",
      "INFO:tensorflow:loss = 0.11486946, step = 1001 (1.331 sec)\n",
      "INFO:tensorflow:global_step/sec: 76.1525\n",
      "INFO:tensorflow:loss = 0.07649766, step = 1101 (1.313 sec)\n",
      "INFO:tensorflow:global_step/sec: 76.1638\n",
      "INFO:tensorflow:loss = 0.05391883, step = 1201 (1.313 sec)\n",
      "INFO:tensorflow:global_step/sec: 68.1234\n",
      "INFO:tensorflow:loss = 0.08628173, step = 1301 (1.468 sec)\n",
      "INFO:tensorflow:global_step/sec: 72.9614\n",
      "INFO:tensorflow:loss = 0.060484692, step = 1401 (1.370 sec)\n",
      "INFO:tensorflow:global_step/sec: 70.0595\n",
      "INFO:tensorflow:loss = 0.08442567, step = 1501 (1.427 sec)\n",
      "INFO:tensorflow:global_step/sec: 69.9135\n",
      "INFO:tensorflow:loss = 0.06424646, step = 1601 (1.430 sec)\n",
      "INFO:tensorflow:global_step/sec: 78.134\n",
      "INFO:tensorflow:loss = 0.036586862, step = 1701 (1.280 sec)\n",
      "INFO:tensorflow:global_step/sec: 72.4336\n",
      "INFO:tensorflow:loss = 0.052482914, step = 1801 (1.381 sec)\n",
      "INFO:tensorflow:global_step/sec: 81.9754\n",
      "INFO:tensorflow:loss = 0.05075109, step = 1901 (1.220 sec)\n",
      "INFO:tensorflow:Saving checkpoints for 2000 into /var/folders/lz/3q4b548d1rz53xqk13jsr2680000gn/T/tmpaUjg6U/model.ckpt.\n",
      "INFO:tensorflow:Loss for final step: 0.04237326.\n",
      "Elapsed time: 88.6359801292 seconds\n",
      "INFO:tensorflow:Starting evaluation at 2019-03-02T15:48:06Z\n",
      "INFO:tensorflow:Graph was finalized.\n",
      "INFO:tensorflow:Restoring parameters from /var/folders/lz/3q4b548d1rz53xqk13jsr2680000gn/T/tmpaUjg6U/model.ckpt-2000\n",
      "INFO:tensorflow:Running local_init_op.\n",
      "INFO:tensorflow:Done running local_init_op.\n",
      "INFO:tensorflow:Evaluation [1/1]\n",
      "INFO:tensorflow:Finished evaluation at 2019-03-02-15:48:08\n",
      "INFO:tensorflow:Saving dict for global step 2000: accuracy = 0.9682, global_step = 2000, loss = 0.10794046\n",
      "{'loss': 0.10794046, 'global_step': 2000, 'accuracy': 0.9682}\n"
     ]
    }
   ],
   "source": [
    "# Train.\n",
    "start = time.time()\n",
    "estimator.fit(input_fn=train_input_fn, steps=2000)\n",
    "end = time.time()\n",
    "print('Elapsed time: {} seconds'.format(end - start))\n",
    "\n",
    "# Evaluate and report metrics.\n",
    "eval_metrics = estimator.evaluate(input_fn=eval_input_fn, steps=1)\n",
    "print(eval_metrics)"
   ]
  },
  {
   "cell_type": "code",
   "execution_count": null,
   "metadata": {},
   "outputs": [],
   "source": []
  }
 ],
 "metadata": {
  "kernelspec": {
   "display_name": "my_scikit_learn",
   "language": "python",
   "name": "my_scikit_learn"
  },
  "language_info": {
   "codemirror_mode": {
    "name": "ipython",
    "version": 2
   },
   "file_extension": ".py",
   "mimetype": "text/x-python",
   "name": "python",
   "nbconvert_exporter": "python",
   "pygments_lexer": "ipython2",
   "version": "2.7.10"
  }
 },
 "nbformat": 4,
 "nbformat_minor": 2
}
