{
 "cells": [
  {
   "cell_type": "code",
   "execution_count": 1,
   "metadata": {},
   "outputs": [],
   "source": [
    "import numpy as np\n",
    "import tensorflow as tf"
   ]
  },
  {
   "cell_type": "code",
   "execution_count": 2,
   "metadata": {},
   "outputs": [
    {
     "name": "stdout",
     "output_type": "stream",
     "text": [
      "\n",
      "WARNING: The TensorFlow contrib module will not be included in TensorFlow 2.0.\n",
      "For more information, please see:\n",
      "  * https://github.com/tensorflow/community/blob/master/rfcs/20180907-contrib-sunset.md\n",
      "  * https://github.com/tensorflow/addons\n",
      "If you depend on functionality not listed there, please file an issue.\n",
      "\n",
      "WARNING:tensorflow:From <ipython-input-2-3fb369d135d5>:1: load_mnist (from tensorflow.contrib.learn.python.learn.datasets.mnist) is deprecated and will be removed in a future version.\n",
      "Instructions for updating:\n",
      "Please use alternatives such as official/mnist/dataset.py from tensorflow/models.\n",
      "WARNING:tensorflow:From /Users/wind/WORK/venv/my_scikit_learn/lib/python2.7/site-packages/tensorflow/contrib/learn/python/learn/datasets/mnist.py:300: read_data_sets (from tensorflow.contrib.learn.python.learn.datasets.mnist) is deprecated and will be removed in a future version.\n",
      "Instructions for updating:\n",
      "Please use alternatives such as official/mnist/dataset.py from tensorflow/models.\n",
      "WARNING:tensorflow:From /Users/wind/WORK/venv/my_scikit_learn/lib/python2.7/site-packages/tensorflow/contrib/learn/python/learn/datasets/mnist.py:260: maybe_download (from tensorflow.contrib.learn.python.learn.datasets.base) is deprecated and will be removed in a future version.\n",
      "Instructions for updating:\n",
      "Please write your own downloading logic.\n",
      "WARNING:tensorflow:From /Users/wind/WORK/venv/my_scikit_learn/lib/python2.7/site-packages/tensorflow/contrib/learn/python/learn/datasets/mnist.py:262: extract_images (from tensorflow.contrib.learn.python.learn.datasets.mnist) is deprecated and will be removed in a future version.\n",
      "Instructions for updating:\n",
      "Please use tf.data to implement this functionality.\n",
      "Extracting ./train-images-idx3-ubyte.gz\n",
      "WARNING:tensorflow:From /Users/wind/WORK/venv/my_scikit_learn/lib/python2.7/site-packages/tensorflow/contrib/learn/python/learn/datasets/mnist.py:267: extract_labels (from tensorflow.contrib.learn.python.learn.datasets.mnist) is deprecated and will be removed in a future version.\n",
      "Instructions for updating:\n",
      "Please use tf.data to implement this functionality.\n",
      "Extracting ./train-labels-idx1-ubyte.gz\n",
      "Extracting ./t10k-images-idx3-ubyte.gz\n",
      "Extracting ./t10k-labels-idx1-ubyte.gz\n",
      "WARNING:tensorflow:From /Users/wind/WORK/venv/my_scikit_learn/lib/python2.7/site-packages/tensorflow/contrib/learn/python/learn/datasets/mnist.py:290: __init__ (from tensorflow.contrib.learn.python.learn.datasets.mnist) is deprecated and will be removed in a future version.\n",
      "Instructions for updating:\n",
      "Please use alternatives such as official/mnist/dataset.py from tensorflow/models.\n"
     ]
    }
   ],
   "source": [
    "data = tf.contrib.learn.datasets.mnist.load_mnist('./')"
   ]
  },
  {
   "cell_type": "code",
   "execution_count": 3,
   "metadata": {},
   "outputs": [],
   "source": [
    "# Parameters\n",
    "num_steps = 2000 # Total steps to train\n",
    "batch_size = 1024 # The number of samples per batch\n",
    "num_classes = 10 # The 10 digits\n",
    "num_features = 784 # Each image is 28x28 pixels\n",
    "num_trees = 10\n",
    "max_nodes = 1000\n",
    "\n",
    "# Input and Target data\n",
    "X = tf.placeholder(tf.float32, shape=[None, num_features])\n",
    "# For random forest, labels must be integers (the class id)\n",
    "Y = tf.placeholder(tf.int32, shape=[None])"
   ]
  },
  {
   "cell_type": "code",
   "execution_count": 4,
   "metadata": {},
   "outputs": [
    {
     "name": "stdout",
     "output_type": "stream",
     "text": [
      "INFO:tensorflow:Constructing forest with params = \n",
      "INFO:tensorflow:{'num_output_columns': 11, 'feature_bagging_fraction': 1.0, 'valid_leaf_threshold': 1, 'checkpoint_stats': False, 'initialize_average_splits': False, 'pruning_type': 0, 'prune_every_samples': 0, 'dominate_fraction': 0.99, 'max_fertile_nodes': 0, 'early_finish_check_every_samples': 0, 'dominate_method': 'bootstrap', 'bagging_fraction': 1.0, 'regression': False, 'param_file': None, 'bagged_num_features': 784, 'use_running_stats_method': False, 'max_nodes': 1000, 'split_finish_name': 'basic', 'leaf_model_type': 0, 'stats_model_type': 0, 'bagged_features': None, 'num_features': 784, 'split_after_samples': 250, 'num_outputs': 1, 'collate_examples': False, 'split_type': 0, 'num_classes': 10, 'num_splits_to_consider': 28.0, 'split_name': 'less_or_equal', 'finish_type': 0, 'inference_tree_paths': False, 'split_pruning_name': 'none', 'base_random_seed': 0, 'num_trees': 10, 'model_name': 'all_dense'}\n",
      "WARNING:tensorflow:From /Users/wind/WORK/venv/my_scikit_learn/lib/python2.7/site-packages/tensorflow/python/framework/op_def_library.py:263: colocate_with (from tensorflow.python.framework.ops) is deprecated and will be removed in a future version.\n",
      "Instructions for updating:\n",
      "Colocations handled automatically by placer.\n",
      "WARNING:tensorflow:From /Users/wind/WORK/venv/my_scikit_learn/lib/python2.7/site-packages/tensorflow/contrib/tensor_forest/python/ops/data_ops.py:212: to_float (from tensorflow.python.ops.math_ops) is deprecated and will be removed in a future version.\n",
      "Instructions for updating:\n",
      "Use tf.cast instead.\n",
      "WARNING:tensorflow:From /Users/wind/WORK/venv/my_scikit_learn/lib/python2.7/site-packages/tensorflow/contrib/tensor_forest/python/tensor_forest.py:606: to_int32 (from tensorflow.python.ops.math_ops) is deprecated and will be removed in a future version.\n",
      "Instructions for updating:\n",
      "Use tf.cast instead.\n",
      "WARNING:tensorflow:From /Users/wind/WORK/venv/my_scikit_learn/lib/python2.7/site-packages/tensorflow/contrib/tensor_forest/python/tensor_forest.py:523: div (from tensorflow.python.ops.math_ops) is deprecated and will be removed in a future version.\n",
      "Instructions for updating:\n",
      "Deprecated in favor of operator or tf.math.divide.\n"
     ]
    }
   ],
   "source": [
    "from tensorflow.contrib.tensor_forest.python import tensor_forest\n",
    "\n",
    "# Random Forest Parameters\n",
    "hparams = tensor_forest.ForestHParams(num_classes=num_classes,\n",
    "                                      num_features=num_features,\n",
    "                                      num_trees=num_trees,\n",
    "                                      max_nodes=max_nodes).fill()\n",
    "\n",
    "# Build the Random Forest\n",
    "forest_graph = tensor_forest.RandomForestGraphs(hparams)\n",
    "\n",
    "# Get training graph and loss\n",
    "train_op = forest_graph.training_graph(X, Y)\n",
    "loss_op = forest_graph.training_loss(X, Y)\n",
    "\n",
    "# Measure the accuracy\n",
    "infer_op, _, _ = forest_graph.inference_graph(X)\n",
    "\n",
    "correct_prediction = tf.equal(tf.argmax(infer_op, 1), tf.cast(Y, tf.int64))\n",
    "accuracy_op = tf.reduce_mean(tf.cast(correct_prediction, tf.float32))\n"
   ]
  },
  {
   "cell_type": "code",
   "execution_count": 5,
   "metadata": {},
   "outputs": [
    {
     "name": "stdout",
     "output_type": "stream",
     "text": [
      "Step 1, Loss: -1.000000, Acc: 0.332031\n",
      "Step 50, Loss: -257.399994, Acc: 0.866211\n",
      "Step 100, Loss: -539.599976, Acc: 0.913086\n",
      "Step 150, Loss: -831.599976, Acc: 0.926758\n",
      "Step 200, Loss: -1001.000000, Acc: 0.916992\n",
      "Step 250, Loss: -1001.000000, Acc: 0.919922\n",
      "Step 300, Loss: -1001.000000, Acc: 0.924805\n",
      "Step 350, Loss: -1001.000000, Acc: 0.931641\n",
      "Step 400, Loss: -1001.000000, Acc: 0.913086\n",
      "Step 450, Loss: -1001.000000, Acc: 0.929688\n",
      "Step 500, Loss: -1001.000000, Acc: 0.927734\n",
      "Step 550, Loss: -1001.000000, Acc: 0.936523\n",
      "Step 600, Loss: -1001.000000, Acc: 0.928711\n",
      "Step 650, Loss: -1001.000000, Acc: 0.936523\n",
      "Step 700, Loss: -1001.000000, Acc: 0.937500\n",
      "Step 750, Loss: -1001.000000, Acc: 0.908203\n",
      "Step 800, Loss: -1001.000000, Acc: 0.919922\n",
      "Step 850, Loss: -1001.000000, Acc: 0.903320\n",
      "Step 900, Loss: -1001.000000, Acc: 0.940430\n",
      "Step 950, Loss: -1001.000000, Acc: 0.925781\n",
      "Step 1000, Loss: -1001.000000, Acc: 0.912109\n",
      "Step 1050, Loss: -1001.000000, Acc: 0.911133\n",
      "Step 1100, Loss: -1001.000000, Acc: 0.913086\n",
      "Step 1150, Loss: -1001.000000, Acc: 0.929688\n",
      "Step 1200, Loss: -1001.000000, Acc: 0.926758\n",
      "Step 1250, Loss: -1001.000000, Acc: 0.920898\n",
      "Step 1300, Loss: -1001.000000, Acc: 0.911133\n",
      "Step 1350, Loss: -1001.000000, Acc: 0.924805\n",
      "Step 1400, Loss: -1001.000000, Acc: 0.930664\n",
      "Step 1450, Loss: -1001.000000, Acc: 0.919922\n",
      "Step 1500, Loss: -1001.000000, Acc: 0.918945\n",
      "Step 1550, Loss: -1001.000000, Acc: 0.935547\n",
      "Step 1600, Loss: -1001.000000, Acc: 0.916992\n",
      "Step 1650, Loss: -1001.000000, Acc: 0.917969\n",
      "Step 1700, Loss: -1001.000000, Acc: 0.914062\n",
      "Step 1750, Loss: -1001.000000, Acc: 0.912109\n",
      "Step 1800, Loss: -1001.000000, Acc: 0.928711\n",
      "Step 1850, Loss: -1001.000000, Acc: 0.918945\n",
      "Step 1900, Loss: -1001.000000, Acc: 0.917969\n",
      "Step 1950, Loss: -1001.000000, Acc: 0.932617\n",
      "Step 2000, Loss: -1001.000000, Acc: 0.923828\n",
      "('Test Accuracy:', 0.9202)\n"
     ]
    }
   ],
   "source": [
    "from tensorflow.python.ops import resources\n",
    "\n",
    "# Initialize the variables (i.e. assign their default value) and forest resources\n",
    "init_vars = tf.group(tf.global_variables_initializer(),\n",
    "    resources.initialize_resources(resources.shared_resources()))\n",
    "\n",
    "# Start TensorFlow session\n",
    "sess = tf.Session()\n",
    "\n",
    "# Run the initializer\n",
    "sess.run(init_vars)\n",
    "\n",
    "# Training\n",
    "for i in range(1, num_steps + 1):\n",
    "    # Prepare Data\n",
    "    # Get the next batch of MNIST data (only images are needed, not labels)\n",
    "    batch_x, batch_y = data.train.next_batch(batch_size)\n",
    "    _, l = sess.run([train_op, loss_op], feed_dict={X: batch_x, Y: batch_y})\n",
    "    if i % 50 == 0 or i == 1:\n",
    "        acc = sess.run(accuracy_op, feed_dict={X: batch_x, Y: batch_y})\n",
    "        print('Step %i, Loss: %f, Acc: %f' % (i, l, acc))\n",
    "\n",
    "# Test Model\n",
    "test_x, test_y = data.test.images, data.test.labels\n",
    "print(\"Test Accuracy:\", sess.run(accuracy_op, feed_dict={X: test_x, Y: test_y}))"
   ]
  },
  {
   "cell_type": "code",
   "execution_count": null,
   "metadata": {},
   "outputs": [],
   "source": []
  }
 ],
 "metadata": {
  "kernelspec": {
   "display_name": "my_scikit_learn",
   "language": "python",
   "name": "my_scikit_learn"
  },
  "language_info": {
   "codemirror_mode": {
    "name": "ipython",
    "version": 2
   },
   "file_extension": ".py",
   "mimetype": "text/x-python",
   "name": "python",
   "nbconvert_exporter": "python",
   "pygments_lexer": "ipython2",
   "version": "2.7.10"
  }
 },
 "nbformat": 4,
 "nbformat_minor": 2
}
