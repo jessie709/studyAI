{
 "cells": [
  {
   "cell_type": "markdown",
   "metadata": {},
   "source": [
    "# AdaBoost\n",
    "\n",
    "**Algorithm**\n",
    "\n",
    "\n",
    "1. Init data weights $\\{w_n\\}$ to $\\frac{1}{N}$\n",
    "1. for m = 1 to M do\n",
    "1.   &emsp;&emsp;fit a classifier $y_{m}(x)$ by minimizing weighted error function $J_{m}$:\n",
    "1.   &emsp;&emsp;$J_{m}=\\displaystyle\\sum_{n=1}^{N}w_n^{(m)}1[y_m(x_n) \\neq t_n]$\n",
    "1.   &emsp;&emsp;compute $\\epsilon_{m}=\\frac{J_m}{\\displaystyle\\sum_{n=1}^{N} w_n^{(m)}}$\n",
    "1.   &emsp;&emsp;evaluate $\\alpha_m=\\log\\left(\\frac{1-\\epsilon_m}{\\epsilon_m}\\right)$\n",
    "1.   &emsp;&emsp;update the data weights: $w_n^{(m+1)}=w_n^{(m)}exp\\{\\alpha_m1[y_m(x_n) \\neq t_n]\\}$\n",
    "1. end for\n",
    "1. Make predictions using the final model: $Y_{M}(x)=sign\\left(\\displaystyle\\sum_{m=1}^{M} \\alpha_{m}y_{m}(x) \\right)$\n",
    "\n",
    "\n",
    "- $w$: 权重\n",
    "- $w_n$: 第 n 条记录的权重\n",
    "- $N$: 数据集总记录数\n",
    "- $m$: 分类器\n",
    "- $M$: 分类器的总数\n",
    "- $w_n^{(m)}$: 第 m 个分类器中第 n 条记录的权重\n",
    "- $y_m{(x)}$: 第 m 个分类器的预测结果集\n",
    "- $y_m(x_n)$: 第 m 个分类器对第 n 条记录的预测结果\n",
    "- $1[y_m(x_n) \\neq t_n]$: 当实际结果与预测结果不一致是取1，否则取0\n",
    "- $sign$: 小于0返回-1，否则返回1"
   ]
  },
  {
   "cell_type": "code",
   "execution_count": 36,
   "metadata": {},
   "outputs": [],
   "source": [
    "import numpy as np\n",
    "import matplotlib.pyplot as plt\n",
    "import pandas as pd"
   ]
  },
  {
   "cell_type": "code",
   "execution_count": 25,
   "metadata": {},
   "outputs": [
    {
     "data": {
      "text/plain": [
       "[<matplotlib.lines.Line2D at 0x11de8be0>]"
      ]
     },
     "execution_count": 25,
     "metadata": {},
     "output_type": "execute_result"
    },
    {
     "data": {
      "image/png": "[encoded data removed]",
      "text/plain": [
       "<Figure size 432x288 with 1 Axes>"
      ]
     },
     "metadata": {},
     "output_type": "display_data"
    }
   ],
   "source": [
    "x = np.linspace(0.0001, 0.9999, 100)\n",
    "y = np.log((1-x)/x)\n",
    "plt.xlabel('$\\epsilon (0, 1)$')\n",
    "plt.ylabel('$a (+\\infty, -\\infty)$')\n",
    "plt.plot(x, y)"
   ]
  },
  {
   "cell_type": "code",
   "execution_count": 34,
   "metadata": {
    "scrolled": true
   },
   "outputs": [
    {
     "data": {
      "text/plain": [
       "[<matplotlib.lines.Line2D at 0x130a9b70>]"
      ]
     },
     "execution_count": 34,
     "metadata": {},
     "output_type": "execute_result"
    },
    {
     "data": {
      "image/png": "[encoded data removed]",
      "text/plain": [
       "<Figure size 432x288 with 1 Axes>"
      ]
     },
     "metadata": {},
     "output_type": "display_data"
    }
   ],
   "source": [
    "x = np.linspace(-10, 10, 1000)\n",
    "y = np.exp(x)\n",
    "plt.xlabel('$x$')\n",
    "plt.ylabel('$e$')\n",
    "plt.plot(x, y)"
   ]
  },
  {
   "cell_type": "code",
   "execution_count": 38,
   "metadata": {
    "scrolled": true
   },
   "outputs": [
    {
     "data": {
      "text/html": [
       "<div>\n",
       "<style scoped>\n",
       "    .dataframe tbody tr th:only-of-type {\n",
       "        vertical-align: middle;\n",
       "    }\n",
       "\n",
       "    .dataframe tbody tr th {\n",
       "        vertical-align: top;\n",
       "    }\n",
       "\n",
       "    .dataframe thead th {\n",
       "        text-align: right;\n",
       "    }\n",
       "</style>\n",
       "<table border=\"1\" class=\"dataframe\">\n",
       "  <thead>\n",
       "    <tr style=\"text-align: right;\">\n",
       "      <th></th>\n",
       "      <th>x</th>\n",
       "      <th>y</th>\n",
       "    </tr>\n",
       "  </thead>\n",
       "  <tbody>\n",
       "    <tr>\n",
       "      <td>0</td>\n",
       "      <td>0</td>\n",
       "      <td>1</td>\n",
       "    </tr>\n",
       "    <tr>\n",
       "      <td>1</td>\n",
       "      <td>1</td>\n",
       "      <td>1</td>\n",
       "    </tr>\n",
       "    <tr>\n",
       "      <td>2</td>\n",
       "      <td>2</td>\n",
       "      <td>1</td>\n",
       "    </tr>\n",
       "    <tr>\n",
       "      <td>3</td>\n",
       "      <td>3</td>\n",
       "      <td>-1</td>\n",
       "    </tr>\n",
       "    <tr>\n",
       "      <td>4</td>\n",
       "      <td>4</td>\n",
       "      <td>-1</td>\n",
       "    </tr>\n",
       "    <tr>\n",
       "      <td>5</td>\n",
       "      <td>5</td>\n",
       "      <td>-1</td>\n",
       "    </tr>\n",
       "    <tr>\n",
       "      <td>6</td>\n",
       "      <td>6</td>\n",
       "      <td>1</td>\n",
       "    </tr>\n",
       "    <tr>\n",
       "      <td>7</td>\n",
       "      <td>7</td>\n",
       "      <td>1</td>\n",
       "    </tr>\n",
       "    <tr>\n",
       "      <td>8</td>\n",
       "      <td>8</td>\n",
       "      <td>1</td>\n",
       "    </tr>\n",
       "    <tr>\n",
       "      <td>9</td>\n",
       "      <td>9</td>\n",
       "      <td>-1</td>\n",
       "    </tr>\n",
       "  </tbody>\n",
       "</table>\n",
       "</div>"
      ],
      "text/plain": [
       "   x  y\n",
       "0  0  1\n",
       "1  1  1\n",
       "2  2  1\n",
       "3  3 -1\n",
       "4  4 -1\n",
       "5  5 -1\n",
       "6  6  1\n",
       "7  7  1\n",
       "8  8  1\n",
       "9  9 -1"
      ]
     },
     "execution_count": 38,
     "metadata": {},
     "output_type": "execute_result"
    }
   ],
   "source": [
    "# 构建数据集\n",
    "df = pd.DataFrame({\n",
    "    'x': np.arange(10),\n",
    "    'y': [1,1,1,-1,-1,-1,1,1,1,-1]\n",
    "})\n",
    "df"
   ]
  },
  {
   "cell_type": "code",
   "execution_count": 76,
   "metadata": {},
   "outputs": [
    {
     "data": {
      "text/html": [
       "<div>\n",
       "<style scoped>\n",
       "    .dataframe tbody tr th:only-of-type {\n",
       "        vertical-align: middle;\n",
       "    }\n",
       "\n",
       "    .dataframe tbody tr th {\n",
       "        vertical-align: top;\n",
       "    }\n",
       "\n",
       "    .dataframe thead th {\n",
       "        text-align: right;\n",
       "    }\n",
       "</style>\n",
       "<table border=\"1\" class=\"dataframe\">\n",
       "  <thead>\n",
       "    <tr style=\"text-align: right;\">\n",
       "      <th></th>\n",
       "      <th>x</th>\n",
       "      <th>y</th>\n",
       "      <th>w</th>\n",
       "      <th>j</th>\n",
       "      <th>p</th>\n",
       "    </tr>\n",
       "  </thead>\n",
       "  <tbody>\n",
       "    <tr>\n",
       "      <td>0</td>\n",
       "      <td>0</td>\n",
       "      <td>1</td>\n",
       "      <td>0.1</td>\n",
       "      <td>NaN</td>\n",
       "      <td>NaN</td>\n",
       "    </tr>\n",
       "    <tr>\n",
       "      <td>1</td>\n",
       "      <td>1</td>\n",
       "      <td>1</td>\n",
       "      <td>0.1</td>\n",
       "      <td>NaN</td>\n",
       "      <td>NaN</td>\n",
       "    </tr>\n",
       "    <tr>\n",
       "      <td>2</td>\n",
       "      <td>2</td>\n",
       "      <td>1</td>\n",
       "      <td>0.1</td>\n",
       "      <td>NaN</td>\n",
       "      <td>NaN</td>\n",
       "    </tr>\n",
       "    <tr>\n",
       "      <td>3</td>\n",
       "      <td>3</td>\n",
       "      <td>-1</td>\n",
       "      <td>0.1</td>\n",
       "      <td>NaN</td>\n",
       "      <td>NaN</td>\n",
       "    </tr>\n",
       "    <tr>\n",
       "      <td>4</td>\n",
       "      <td>4</td>\n",
       "      <td>-1</td>\n",
       "      <td>0.1</td>\n",
       "      <td>NaN</td>\n",
       "      <td>NaN</td>\n",
       "    </tr>\n",
       "    <tr>\n",
       "      <td>5</td>\n",
       "      <td>5</td>\n",
       "      <td>-1</td>\n",
       "      <td>0.1</td>\n",
       "      <td>NaN</td>\n",
       "      <td>NaN</td>\n",
       "    </tr>\n",
       "    <tr>\n",
       "      <td>6</td>\n",
       "      <td>6</td>\n",
       "      <td>1</td>\n",
       "      <td>0.1</td>\n",
       "      <td>NaN</td>\n",
       "      <td>NaN</td>\n",
       "    </tr>\n",
       "    <tr>\n",
       "      <td>7</td>\n",
       "      <td>7</td>\n",
       "      <td>1</td>\n",
       "      <td>0.1</td>\n",
       "      <td>NaN</td>\n",
       "      <td>NaN</td>\n",
       "    </tr>\n",
       "    <tr>\n",
       "      <td>8</td>\n",
       "      <td>8</td>\n",
       "      <td>1</td>\n",
       "      <td>0.1</td>\n",
       "      <td>NaN</td>\n",
       "      <td>NaN</td>\n",
       "    </tr>\n",
       "    <tr>\n",
       "      <td>9</td>\n",
       "      <td>9</td>\n",
       "      <td>-1</td>\n",
       "      <td>0.1</td>\n",
       "      <td>NaN</td>\n",
       "      <td>NaN</td>\n",
       "    </tr>\n",
       "  </tbody>\n",
       "</table>\n",
       "</div>"
      ],
      "text/plain": [
       "   x  y    w   j   p\n",
       "0  0  1  0.1 NaN NaN\n",
       "1  1  1  0.1 NaN NaN\n",
       "2  2  1  0.1 NaN NaN\n",
       "3  3 -1  0.1 NaN NaN\n",
       "4  4 -1  0.1 NaN NaN\n",
       "5  5 -1  0.1 NaN NaN\n",
       "6  6  1  0.1 NaN NaN\n",
       "7  7  1  0.1 NaN NaN\n",
       "8  8  1  0.1 NaN NaN\n",
       "9  9 -1  0.1 NaN NaN"
      ]
     },
     "execution_count": 76,
     "metadata": {},
     "output_type": "execute_result"
    }
   ],
   "source": [
    "# 添加权重\n",
    "df['w'] = 1 / df.shape[0]\n",
    "# 预测结果\n",
    "df['p'] = np.nan\n",
    "# 预测结果与实际值相等显示0 否则显示1\n",
    "df['j'] = np.nan\n",
    "df"
   ]
  },
  {
   "cell_type": "code",
   "execution_count": 86,
   "metadata": {
    "scrolled": true
   },
   "outputs": [
    {
     "data": {
      "text/plain": [
       "(3, 0.30000000000000004)"
      ]
     },
     "execution_count": 86,
     "metadata": {},
     "output_type": "execute_result"
    }
   ],
   "source": [
    "res = []\n",
    "for i in np.arange(1, df.shape[0]):\n",
    "    df.loc[:i, 'p'] = 1\n",
    "    df.loc[i:, 'p'] = -1\n",
    "    df['j'] = (df['y'] != df['p']).astype(np.int)\n",
    "    res.append((i, (df['w'] * df['j']).sum()))\n",
    "j = min(res, key=lambda x: x[1])\n",
    "j"
   ]
  },
  {
   "cell_type": "code",
   "execution_count": 87,
   "metadata": {},
   "outputs": [
    {
     "data": {
      "text/plain": [
       "0.30000000000000004"
      ]
     },
     "execution_count": 87,
     "metadata": {},
     "output_type": "execute_result"
    }
   ],
   "source": [
    "epsilon = j[1]/df['w'].sum()\n",
    "epsilon"
   ]
  },
  {
   "cell_type": "code",
   "execution_count": 89,
   "metadata": {},
   "outputs": [
    {
     "data": {
      "text/plain": [
       "0.8472978603872034"
      ]
     },
     "execution_count": 89,
     "metadata": {},
     "output_type": "execute_result"
    }
   ],
   "source": [
    "alpha = np.log((1-epsilon)/epsilon)\n",
    "alpha"
   ]
  },
  {
   "cell_type": "code",
   "execution_count": 90,
   "metadata": {},
   "outputs": [
    {
     "data": {
      "text/plain": [
       "0    0.100000\n",
       "1    0.100000\n",
       "2    0.100000\n",
       "3    0.233333\n",
       "4    0.233333\n",
       "5    0.233333\n",
       "6    0.100000\n",
       "7    0.100000\n",
       "8    0.100000\n",
       "9    0.100000\n",
       "dtype: float64"
      ]
     },
     "execution_count": 90,
     "metadata": {},
     "output_type": "execute_result"
    }
   ],
   "source": [
    "next_w = df['w'] * np.exp(alpha * df['j'])\n",
    "next_w"
   ]
  },
  {
   "cell_type": "code",
   "execution_count": 98,
   "metadata": {},
   "outputs": [],
   "source": [
    "def compute_weights(p_df):\n",
    "    df = p_df.copy()\n",
    "    arr = []\n",
    "    for i in np.arange(1, df.shape[0]):\n",
    "        df.loc[:i, 'p'] = 1\n",
    "        df.loc[i:, 'p'] = -1\n",
    "        df['j'] = (df['y'] != df['p']).astype(np.int)\n",
    "        arr.append((i, (df['w'] * df['j']).sum()))\n",
    "    j = min(res, key=lambda x: x[1])\n",
    "    epsilon = j[1]/df['w'].sum()\n",
    "    alpha = np.log((1-epsilon)/epsilon)\n",
    "    df['w'] = df['w'] * np.exp(alpha * df['j'])\n",
    "    return df, j, arr"
   ]
  },
  {
   "cell_type": "code",
   "execution_count": 99,
   "metadata": {},
   "outputs": [
    {
     "data": {
      "text/plain": [
       "(   x  y         w  j  p\n",
       " 0  0  1  0.100000  0  1\n",
       " 1  1  1  0.100000  0  1\n",
       " 2  2  1  0.100000  0  1\n",
       " 3  3 -1  0.233333  1  1\n",
       " 4  4 -1  0.233333  1  1\n",
       " 5  5 -1  0.233333  1  1\n",
       " 6  6  1  0.100000  0  1\n",
       " 7  7  1  0.100000  0  1\n",
       " 8  8  1  0.100000  0  1\n",
       " 9  9 -1  0.100000  0 -1,\n",
       " (3, 0.30000000000000004),\n",
       " [(1, 0.5),\n",
       "  (2, 0.4),\n",
       "  (3, 0.30000000000000004),\n",
       "  (4, 0.4),\n",
       "  (5, 0.5),\n",
       "  (6, 0.6),\n",
       "  (7, 0.5),\n",
       "  (8, 0.4),\n",
       "  (9, 0.30000000000000004)])"
      ]
     },
     "execution_count": 99,
     "metadata": {},
     "output_type": "execute_result"
    }
   ],
   "source": [
    "df1, j1, arr1 = compute_weights(df)\n",
    "df1, j1, arr1"
   ]
  },
  {
   "cell_type": "code",
   "execution_count": 100,
   "metadata": {
    "scrolled": true
   },
   "outputs": [
    {
     "data": {
      "text/plain": [
       "(   x  y         w  j  p\n",
       " 0  0  1  0.100000  0  1\n",
       " 1  1  1  0.100000  0  1\n",
       " 2  2  1  0.100000  0  1\n",
       " 3  3 -1  0.855556  1  1\n",
       " 4  4 -1  0.855556  1  1\n",
       " 5  5 -1  0.855556  1  1\n",
       " 6  6  1  0.100000  0  1\n",
       " 7  7  1  0.100000  0  1\n",
       " 8  8  1  0.100000  0  1\n",
       " 9  9 -1  0.100000  0 -1,\n",
       " (3, 0.30000000000000004),\n",
       " [(1, 0.5),\n",
       "  (2, 0.4),\n",
       "  (3, 0.30000000000000004),\n",
       "  (4, 0.5333333333333333),\n",
       "  (5, 0.7666666666666666),\n",
       "  (6, 0.9999999999999999),\n",
       "  (7, 0.8999999999999999),\n",
       "  (8, 0.7999999999999999),\n",
       "  (9, 0.7)])"
      ]
     },
     "execution_count": 100,
     "metadata": {},
     "output_type": "execute_result"
    }
   ],
   "source": [
    "df2, j2, arr2 = compute_weights(df1)\n",
    "df2, j2, arr2"
   ]
  },
  {
   "cell_type": "code",
   "execution_count": 94,
   "metadata": {},
   "outputs": [
    {
     "data": {
      "text/html": [
       "<div>\n",
       "<style scoped>\n",
       "    .dataframe tbody tr th:only-of-type {\n",
       "        vertical-align: middle;\n",
       "    }\n",
       "\n",
       "    .dataframe tbody tr th {\n",
       "        vertical-align: top;\n",
       "    }\n",
       "\n",
       "    .dataframe thead th {\n",
       "        text-align: right;\n",
       "    }\n",
       "</style>\n",
       "<table border=\"1\" class=\"dataframe\">\n",
       "  <thead>\n",
       "    <tr style=\"text-align: right;\">\n",
       "      <th></th>\n",
       "      <th>x</th>\n",
       "      <th>y</th>\n",
       "      <th>w</th>\n",
       "      <th>j</th>\n",
       "      <th>p</th>\n",
       "    </tr>\n",
       "  </thead>\n",
       "  <tbody>\n",
       "    <tr>\n",
       "      <td>0</td>\n",
       "      <td>0</td>\n",
       "      <td>1</td>\n",
       "      <td>0.100000</td>\n",
       "      <td>0</td>\n",
       "      <td>1</td>\n",
       "    </tr>\n",
       "    <tr>\n",
       "      <td>1</td>\n",
       "      <td>1</td>\n",
       "      <td>1</td>\n",
       "      <td>0.100000</td>\n",
       "      <td>0</td>\n",
       "      <td>1</td>\n",
       "    </tr>\n",
       "    <tr>\n",
       "      <td>2</td>\n",
       "      <td>2</td>\n",
       "      <td>1</td>\n",
       "      <td>0.100000</td>\n",
       "      <td>0</td>\n",
       "      <td>1</td>\n",
       "    </tr>\n",
       "    <tr>\n",
       "      <td>3</td>\n",
       "      <td>3</td>\n",
       "      <td>-1</td>\n",
       "      <td>8.460494</td>\n",
       "      <td>1</td>\n",
       "      <td>1</td>\n",
       "    </tr>\n",
       "    <tr>\n",
       "      <td>4</td>\n",
       "      <td>4</td>\n",
       "      <td>-1</td>\n",
       "      <td>8.460494</td>\n",
       "      <td>1</td>\n",
       "      <td>1</td>\n",
       "    </tr>\n",
       "    <tr>\n",
       "      <td>5</td>\n",
       "      <td>5</td>\n",
       "      <td>-1</td>\n",
       "      <td>8.460494</td>\n",
       "      <td>1</td>\n",
       "      <td>1</td>\n",
       "    </tr>\n",
       "    <tr>\n",
       "      <td>6</td>\n",
       "      <td>6</td>\n",
       "      <td>1</td>\n",
       "      <td>0.100000</td>\n",
       "      <td>0</td>\n",
       "      <td>1</td>\n",
       "    </tr>\n",
       "    <tr>\n",
       "      <td>7</td>\n",
       "      <td>7</td>\n",
       "      <td>1</td>\n",
       "      <td>0.100000</td>\n",
       "      <td>0</td>\n",
       "      <td>1</td>\n",
       "    </tr>\n",
       "    <tr>\n",
       "      <td>8</td>\n",
       "      <td>8</td>\n",
       "      <td>1</td>\n",
       "      <td>0.100000</td>\n",
       "      <td>0</td>\n",
       "      <td>1</td>\n",
       "    </tr>\n",
       "    <tr>\n",
       "      <td>9</td>\n",
       "      <td>9</td>\n",
       "      <td>-1</td>\n",
       "      <td>0.100000</td>\n",
       "      <td>0</td>\n",
       "      <td>-1</td>\n",
       "    </tr>\n",
       "  </tbody>\n",
       "</table>\n",
       "</div>"
      ],
      "text/plain": [
       "   x  y         w  j  p\n",
       "0  0  1  0.100000  0  1\n",
       "1  1  1  0.100000  0  1\n",
       "2  2  1  0.100000  0  1\n",
       "3  3 -1  8.460494  1  1\n",
       "4  4 -1  8.460494  1  1\n",
       "5  5 -1  8.460494  1  1\n",
       "6  6  1  0.100000  0  1\n",
       "7  7  1  0.100000  0  1\n",
       "8  8  1  0.100000  0  1\n",
       "9  9 -1  0.100000  0 -1"
      ]
     },
     "execution_count": 94,
     "metadata": {},
     "output_type": "execute_result"
    }
   ],
   "source": [
    "df3 = compute_weights(df2)\n",
    "df3"
   ]
  }
 ],
 "metadata": {
  "kernelspec": {
   "display_name": "Python 3",
   "language": "python",
   "name": "python3"
  },
  "language_info": {
   "codemirror_mode": {
    "name": "ipython",
    "version": 3
   },
   "file_extension": ".py",
   "mimetype": "text/x-python",
   "name": "python",
   "nbconvert_exporter": "python",
   "pygments_lexer": "ipython3",
   "version": "3.6.5"
  }
 },
 "nbformat": 4,
 "nbformat_minor": 2
}
