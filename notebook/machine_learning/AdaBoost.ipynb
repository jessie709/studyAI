{
 "cells": [
  {
   "cell_type": "markdown",
   "metadata": {},
   "source": [
    "# AdaBoost\n",
    "\n",
    "已下内容源自 [Introduction to AdaBoost Algorithm](https://www.educba.com/adaboost-algorithm/)\n",
    "\n",
    "在机器学习领域，boosting 所要解决的问题是：是否可以将一系列的弱分类器变成强分类器。\n",
    "\n",
    "> **弱分类器**：英文 weak classifier, 比随机分类略好的分类器。\n",
    "\n",
    "AdaBoost 就是 Boosting 中的一种算法，英文全称是 Adaptive Boosting （自适应增强）\n",
    "\n",
    "AdaBoost 最常用的弱分类器是单层决策树模型（one level decision tree）。\n",
    "\n",
    "> **one level decision tree**: 通常称之为 decision stump, 它由一个 root node 和 与 root node 直接连接的 leaf node 组成。单层意味着尽可能对每一项属性进行一次判断。\n",
    "\n",
    "\n",
    "**Algorithm**\n",
    "\n",
    "> 1. Init data weights $\\{w_n\\}$ to $\\frac{1}{N}$\n",
    "1. for m = 1 to M do\n",
    "1.   &emsp;&emsp;fit a classifier $y_{m}(x)$ by minimizing weighted error function $J_{m}$:\n",
    "1.   &emsp;&emsp;$J_{m}=\\displaystyle\\sum_{n=1}^{N}w_n^{(m)}[1_{y_m(x_n) \\neq t_n}]$\n",
    "1.   &emsp;&emsp;compute $\\epsilon_{m}=\\frac{J_m}{\\displaystyle\\sum_{n=1}^{N} w_n^{(m)}}$\n",
    "1.   &emsp;&emsp;evaluate $\\alpha_m=\\log\\left(\\frac{1-\\epsilon_m}{\\epsilon_m}\\right)$\n",
    "1.   &emsp;&emsp;update the data weights: $w_n^{(m+1)}=w_n^{(m)}exp\\{\\alpha_m[1_{y_m(x_n) \\neq t_n}]\\}$\n",
    "1. end for\n",
    "1. Make predictions using the final model: $Y_{M}(x)=sign\\left(\\displaystyle\\sum_{m=1}^{M} \\alpha_{m}y_{m}(x) \\right)$\n",
    "\n",
    "**算法参数说明：**\n",
    "\n",
    "> - $w$: 权重\n",
    "- $w_n$: 第 n 条记录的权重\n",
    "- $N$: 数据集总记录数\n",
    "- $m$: 分类器\n",
    "- $M$: 分类器的总数\n",
    "- $w_n^{(m)}$: 第 m 个分类器中第 n 条记录的权重\n",
    "- $y_m{(x)}$: 第 m 个分类器的预测结果集\n",
    "- $y_m(x_n)$: 第 m 个分类器对第 n 条记录的预测结果\n",
    "- $[1_{y_m(x_n) \\neq t_n}]$: 当实际结果与预测结果不一致是取1，否则取0\n",
    "- $sign$: 小于0返回-1，否则返回1\n",
    "\n",
    "**算法说明：**\n",
    "\n",
    "> - 第 4 行 $J_m$ 求的是最小的预测错误记录权重合计（*这里所指的“最小”是这个意思：比如挑瓜例子中，当前模型用的是按纹理属性做分类，纹理属性中有三类值，清晰、稍糊和模糊，那么这里就会出现到底按清晰分类呢还是按稍糊或者模糊分类呢？这里最小的意思就是，分别按这三类进行分类，并统计出每种分类的预测错误记录权重合计，最后选择最小的那个预测错误权重作为 $J_m$ 的值*）；\n",
    "- 第 5 行 $\\epsilon_{m}$ 求的是预测错误的记录权重的合计与整个样本集中所有记录权重合计的比，可以理解为**预测错误权重比**，这个比值随着预测错误率的提升而提升。【正比】；\n",
    "- 第 6 行中的 $\\frac{1-\\epsilon_m}{\\epsilon_m}$ 求的是预测正确权重与预测错误权重的比值，该比值随着预测错误率的提升而降低。$\\alpha_m$则是对该比值求对数，由于 $\\frac{1-\\epsilon_m}{\\epsilon_m}$ 取值区间在 $(0,1)$ 之间，也就是说 $\\frac{1-\\epsilon_m}{\\epsilon_m}$ 越大 $\\alpha_m$ 越小，反之亦然。也就说 $\\alpha_m$ 着预测错误率的提升而提升。【正比】"
   ]
  },
  {
   "cell_type": "code",
   "execution_count": 1,
   "metadata": {},
   "outputs": [],
   "source": [
    "import numpy as np\n",
    "import matplotlib.pyplot as plt\n",
    "import pandas as pd"
   ]
  },
  {
   "cell_type": "code",
   "execution_count": 43,
   "metadata": {},
   "outputs": [
    {
     "data": {
      "image/png": "[encoded data removed]",
      "text/plain": [
       "<Figure size 432x288 with 1 Axes>"
      ]
     },
     "metadata": {},
     "output_type": "display_data"
    }
   ],
   "source": [
    "x = np.linspace(0.001, 0.999, 100)\n",
    "y = np.log((1-x)/x)\n",
    "plt.title(r'log function $x \\in (0, 1)$')\n",
    "plt.axhline(0, c='r', ls='--')\n",
    "plt.plot(x, y)\n",
    "plt.show()\n",
    "# plt.savefig('../pic/AdaBoost_log.png')"
   ]
  },
  {
   "cell_type": "code",
   "execution_count": 48,
   "metadata": {
    "scrolled": true
   },
   "outputs": [
    {
     "data": {
      "image/png": "[encoded data removed]",
      "text/plain": [
       "<Figure size 432x288 with 1 Axes>"
      ]
     },
     "metadata": {},
     "output_type": "display_data"
    }
   ],
   "source": [
    "x = np.linspace(0.1, 0.9, 100)\n",
    "plt.title(r'$\\frac{1-x}{x}$')\n",
    "plt.plot(x, (1-x)/x)\n",
    "plt.show()\n",
    "# plt.savefig('../pic/AdaBoost_01.png')"
   ]
  },
  {
   "cell_type": "code",
   "execution_count": 46,
   "metadata": {
    "scrolled": true
   },
   "outputs": [
    {
     "data": {
      "image/png": "[encoded data removed]",
      "text/plain": [
       "<Figure size 432x288 with 1 Axes>"
      ]
     },
     "metadata": {},
     "output_type": "display_data"
    }
   ],
   "source": [
    "x = np.linspace(-10, 10, 1000)\n",
    "y = np.exp(x)\n",
    "plt.title(r'$e^x$')\n",
    "plt.plot(x, y)\n",
    "plt.show()\n",
    "# plt.savefig('../pic/AdaBoost_e.png')"
   ]
  },
  {
   "cell_type": "code",
   "execution_count": 86,
   "metadata": {
    "scrolled": true
   },
   "outputs": [
    {
     "data": {
      "text/html": [
       "<div>\n",
       "<style scoped>\n",
       "    .dataframe tbody tr th:only-of-type {\n",
       "        vertical-align: middle;\n",
       "    }\n",
       "\n",
       "    .dataframe tbody tr th {\n",
       "        vertical-align: top;\n",
       "    }\n",
       "\n",
       "    .dataframe thead th {\n",
       "        text-align: right;\n",
       "    }\n",
       "</style>\n",
       "<table border=\"1\" class=\"dataframe\">\n",
       "  <thead>\n",
       "    <tr style=\"text-align: right;\">\n",
       "      <th></th>\n",
       "      <th>x</th>\n",
       "      <th>y</th>\n",
       "    </tr>\n",
       "  </thead>\n",
       "  <tbody>\n",
       "    <tr>\n",
       "      <th>0</th>\n",
       "      <td>0</td>\n",
       "      <td>1</td>\n",
       "    </tr>\n",
       "    <tr>\n",
       "      <th>1</th>\n",
       "      <td>1</td>\n",
       "      <td>1</td>\n",
       "    </tr>\n",
       "    <tr>\n",
       "      <th>2</th>\n",
       "      <td>2</td>\n",
       "      <td>1</td>\n",
       "    </tr>\n",
       "    <tr>\n",
       "      <th>3</th>\n",
       "      <td>3</td>\n",
       "      <td>-1</td>\n",
       "    </tr>\n",
       "    <tr>\n",
       "      <th>4</th>\n",
       "      <td>4</td>\n",
       "      <td>-1</td>\n",
       "    </tr>\n",
       "    <tr>\n",
       "      <th>5</th>\n",
       "      <td>5</td>\n",
       "      <td>-1</td>\n",
       "    </tr>\n",
       "    <tr>\n",
       "      <th>6</th>\n",
       "      <td>6</td>\n",
       "      <td>1</td>\n",
       "    </tr>\n",
       "    <tr>\n",
       "      <th>7</th>\n",
       "      <td>7</td>\n",
       "      <td>1</td>\n",
       "    </tr>\n",
       "    <tr>\n",
       "      <th>8</th>\n",
       "      <td>8</td>\n",
       "      <td>1</td>\n",
       "    </tr>\n",
       "    <tr>\n",
       "      <th>9</th>\n",
       "      <td>9</td>\n",
       "      <td>-1</td>\n",
       "    </tr>\n",
       "  </tbody>\n",
       "</table>\n",
       "</div>"
      ],
      "text/plain": [
       "   x  y\n",
       "0  0  1\n",
       "1  1  1\n",
       "2  2  1\n",
       "3  3 -1\n",
       "4  4 -1\n",
       "5  5 -1\n",
       "6  6  1\n",
       "7  7  1\n",
       "8  8  1\n",
       "9  9 -1"
      ]
     },
     "execution_count": 86,
     "metadata": {},
     "output_type": "execute_result"
    }
   ],
   "source": [
    "# 构建数据集\n",
    "df = pd.DataFrame({\n",
    "    'x': np.arange(10),\n",
    "    'y': [1,1,1,-1,-1,-1,1,1,1,-1]\n",
    "})\n",
    "df"
   ]
  },
  {
   "cell_type": "code",
   "execution_count": 87,
   "metadata": {},
   "outputs": [
    {
     "data": {
      "text/html": [
       "<div>\n",
       "<style scoped>\n",
       "    .dataframe tbody tr th:only-of-type {\n",
       "        vertical-align: middle;\n",
       "    }\n",
       "\n",
       "    .dataframe tbody tr th {\n",
       "        vertical-align: top;\n",
       "    }\n",
       "\n",
       "    .dataframe thead th {\n",
       "        text-align: right;\n",
       "    }\n",
       "</style>\n",
       "<table border=\"1\" class=\"dataframe\">\n",
       "  <thead>\n",
       "    <tr style=\"text-align: right;\">\n",
       "      <th></th>\n",
       "      <th>x</th>\n",
       "      <th>y</th>\n",
       "      <th>w</th>\n",
       "      <th>p</th>\n",
       "      <th>j</th>\n",
       "    </tr>\n",
       "  </thead>\n",
       "  <tbody>\n",
       "    <tr>\n",
       "      <th>0</th>\n",
       "      <td>0</td>\n",
       "      <td>1</td>\n",
       "      <td>1</td>\n",
       "      <td>NaN</td>\n",
       "      <td>NaN</td>\n",
       "    </tr>\n",
       "    <tr>\n",
       "      <th>1</th>\n",
       "      <td>1</td>\n",
       "      <td>1</td>\n",
       "      <td>1</td>\n",
       "      <td>NaN</td>\n",
       "      <td>NaN</td>\n",
       "    </tr>\n",
       "    <tr>\n",
       "      <th>2</th>\n",
       "      <td>2</td>\n",
       "      <td>1</td>\n",
       "      <td>1</td>\n",
       "      <td>NaN</td>\n",
       "      <td>NaN</td>\n",
       "    </tr>\n",
       "    <tr>\n",
       "      <th>3</th>\n",
       "      <td>3</td>\n",
       "      <td>-1</td>\n",
       "      <td>1</td>\n",
       "      <td>NaN</td>\n",
       "      <td>NaN</td>\n",
       "    </tr>\n",
       "    <tr>\n",
       "      <th>4</th>\n",
       "      <td>4</td>\n",
       "      <td>-1</td>\n",
       "      <td>1</td>\n",
       "      <td>NaN</td>\n",
       "      <td>NaN</td>\n",
       "    </tr>\n",
       "    <tr>\n",
       "      <th>5</th>\n",
       "      <td>5</td>\n",
       "      <td>-1</td>\n",
       "      <td>1</td>\n",
       "      <td>NaN</td>\n",
       "      <td>NaN</td>\n",
       "    </tr>\n",
       "    <tr>\n",
       "      <th>6</th>\n",
       "      <td>6</td>\n",
       "      <td>1</td>\n",
       "      <td>1</td>\n",
       "      <td>NaN</td>\n",
       "      <td>NaN</td>\n",
       "    </tr>\n",
       "    <tr>\n",
       "      <th>7</th>\n",
       "      <td>7</td>\n",
       "      <td>1</td>\n",
       "      <td>1</td>\n",
       "      <td>NaN</td>\n",
       "      <td>NaN</td>\n",
       "    </tr>\n",
       "    <tr>\n",
       "      <th>8</th>\n",
       "      <td>8</td>\n",
       "      <td>1</td>\n",
       "      <td>1</td>\n",
       "      <td>NaN</td>\n",
       "      <td>NaN</td>\n",
       "    </tr>\n",
       "    <tr>\n",
       "      <th>9</th>\n",
       "      <td>9</td>\n",
       "      <td>-1</td>\n",
       "      <td>1</td>\n",
       "      <td>NaN</td>\n",
       "      <td>NaN</td>\n",
       "    </tr>\n",
       "  </tbody>\n",
       "</table>\n",
       "</div>"
      ],
      "text/plain": [
       "   x  y  w   p   j\n",
       "0  0  1  1 NaN NaN\n",
       "1  1  1  1 NaN NaN\n",
       "2  2  1  1 NaN NaN\n",
       "3  3 -1  1 NaN NaN\n",
       "4  4 -1  1 NaN NaN\n",
       "5  5 -1  1 NaN NaN\n",
       "6  6  1  1 NaN NaN\n",
       "7  7  1  1 NaN NaN\n",
       "8  8  1  1 NaN NaN\n",
       "9  9 -1  1 NaN NaN"
      ]
     },
     "execution_count": 87,
     "metadata": {},
     "output_type": "execute_result"
    }
   ],
   "source": [
    "# 添加权重\n",
    "df['w'] = 1\n",
    "# 预测结果\n",
    "df['p'] = np.nan\n",
    "# 预测结果与实际值相等显示0 否则显示1\n",
    "df['j'] = np.nan\n",
    "df"
   ]
  },
  {
   "cell_type": "code",
   "execution_count": 67,
   "metadata": {
    "scrolled": true
   },
   "outputs": [
    {
     "data": {
      "text/plain": [
       "(3, 0.30000000000000004)"
      ]
     },
     "execution_count": 67,
     "metadata": {},
     "output_type": "execute_result"
    }
   ],
   "source": [
    "res = []\n",
    "for i in np.arange(1, df.shape[0]):\n",
    "    df.loc[:i, 'p'] = 1\n",
    "    df.loc[i:, 'p'] = -1\n",
    "    df['j'] = (df['y'] != df['p']).astype(np.int)\n",
    "    res.append((i, (df['w'] * df['j']).sum()))\n",
    "j = min(res, key=lambda x: x[1])\n",
    "j"
   ]
  },
  {
   "cell_type": "code",
   "execution_count": 68,
   "metadata": {},
   "outputs": [
    {
     "data": {
      "text/plain": [
       "0.30000000000000004"
      ]
     },
     "execution_count": 68,
     "metadata": {},
     "output_type": "execute_result"
    }
   ],
   "source": [
    "epsilon = j[1]/df['w'].sum()\n",
    "epsilon"
   ]
  },
  {
   "cell_type": "code",
   "execution_count": 69,
   "metadata": {},
   "outputs": [
    {
     "data": {
      "text/plain": [
       "0.8472978603872034"
      ]
     },
     "execution_count": 69,
     "metadata": {},
     "output_type": "execute_result"
    }
   ],
   "source": [
    "alpha = np.log((1-epsilon)/epsilon)\n",
    "alpha"
   ]
  },
  {
   "cell_type": "code",
   "execution_count": 70,
   "metadata": {},
   "outputs": [
    {
     "data": {
      "text/plain": [
       "0    0.100000\n",
       "1    0.100000\n",
       "2    0.100000\n",
       "3    0.233333\n",
       "4    0.233333\n",
       "5    0.233333\n",
       "6    0.100000\n",
       "7    0.100000\n",
       "8    0.100000\n",
       "9    0.100000\n",
       "dtype: float64"
      ]
     },
     "execution_count": 70,
     "metadata": {},
     "output_type": "execute_result"
    }
   ],
   "source": [
    "next_w = df['w'] * np.exp(alpha * df['j'])\n",
    "next_w"
   ]
  },
  {
   "cell_type": "code",
   "execution_count": 89,
   "metadata": {},
   "outputs": [],
   "source": [
    "def compute_weights(p_df):\n",
    "    df = p_df.copy()\n",
    "    arr = []\n",
    "    for i in np.arange(1, df.shape[0]):\n",
    "        df.loc[:i, 'p'] = 1\n",
    "        df.loc[i:, 'p'] = -1\n",
    "        df['j'] = (df['y'] != df['p']).astype(np.int)\n",
    "        arr.append((i, (df['w'] * df['j']).sum()))\n",
    "    j = min(res, key=lambda x: x[1])\n",
    "    epsilon = j[1]/df['w'].sum()\n",
    "    alpha = np.log((1-epsilon)/epsilon)\n",
    "    df['w'] = df['w'] * np.exp(alpha * df['j'])\n",
    "    return df, j, arr\n",
    "\n",
    "def compute_weights2(p_df):\n",
    "    df = p_df.copy()\n",
    "    arr = []\n",
    "    for i in np.arange(1, df.shape[0]):\n",
    "        df.loc[:i, 'p'] = 1\n",
    "        df.loc[i:, 'p'] = -1\n",
    "        df['j'] = (df['y'] != df['p']).astype(np.int)\n",
    "        arr.append((i, (df['w'] * df['j']).sum()))\n",
    "    j = min(res, key=lambda x: x[1])\n",
    "    epsilon = j[1]/df['w'].sum()\n",
    "    d = np.sqrt((1-epsilon)/epsilon)\n",
    "    alpha = np.log((1-epsilon)/epsilon)\n",
    "    df.loc[df['j'] != 0, 'w'] = df.loc[df['j'] != 0, 'w'] * d\n",
    "    df.loc[df['j'] == 0, 'w'] = df.loc[df['j'] == 0, 'w'] / d\n",
    "    return df, j, arr\n",
    "\n",
    "def compute_weights3(p_df, threshold):\n",
    "    df = p_df.copy()\n",
    "    df.loc[:threshold, 'p'] = 1\n",
    "    df.loc[threshold:, 'p'] = -1\n",
    "    df['j'] = (df['y'] != df['p']).astype(np.int)\n",
    "    j = (df['w'] * df['j']).sum()\n",
    "    epsilon = j / df['w'].sum()\n",
    "    d = np.sqrt((1-epsilon)/epsilon)\n",
    "    alpha = np.log((1-epsilon)/epsilon) / 2\n",
    "    df.loc[df['j'] != 0, 'w'] = df.loc[df['j'] != 0, 'w'] * d\n",
    "    df.loc[df['j'] == 0, 'w'] = df.loc[df['j'] == 0, 'w'] / d\n",
    "    return df, epsilon, d, alpha"
   ]
  },
  {
   "cell_type": "code",
   "execution_count": 90,
   "metadata": {},
   "outputs": [
    {
     "data": {
      "text/html": [
       "<div>\n",
       "<style scoped>\n",
       "    .dataframe tbody tr th:only-of-type {\n",
       "        vertical-align: middle;\n",
       "    }\n",
       "\n",
       "    .dataframe tbody tr th {\n",
       "        vertical-align: top;\n",
       "    }\n",
       "\n",
       "    .dataframe thead th {\n",
       "        text-align: right;\n",
       "    }\n",
       "</style>\n",
       "<table border=\"1\" class=\"dataframe\">\n",
       "  <thead>\n",
       "    <tr style=\"text-align: right;\">\n",
       "      <th></th>\n",
       "      <th>x</th>\n",
       "      <th>y</th>\n",
       "      <th>w</th>\n",
       "      <th>p</th>\n",
       "      <th>j</th>\n",
       "    </tr>\n",
       "  </thead>\n",
       "  <tbody>\n",
       "    <tr>\n",
       "      <th>0</th>\n",
       "      <td>0</td>\n",
       "      <td>1</td>\n",
       "      <td>1</td>\n",
       "      <td>NaN</td>\n",
       "      <td>NaN</td>\n",
       "    </tr>\n",
       "    <tr>\n",
       "      <th>1</th>\n",
       "      <td>1</td>\n",
       "      <td>1</td>\n",
       "      <td>1</td>\n",
       "      <td>NaN</td>\n",
       "      <td>NaN</td>\n",
       "    </tr>\n",
       "    <tr>\n",
       "      <th>2</th>\n",
       "      <td>2</td>\n",
       "      <td>1</td>\n",
       "      <td>1</td>\n",
       "      <td>NaN</td>\n",
       "      <td>NaN</td>\n",
       "    </tr>\n",
       "    <tr>\n",
       "      <th>3</th>\n",
       "      <td>3</td>\n",
       "      <td>-1</td>\n",
       "      <td>1</td>\n",
       "      <td>NaN</td>\n",
       "      <td>NaN</td>\n",
       "    </tr>\n",
       "    <tr>\n",
       "      <th>4</th>\n",
       "      <td>4</td>\n",
       "      <td>-1</td>\n",
       "      <td>1</td>\n",
       "      <td>NaN</td>\n",
       "      <td>NaN</td>\n",
       "    </tr>\n",
       "    <tr>\n",
       "      <th>5</th>\n",
       "      <td>5</td>\n",
       "      <td>-1</td>\n",
       "      <td>1</td>\n",
       "      <td>NaN</td>\n",
       "      <td>NaN</td>\n",
       "    </tr>\n",
       "    <tr>\n",
       "      <th>6</th>\n",
       "      <td>6</td>\n",
       "      <td>1</td>\n",
       "      <td>1</td>\n",
       "      <td>NaN</td>\n",
       "      <td>NaN</td>\n",
       "    </tr>\n",
       "    <tr>\n",
       "      <th>7</th>\n",
       "      <td>7</td>\n",
       "      <td>1</td>\n",
       "      <td>1</td>\n",
       "      <td>NaN</td>\n",
       "      <td>NaN</td>\n",
       "    </tr>\n",
       "    <tr>\n",
       "      <th>8</th>\n",
       "      <td>8</td>\n",
       "      <td>1</td>\n",
       "      <td>1</td>\n",
       "      <td>NaN</td>\n",
       "      <td>NaN</td>\n",
       "    </tr>\n",
       "    <tr>\n",
       "      <th>9</th>\n",
       "      <td>9</td>\n",
       "      <td>-1</td>\n",
       "      <td>1</td>\n",
       "      <td>NaN</td>\n",
       "      <td>NaN</td>\n",
       "    </tr>\n",
       "  </tbody>\n",
       "</table>\n",
       "</div>"
      ],
      "text/plain": [
       "   x  y  w   p   j\n",
       "0  0  1  1 NaN NaN\n",
       "1  1  1  1 NaN NaN\n",
       "2  2  1  1 NaN NaN\n",
       "3  3 -1  1 NaN NaN\n",
       "4  4 -1  1 NaN NaN\n",
       "5  5 -1  1 NaN NaN\n",
       "6  6  1  1 NaN NaN\n",
       "7  7  1  1 NaN NaN\n",
       "8  8  1  1 NaN NaN\n",
       "9  9 -1  1 NaN NaN"
      ]
     },
     "execution_count": 90,
     "metadata": {},
     "output_type": "execute_result"
    }
   ],
   "source": [
    "df"
   ]
  },
  {
   "cell_type": "code",
   "execution_count": 93,
   "metadata": {},
   "outputs": [
    {
     "name": "stdout",
     "output_type": "stream",
     "text": [
      "   x  y         w    p  j\n",
      "0  0  1  0.654654  1.0  0\n",
      "1  1  1  0.654654  1.0  0\n",
      "2  2  1  0.654654  1.0  0\n",
      "3  3 -1  0.654654 -1.0  0\n",
      "4  4 -1  0.654654 -1.0  0\n",
      "5  5 -1  0.654654 -1.0  0\n",
      "6  6  1  1.527525 -1.0  1\n",
      "7  7  1  1.527525 -1.0  1\n",
      "8  8  1  1.527525 -1.0  1\n",
      "9  9 -1  0.654654 -1.0  0\n",
      "epsilon=0.3, d=1.5275252316519468, alpha=0.42364893019360184\n"
     ]
    }
   ],
   "source": [
    "df1, epsilon, d, alpha = compute_weights3(df, 3)\n",
    "print(df1)\n",
    "print(f'epsilon={epsilon}, d={d}, alpha={alpha}')"
   ]
  },
  {
   "cell_type": "code",
   "execution_count": 96,
   "metadata": {
    "scrolled": true
   },
   "outputs": [
    {
     "name": "stdout",
     "output_type": "stream",
     "text": [
      "   x  y         w    p  j\n",
      "0  0  1  0.513553  1.0  0\n",
      "1  1  1  0.513553  1.0  0\n",
      "2  2  1  0.513553  1.0  0\n",
      "3  3 -1  0.834523  1.0  1\n",
      "4  4 -1  0.834523  1.0  1\n",
      "5  5 -1  0.834523  1.0  1\n",
      "6  6  1  1.198289  1.0  0\n",
      "7  7  1  1.198289  1.0  0\n",
      "8  8  1  1.947220 -1.0  1\n",
      "9  9 -1  0.513553 -1.0  0\n",
      "epsilon=0.3809523809523809, d=1.2747548783981963, alpha=0.24275390789085055\n"
     ]
    }
   ],
   "source": [
    "df2, epsilon, d, alpha = compute_weights3(df1, 8)\n",
    "print(df2)\n",
    "print(f'epsilon={epsilon}, d={d}, alpha={alpha}')"
   ]
  },
  {
   "cell_type": "code",
   "execution_count": 97,
   "metadata": {},
   "outputs": [
    {
     "name": "stdout",
     "output_type": "stream",
     "text": [
      "   x  y         w    p  j\n",
      "0  0  1  0.740920  1.0  0\n",
      "1  1  1  0.740920  1.0  0\n",
      "2  2  1  0.740920  1.0  0\n",
      "3  3 -1  0.578432  1.0  1\n",
      "4  4 -1  0.578432  1.0  1\n",
      "5  5 -1  1.203995 -1.0  0\n",
      "6  6  1  0.830568 -1.0  1\n",
      "7  7  1  0.830568 -1.0  1\n",
      "8  8  1  1.349674 -1.0  1\n",
      "9  9 -1  0.740920 -1.0  0\n",
      "epsilon=0.6754807692307693, d=0.6931284486033921, alpha=-0.3665399454476583\n"
     ]
    }
   ],
   "source": [
    "df3, epsilon, d, alpha = compute_weights3(df2, 5)\n",
    "print(df3)\n",
    "print(f'epsilon={epsilon}, d={d}, alpha={alpha}')"
   ]
  }
 ],
 "metadata": {
  "kernelspec": {
   "display_name": "Python 3",
   "language": "python",
   "name": "python3"
  },
  "language_info": {
   "codemirror_mode": {
    "name": "ipython",
    "version": 3
   },
   "file_extension": ".py",
   "mimetype": "text/x-python",
   "name": "python",
   "nbconvert_exporter": "python",
   "pygments_lexer": "ipython3",
   "version": "3.6.5"
  }
 },
 "nbformat": 4,
 "nbformat_minor": 2
}
