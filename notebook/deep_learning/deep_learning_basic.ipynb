{
 "cells": [
  {
   "cell_type": "markdown",
   "metadata": {},
   "source": [
    "# CNN 的基本组件\n",
    "\n",
    "> CNN 卷积神经网络 Convolutional Neural Network"
   ]
  },
  {
   "cell_type": "markdown",
   "metadata": {},
   "source": [
    "## 卷积层 Convolutional Layer\n",
    "\n",
    "**特性**\n",
    "\n",
    "- 权值共享\n",
    "- 局部\n",
    "- 层层递进\n",
    "\n",
    "**核心概念**\n",
    "\n",
    "- Filter 滤波器\n",
    "- Kernel 卷积核\n",
    "- Channel 通道\n",
    "\n",
    "### Input (the training data)\n",
    "\n",
    "图片识别中, 输入数据是图片, 对于一张图片而言它的维度是 3 维的, 表示为[width, height, depth], [图片的宽度, 图片的高度, 图片的深度], 这里的图片深度指的是图片的通道, 比如一张 256\\*256 的彩色图片, [256, 256, 3], 彩色图片的通道是 3, 表示 R, G, B. 如果是 24\\*24 的黑白图片, [24, 24, 1].\n",
    "\n",
    "对于训练集而言, 它的维度是 4 维的, 增加了样本数量这一维度, 表示为[number of samples, width, height, depth], [图片的数量, 图片的宽度, 图片的高度, 图片的深度]\n",
    "\n",
    "### Filter\n",
    "\n",
    "过滤器的维度是 4 维的, 表示为[number of filters, rows, columns, number of kernel], [过滤器的数量, 卷积核的行数, 卷积核的列数, 卷积核的数量]. 这里卷积核的数量等于输入数据中的深度(depth == number of kernel). 通常卷积核的行数和列数不会超过 11.\n",
    "\n",
    "### Stride\n",
    "\n",
    "stride 步幅或称为步长, 用于控制降维, 如果步长等于 2, 即表示将输出结果的维度等于输入数据维度的 $\\frac{1}{2}$\n",
    "\n",
    "## Padding\n",
    "\n",
    "表示卷积核在对数据进行扫描时, 如果维度不够是否进行扩展, 这里的扩展是环形扩展.\n",
    "\n",
    "## size of data & size of kernel & stride\n",
    "\n",
    "核的大小,图片的大小以及步长间的关系, 设数据(图片)的大小为 $S$, 卷积核的大小为 $K$, 步长为 $D$, 输出的数据大小 $O$, 则公式\n",
    "\n",
    "$\n",
    "O = \\frac{S-K}{D}\n",
    "$\n",
    "\n",
    "- 上式如余数为零, 则表示无需填充(padding), $O$ 等于商\n",
    "- 上式如余数不为零, 则不填充的情况下 $O$ 等于商; 填充的情况下 $O$ 等于商加一, 填充的数量等于余数\n",
    "\n",
    "## 总结\n",
    "\n",
    "**关于维度的变化**: 输入数据的 depth 维度会根据 filter 过滤器的数量进行改变, 比如输入数据的 depth=3, 过滤器的数量等于 32, 则输出的数据的 depth 这个维度会从 3 维变为 32 维.\n"
   ]
  },
  {
   "cell_type": "markdown",
   "metadata": {},
   "source": [
    "## 池化层 Pooling Layer"
   ]
  },
  {
   "cell_type": "markdown",
   "metadata": {},
   "source": [
    "## 神经网络(全连接) Neural Network"
   ]
  },
  {
   "cell_type": "code",
   "execution_count": null,
   "metadata": {},
   "outputs": [],
   "source": []
  }
 ],
 "metadata": {
  "kernelspec": {
   "display_name": "Python 3",
   "language": "python",
   "name": "python3"
  },
  "language_info": {
   "codemirror_mode": {
    "name": "ipython",
    "version": 3
   },
   "file_extension": ".py",
   "mimetype": "text/x-python",
   "name": "python",
   "nbconvert_exporter": "python",
   "pygments_lexer": "ipython3",
   "version": "3.6.8"
  },
  "toc": {
   "base_numbering": 1,
   "nav_menu": {},
   "number_sections": true,
   "sideBar": true,
   "skip_h1_title": false,
   "title_cell": "Table of Contents",
   "title_sidebar": "Contents",
   "toc_cell": false,
   "toc_position": {},
   "toc_section_display": true,
   "toc_window_display": false
  }
 },
 "nbformat": 4,
 "nbformat_minor": 2
}
