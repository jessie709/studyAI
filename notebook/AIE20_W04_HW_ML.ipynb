{
 "cells": [
  {
   "cell_type": "markdown",
   "metadata": {},
   "source": [
    "# 分类算法与回归算法\n",
    "\n",
    "\n",
    "## 分类算法\n",
    "\n",
    "### P1: Distance\n",
    "\n",
    "在 scikit-learn 中有如下 Distance：\n",
    "\n",
    "- 向量空间实数值 real-valued vector space\n",
    "    - 欧几里得距离 Euclidean distance $\\sqrt{\\sum(\\vec x-\\vec y)^2}$\n",
    "    - 曼哈顿距离 Manhattan distance $\\sum |\\vec x-\\vec y|$\n",
    "    - 切比雪夫距离 Chebyshev distance $\\max(|\\vec x-\\vec y|)$\n",
    "    - 闵可夫斯基距离 Minkowski distance $\\sum(|\\vec x-\\vec y|^{p})^{\\frac{1}{p}}$\n",
    "    - W闵可夫斯基距离 WMinkowski distance $\\sum(|w(\\vec x-\\vec y)|^{p})^{\\frac{1}{p}}$\n",
    "    - S欧几里得距离 Seuclidean distance $\\sqrt{\\frac{\\sum(\\vec x-\\vec y)^2}{V}}$\n",
    "    - 马哈拉诺比斯距离 Mahalanobis distance $\\sqrt{(\\vec x-\\vec y)'V^{-1}(\\vec x-\\vec y)}$\n",
    "- 向量空间二维 two-dimensional vector space\n",
    "    - 半正失距离 Haversine distance\n",
    "- 向量空间整数值 integer-valued vector space\n",
    "    - 海明距离 Hamming distance\n",
    "    - 堪培拉距离 Canberra distance\n",
    "    - 布雷柯蒂斯距离 Bray Curtis Distance"
   ]
  },
  {
   "cell_type": "code",
   "execution_count": 3,
   "metadata": {
    "ExecuteTime": {
     "end_time": "2019-10-30T09:28:30.432803Z",
     "start_time": "2019-10-30T09:28:30.427803Z"
    }
   },
   "outputs": [],
   "source": [
    "import numpy as np\n",
    "from sklearn.neighbors import DistanceMetric"
   ]
  },
  {
   "cell_type": "code",
   "execution_count": 18,
   "metadata": {
    "ExecuteTime": {
     "end_time": "2019-10-30T09:51:07.302803Z",
     "start_time": "2019-10-30T09:51:07.289803Z"
    }
   },
   "outputs": [
    {
     "name": "stdout",
     "output_type": "stream",
     "text": [
      "vector a is [0 1 2]\n",
      "vector b is [3 4 5]\n",
      "distance name is euclidean, distance value is \n",
      " [[0.         5.19615242]\n",
      " [5.19615242 0.        ]]\n",
      "distance name is manhattan, distance value is \n",
      " [[0. 9.]\n",
      " [9. 0.]]\n",
      "distance name is chebyshev, distance value is \n",
      " [[0. 3.]\n",
      " [3. 0.]]\n"
     ]
    }
   ],
   "source": [
    "X = np.arange(6).reshape((2, 3))\n",
    "print(f'vector a is {X[0, :]}')\n",
    "print(f'vector b is {X[1, :]}')\n",
    "\n",
    "dist_name = ['euclidean', 'manhattan', 'chebyshev']\n",
    "for d in dist_name:\n",
    "    dist = DistanceMetric.get_metric(d)\n",
    "    print(f'distance name is {d}, distance value is \\n {dist.pairwise(X)}')"
   ]
  },
  {
   "cell_type": "markdown",
   "metadata": {},
   "source": [
    "上述结果中的说明：\n",
    "\n",
    "- [0, 0]: 向量 a 与向量 a 的距离\n",
    "- [0, 1]: 向量 a 与向量 b 的距离\n",
    "- [1, 0]: 向量 b 与向量 a 的距离\n",
    "- [1, 1]: 向量 b 与向量 b 的距离"
   ]
  }
 ],
 "metadata": {
  "kernelspec": {
   "display_name": "Python 3",
   "language": "python",
   "name": "python3"
  },
  "language_info": {
   "codemirror_mode": {
    "name": "ipython",
    "version": 3
   },
   "file_extension": ".py",
   "mimetype": "text/x-python",
   "name": "python",
   "nbconvert_exporter": "python",
   "pygments_lexer": "ipython3",
   "version": "3.6.5"
  },
  "toc": {
   "base_numbering": 1,
   "nav_menu": {},
   "number_sections": true,
   "sideBar": true,
   "skip_h1_title": false,
   "title_cell": "Table of Contents",
   "title_sidebar": "Contents",
   "toc_cell": false,
   "toc_position": {},
   "toc_section_display": true,
   "toc_window_display": false
  }
 },
 "nbformat": 4,
 "nbformat_minor": 2
}
