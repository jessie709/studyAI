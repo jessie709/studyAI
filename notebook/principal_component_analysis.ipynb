{
 "cells": [
  {
   "cell_type": "code",
   "execution_count": 1,
   "metadata": {},
   "outputs": [],
   "source": [
    "import numpy as np"
   ]
  },
  {
   "cell_type": "code",
   "execution_count": 2,
   "metadata": {},
   "outputs": [
    {
     "name": "stdout",
     "output_type": "stream",
     "text": [
      "原始矩阵(5, 3)：\n",
      "[[ 2  8  6]\n",
      " [ 7 -5  6]\n",
      " [ 1 -1  0]\n",
      " [-1 -5 -5]\n",
      " [ 5 -4  8]]\n",
      "====================\n",
      "原始矩阵的转置矩阵(3, 5)：\n",
      "[[ 2  7  1 -1  5]\n",
      " [ 8 -5 -1 -5 -4]\n",
      " [ 6  6  0 -5  8]]\n",
      "====================\n",
      "转置矩阵的按行平均值(3, 1)：\n",
      "[[ 2.8]\n",
      " [-1.4]\n",
      " [ 3. ]]\n",
      "====================\n",
      "转置矩阵的按行进行均值零化(3, 5)：\n",
      "[[-0.8  4.2 -1.8 -3.8  2.2]\n",
      " [ 9.4 -3.6  0.4 -3.6 -2.6]\n",
      " [ 3.   3.  -3.  -8.   5. ]]\n",
      "====================\n",
      "协方差矩阵(3, 3)：\n",
      "[[ 8.16 -3.08 11.4 ]\n",
      " [-3.08 24.24  6.4 ]\n",
      " [11.4   6.4  23.2 ]]\n",
      "====================\n",
      "协方差矩阵的特征值：[31.96814626 23.04137495  0.59047879]\n",
      "协方差矩阵的特征向量(3, 3)：\n",
      "[[ 0.30933008  0.45103018  0.83718975]\n",
      " [ 0.53038    -0.81254911  0.24178711]\n",
      " [ 0.78931107  0.36923667 -0.49056327]]\n",
      "====================\n",
      "P is (3, 3)：\n",
      "[[ 0.30933008  0.53038     0.78931107]\n",
      " [ 0.45103018 -0.81254911  0.36923667]\n",
      " [ 0.83718975  0.24178711 -0.49056327]]\n",
      "====================\n",
      "协方差对角矩阵 = P @ C @ P.T\n",
      "[[ 3.19681463e+01  1.50428271e-14 -9.41172213e-15]\n",
      " [ 1.45019850e-14  2.30413749e+01 -1.67037218e-15]\n",
      " [-8.97555714e-15 -2.01348774e-15  5.90478793e-01]]\n",
      "====================\n"
     ]
    }
   ],
   "source": [
    "np.random.seed(709)\n",
    "x = np.random.randint(-5, 10, (5, 3))\n",
    "print(f'原始矩阵{x.shape}：')\n",
    "print(x)\n",
    "print('='*20)\n",
    "\n",
    "X = x.T\n",
    "print(f'原始矩阵的转置矩阵{X.shape}：')\n",
    "print(X)\n",
    "print('='*20)\n",
    "\n",
    "mu = X.mean(axis=1)[:, None]\n",
    "print(f'转置矩阵的按行平均值{mu.shape}：')\n",
    "print(mu)\n",
    "print('='*20)\n",
    "\n",
    "A = X - mu\n",
    "print(f'转置矩阵的按行进行均值零化{A.shape}：')\n",
    "print(A)\n",
    "print('='*20)\n",
    "\n",
    "C = (A @ A.T) / x.shape[0]\n",
    "print(f'协方差矩阵{C.shape}：')\n",
    "print(C)\n",
    "print('='*20)\n",
    "\n",
    "D, V = np.linalg.eig(C)\n",
    "idx = D.argsort()[::-1]\n",
    "D = D[idx]\n",
    "V = V[:, idx]\n",
    "print(f'协方差矩阵的特征值：{D}')\n",
    "print(f'协方差矩阵的特征向量{V.shape}：')\n",
    "print(V)\n",
    "print('='*20)\n",
    "\n",
    "P = V.T\n",
    "print(f'P is {P.shape}：')\n",
    "print(P)\n",
    "print('='*20)\n",
    "\n",
    "print(f'协方差对角矩阵 = P @ C @ P.T')\n",
    "print(P @ C @ P.T)\n",
    "print('='*20)"
   ]
  },
  {
   "cell_type": "code",
   "execution_count": 3,
   "metadata": {},
   "outputs": [
    {
     "name": "stdout",
     "output_type": "stream",
     "text": [
      "原始的3维数据，每行代表一个维度，每列代表一条记录\n",
      "[[ 2  7  1 -1  5]\n",
      " [ 8 -5 -1 -5 -4]\n",
      " [ 6  6  0 -5  8]]\n",
      "====================\n",
      "降到2维的数据，每行代表一个维度，每列代表一条记录\n",
      "[[ 9.59756654  4.24927698 -0.22104992 -6.9077854   5.73961895]\n",
      " [-3.38291248  9.43537686  1.26357929  1.76553201  8.45924072]]\n",
      "====================\n",
      "原数据与降维后的数据模长比较，绝对值越小表示降维所带来的信息丢失越少\n",
      "[0.02172436 0.14001179 0.1314448  0.01158955 0.02432981]\n",
      "====================\n"
     ]
    }
   ],
   "source": [
    "# 降维验证\n",
    "# 将3维原数据降到2维\n",
    "x_r = P[0:2, :] @ x.T\n",
    "print(f'原始的3维数据，每行代表一个维度，每列代表一条记录')\n",
    "print(x.T)\n",
    "print('='*20)\n",
    "\n",
    "print(f'降到2维的数据，每行代表一个维度，每列代表一条记录')\n",
    "print(x_r)\n",
    "print('='*20)\n",
    "\n",
    "print(f'原数据与降维后的数据模长比较，绝对值越小表示降维所带来的信息丢失越少')\n",
    "print(np.linalg.norm(x.T, axis=0) - np.linalg.norm(x_r, axis=0))\n",
    "print('='*20)"
   ]
  }
 ],
 "metadata": {
  "file_extension": ".py",
  "kernelspec": {
   "display_name": "Python 3",
   "language": "python",
   "name": "python3"
  },
  "language_info": {
   "codemirror_mode": {
    "name": "ipython",
    "version": 3
   },
   "file_extension": ".py",
   "mimetype": "text/x-python",
   "name": "python",
   "nbconvert_exporter": "python",
   "pygments_lexer": "ipython3",
   "version": "3.6.5"
  },
  "mimetype": "text/x-python",
  "name": "python",
  "npconvert_exporter": "python",
  "pygments_lexer": "ipython3",
  "version": 3
 },
 "nbformat": 4,
 "nbformat_minor": 2
}
