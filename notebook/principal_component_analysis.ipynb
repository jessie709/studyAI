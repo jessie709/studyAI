{
 "cells": [
  {
   "cell_type": "code",
   "execution_count": 35,
   "metadata": {},
   "outputs": [
    {
     "name": "stdout",
     "output_type": "stream",
     "text": [
      "     numpy version is 1.17.2\n",
      "    pandas version is 0.25.1\n",
      "matplotlib version is 3.1.1\n",
      "    opencv version is 3.4.1\n"
     ]
    }
   ],
   "source": [
    "import os\n",
    "import numpy as np\n",
    "import pandas as pd\n",
    "import matplotlib.pyplot as plt\n",
    "import matplotlib as mpl\n",
    "import cv2\n",
    "import re\n",
    "\n",
    "mpl.rcParams['font.sans-serif'] = ['SimHei']\n",
    "%matplotlib inline\n",
    "\n",
    "for lib in [('numpy',np), ('pandas', pd), ('matplotlib', mpl), ('opencv', cv2)]:\n",
    "    print(f'{lib[0]:>10} version is {lib[1].__version__}')"
   ]
  },
  {
   "cell_type": "code",
   "execution_count": 41,
   "metadata": {},
   "outputs": [],
   "source": [
    "def test_train_file_names(k, d):\n",
    "    \"\"\"\n",
    "    将指定目录下的文件分组，每组随机提取 k 比率的文件作为训练集，其余的作为测试集。\n",
    "    注意：该函数只对文件名操作，并非实际对文件操作\n",
    "    \n",
    "    Paramaters\n",
    "    -----------\n",
    "    k -- 训练集所占比率 0<k<=1\n",
    "    d -- 存放文件的目录\n",
    "    \n",
    "    Returns\n",
    "    -------\n",
    "    ndarray 1-D 训练集\n",
    "    ndarray 1-D 测试集\n",
    "    \"\"\"\n",
    "    # 构建的DataFrame的字段名称\n",
    "    FILE_NAME = 'file_name'\n",
    "    FILE_GROUP_NAME = 'file_group_name'\n",
    "    #\n",
    "    fn_list = os.listdir(d)\n",
    "    df = pd.DataFrame(fn_list, columns=[FILE_NAME])\n",
    "    df[FILE_GROUP_NAME] = df.file_name.str.extract(r'(.*)(_)')[0]\n",
    "    grouped = df.groupby([FILE_GROUP_NAME])\n",
    "    train_set = np.array([])\n",
    "    test_set = np.array([])\n",
    "    for v in grouped.groups.values():\n",
    "        data = df[FILE_NAME][v]\n",
    "        train = data.sample(frac=k)\n",
    "        test = data.drop(train.index)\n",
    "        train_set = np.concatenate((train_set, train.values))\n",
    "        test_set = np.concatenate((test_set, test.values))\n",
    "    return train_set, test_set\n",
    "\n",
    "def img2vector(img_file_path_name):\n",
    "    \"\"\"\n",
    "    图片向量化\n",
    "    将给定的图片(m, n), 输出(1, m*n)的行向量\n",
    "    \"\"\"\n",
    "    img = cv2.imread(img_file_path_name, 0)\n",
    "    return img.flatten().reshape(1, -1)\n",
    "\n",
    "def load_orl(k, d):\n",
    "    train_file_names, test_file_names = test_train_file_names(k, d)\n",
    "    train_set = img2vector(os.path.join(d, train_file_names[0]))\n",
    "    train_label = np.array([])\n",
    "    test_set = img2vector(os.path.join(d, test_file_names[0]))\n",
    "    test_label = np.array([])\n",
    "    for f in train_file_names:\n",
    "        img = img2vector(os.path.join(d, f))\n",
    "        train_set = np.concatenate((train_set, img))\n",
    "        train_label = np.append(train_label, re.sub('_.*', '', f))\n",
    "    train_set = train_set[1:,:]\n",
    "    for f in test_file_names:\n",
    "        img = img2vector(os.path.join(d, f))\n",
    "        test_set = np.concatenate((test_set, img))\n",
    "        test_label = np.append(test_label, re.sub('_.*', '', f))\n",
    "    test_set = test_set[1:,:]\n",
    "    return train_set, train_label, test_set, test_label"
   ]
  },
  {
   "cell_type": "code",
   "execution_count": 42,
   "metadata": {},
   "outputs": [
    {
     "name": "stdout",
     "output_type": "stream",
     "text": [
      "X.shape is (360, 10304); y.shape is (40, 10304);X_label.shape is (360,); y_label.shape is (40,)\n"
     ]
    }
   ],
   "source": [
    "X, X_label, y, y_label = load_orl(0.9, os.path.join('..', 'datas', 'ORL'))\n",
    "print(f'X.shape is {X.shape}; y.shape is {y.shape};'\n",
    "      f'X_label.shape is {X_label.shape}; y_label.shape is {y_label.shape}')\n"
   ]
  }
 ],
 "metadata": {
  "kernelspec": {
   "display_name": "Python 3",
   "language": "python",
   "name": "python3"
  },
  "language_info": {
   "codemirror_mode": {
    "name": "ipython",
    "version": 3
   },
   "file_extension": ".py",
   "mimetype": "text/x-python",
   "name": "python",
   "nbconvert_exporter": "python",
   "pygments_lexer": "ipython3",
   "version": "3.6.5"
  }
 },
 "nbformat": 4,
 "nbformat_minor": 2
}
