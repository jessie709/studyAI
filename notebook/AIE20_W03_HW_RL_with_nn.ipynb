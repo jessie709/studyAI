{
 "cells": [
  {
   "cell_type": "markdown",
   "metadata": {},
   "source": [
    "# 使用神经网络实现线性回归"
   ]
  },
  {
   "cell_type": "code",
   "execution_count": 7,
   "metadata": {
    "ExecuteTime": {
     "end_time": "2019-10-30T02:29:41.976306Z",
     "start_time": "2019-10-30T02:29:41.971306Z"
    }
   },
   "outputs": [],
   "source": [
    "import numpy as np\n",
    "import tensorflow as tf\n",
    "import matplotlib.pyplot as plt"
   ]
  },
  {
   "cell_type": "code",
   "execution_count": 8,
   "metadata": {
    "ExecuteTime": {
     "end_time": "2019-10-30T02:29:42.545306Z",
     "start_time": "2019-10-30T02:29:41.986306Z"
    },
    "code_folding": [
     14,
     35,
     38
    ],
    "scrolled": true
   },
   "outputs": [
    {
     "data": {
      "image/png": "[encoded data removed]",
      "text/plain": [
       "<Figure size 432x288 with 1 Axes>"
      ]
     },
     "metadata": {},
     "output_type": "display_data"
    }
   ],
   "source": [
    "tf.reset_default_graph()\n",
    "\n",
    "################################ Generate data #################################\n",
    "sample_rows = 500\n",
    "sample_cols = 1\n",
    "X = np.linspace(-1, 1, sample_rows * sample_cols, dtype=np.float32)\n",
    "X = X.reshape((sample_rows, sample_cols))\n",
    "# noise is normal distribution. mean is 0, standard deviation\n",
    "noise = np.random.normal(loc=0, scale=0.05, size=X.shape)\n",
    "y = np.square(X) - 0.5 + noise\n",
    "\n",
    "iterative_num = 100\n",
    "\n",
    "############################## Global Parameters ###############################\n",
    "learning_rate = 0.1\n",
    "\n",
    "def add_one_layer_nn(input,\n",
    "                    out_size,\n",
    "                    activation_function=None):\n",
    "    input_shape = input.get_shape().as_list()\n",
    "    W = tf.Variable(tf.random_normal(shape=[input_shape[1], out_size]))\n",
    "    b = tf.Variable(tf.constant(0.1, shape=[1, out_size]))\n",
    "    f = tf.add(tf.matmul(input, W), b)\n",
    "    \n",
    "    if activation_function is None:\n",
    "        return f\n",
    "    \n",
    "    return activation_function(f)  \n",
    "\n",
    "############################### Structure Graph ################################\n",
    "X_batch = tf.placeholder(tf.float32, [None, sample_cols])\n",
    "y_batch = tf.placeholder(tf.float32, [None, sample_cols])\n",
    "\n",
    "# create neural network\n",
    "h1_layer = add_one_layer_nn(X_batch, 10, activation_function=tf.nn.relu)\n",
    "output_layer = add_one_layer_nn(h1_layer, 1)\n",
    "# Loss function\n",
    "loss_op = tf.reduce_mean(tf.reduce_sum(tf.square(output_layer-y_batch),\n",
    "                                       axis=1))\n",
    "# Optimizer (Gradient Descent)\n",
    "optimize_op = (tf.train\n",
    "               .GradientDescentOptimizer(learning_rate=learning_rate)\n",
    "               .minimize(loss_op))\n",
    "# Initial Operator\n",
    "init_op = tf.global_variables_initializer()\n",
    "\n",
    "################################ Execute Graph #################################\n",
    "with tf.Session() as sess:\n",
    "    writer = tf.summary.FileWriter('../graphs', sess.graph)\n",
    "    sess.run(init_op)\n",
    "    for i in range(iterative_num):\n",
    "        _, loss = sess.run([optimize_op, loss_op],\n",
    "                          feed_dict={X_batch: X, y_batch: y})\n",
    "#         print(loss)\n",
    "        if i == 99:\n",
    "            result = sess.run(output_layer,\n",
    "                             feed_dict={X_batch: X})\n",
    "#     print(result)\n",
    "    plt.plot(X, y, 'o')\n",
    "    plt.plot(X, result)\n",
    "    plt.savefig('../pics/AIE20_W03_HW_RL_with_nn_01')\n",
    "    plt.show()\n"
   ]
  },
  {
   "cell_type": "markdown",
   "metadata": {
    "ExecuteTime": {
     "end_time": "2019-10-30T02:16:16.897304Z",
     "start_time": "2019-10-30T02:16:16.893304Z"
    }
   },
   "source": [
    "TensorBoard image\n",
    "\n",
    "![](../pics/AIE20_W03_HW_RL_with_nn_00.png)\n",
    "\n",
    "Fit image\n",
    "![](../pics/AIE20_W03_HW_RL_with_nn_01.png)"
   ]
  }
 ],
 "metadata": {
  "kernelspec": {
   "display_name": "Python 3",
   "language": "python",
   "name": "python3"
  },
  "language_info": {
   "codemirror_mode": {
    "name": "ipython",
    "version": 3
   },
   "file_extension": ".py",
   "mimetype": "text/x-python",
   "name": "python",
   "nbconvert_exporter": "python",
   "pygments_lexer": "ipython3",
   "version": "3.6.5"
  },
  "toc": {
   "base_numbering": 1,
   "nav_menu": {},
   "number_sections": true,
   "sideBar": true,
   "skip_h1_title": false,
   "title_cell": "Table of Contents",
   "title_sidebar": "Contents",
   "toc_cell": false,
   "toc_position": {},
   "toc_section_display": true,
   "toc_window_display": false
  }
 },
 "nbformat": 4,
 "nbformat_minor": 2
}
