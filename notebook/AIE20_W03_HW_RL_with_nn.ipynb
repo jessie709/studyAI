{
 "cells": [
  {
   "cell_type": "markdown",
   "metadata": {},
   "source": [
    "# 使用神经网络实现线性回归"
   ]
  },
  {
   "cell_type": "code",
   "execution_count": 2,
   "metadata": {
    "ExecuteTime": {
     "end_time": "2019-10-28T03:02:50.366433Z",
     "start_time": "2019-10-28T03:02:50.362433Z"
    }
   },
   "outputs": [],
   "source": [
    "import numpy as np\n",
    "import tensorflow as tf\n",
    "import matplotlib.pyplot as plt"
   ]
  },
  {
   "cell_type": "code",
   "execution_count": 20,
   "metadata": {
    "ExecuteTime": {
     "end_time": "2019-10-28T08:51:57.457241Z",
     "start_time": "2019-10-28T08:51:57.449241Z"
    }
   },
   "outputs": [
    {
     "name": "stdout",
     "output_type": "stream",
     "text": [
      "################################ Generate data #################################\n"
     ]
    }
   ],
   "source": [
    "################################ Generate data #################################\n",
    "sample_num = 500\n",
    "X = np.linspace(-1, 1, sample_num, dtype=np.float32)[:, np.newaxis]\n",
    "# noise is normal distribution. mean is 0, standard deviation\n",
    "noise = np.random.normal(loc=0, scale=0.05, size=X.shape)\n",
    "y = np.square(X) - 0.5 + noise\n",
    "\n",
    "############################## Global Parameters ###############################\n",
    "\n",
    "############################### Structure Graph ################################\n",
    "\n",
    "################################ Execute Graph #################################\n",
    "\n",
    "\n",
    "s1 =  ' Generate data '\n",
    "print(f'{s1:#^80}')\n"
   ]
  }
 ],
 "metadata": {
  "kernelspec": {
   "display_name": "Python 3",
   "language": "python",
   "name": "python3"
  },
  "language_info": {
   "codemirror_mode": {
    "name": "ipython",
    "version": 3
   },
   "file_extension": ".py",
   "mimetype": "text/x-python",
   "name": "python",
   "nbconvert_exporter": "python",
   "pygments_lexer": "ipython3",
   "version": "3.6.5"
  },
  "toc": {
   "base_numbering": 1,
   "nav_menu": {},
   "number_sections": true,
   "sideBar": true,
   "skip_h1_title": false,
   "title_cell": "Table of Contents",
   "title_sidebar": "Contents",
   "toc_cell": false,
   "toc_position": {},
   "toc_section_display": true,
   "toc_window_display": false
  }
 },
 "nbformat": 4,
 "nbformat_minor": 2
}
