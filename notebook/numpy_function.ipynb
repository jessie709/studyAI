{
 "cells": [
  {
   "cell_type": "markdown",
   "metadata": {},
   "source": [
    "# scipy & numpy 的用法\n",
    "\n",
    "## map 函数\n",
    "\n",
    "在 `numpy` 中并未提供 map 方法，而是使用 vectorize 方法来代替。\n",
    "\n",
    "现需要实现如下功能，有一个 2D 的数组（shape is (m, 1)），其中元素的值为 {0 | 1 | 2 | 3} 中的一个，即有4种标签，请将这个 2D 数组转换为 shape is (m, 4)，其中元素的转换规则为：\n",
    "- 0: 转换为 [1, 0, 0, 0]\n",
    "- 1: 转换为 [0, 1, 0, 0]\n",
    "- 2: 转换为 [0, 0, 1, 0]\n",
    "- 3: 转换为 [0, 0, 0, 1]"
   ]
  },
  {
   "cell_type": "code",
   "execution_count": 2,
   "metadata": {},
   "outputs": [],
   "source": [
    "import numpy as np"
   ]
  },
  {
   "cell_type": "code",
   "execution_count": 4,
   "metadata": {},
   "outputs": [
    {
     "data": {
      "text/plain": [
       "array([False, False, False,  True])"
      ]
     },
     "execution_count": 4,
     "metadata": {},
     "output_type": "execute_result"
    }
   ],
   "source": [
    "def my_map(a, b):\n",
    "    \"\"\"\n",
    "    a -- element in array\n",
    "    b -- array\n",
    "    \n",
    "    # b is array, a is scalar\n",
    "    # b == a 返回一个逻辑数组\n",
    "    # 逻辑数组中每个元素的取值范围是 {True | False}\n",
    "    # b == a 操作的意思是，用数组 b 中的每个元素与 a 比较\n",
    "    # 如果相等则返回 True 否则返回 False\n",
    "    # 比如：b = [0, 3, 3, 2, 1], a = 3, 则 b == a 返回的逻辑数组为\n",
    "    # [False, True, True, False, False]\n",
    "    \"\"\"\n",
    "    return b == a\n",
    "\n",
    "# test\n",
    "vfunc = np.vectorize(my_map)\n",
    "a = 3\n",
    "b = np.array([0,1,2,3])\n",
    "c = vfunc(a, b)\n",
    "c"
   ]
  },
  {
   "cell_type": "code",
   "execution_count": 7,
   "metadata": {},
   "outputs": [
    {
     "name": "stdout",
     "output_type": "stream",
     "text": [
      "原始数组\n",
      " [[0]\n",
      " [0]\n",
      " [3]\n",
      " [3]\n",
      " [1]]\n",
      "map后的数组\n",
      " [[ True False False False]\n",
      " [ True False False False]\n",
      " [False False False  True]\n",
      " [False False False  True]\n",
      " [False  True False False]]\n"
     ]
    }
   ],
   "source": [
    "# original array\n",
    "X = np.random.randint(4, size=(5, 1))\n",
    "# apply array\n",
    "labels = np.arange(4)\n",
    "# vectorize function\n",
    "vfunc = np.vectorize(my_map)\n",
    "r = vfunc(X, labels)\n",
    "\n",
    "print(f'原始数组\\n {X}')\n",
    "print(f'map后的数组\\n {r}')"
   ]
  },
  {
   "cell_type": "markdown",
   "metadata": {},
   "source": [
    "上面使用 vectorize 函数去实现，但有更简单的方法去实现，具体见下"
   ]
  },
  {
   "cell_type": "code",
   "execution_count": 8,
   "metadata": {},
   "outputs": [
    {
     "name": "stdout",
     "output_type": "stream",
     "text": [
      "原始数组\n",
      " [[1]\n",
      " [3]\n",
      " [0]\n",
      " [0]\n",
      " [3]]\n",
      "map后的数组\n",
      " [[False  True False False]\n",
      " [False False False  True]\n",
      " [ True False False False]\n",
      " [ True False False False]\n",
      " [False False False  True]]\n"
     ]
    }
   ],
   "source": [
    "# original array\n",
    "X = np.random.randint(4, size=(5, 1))\n",
    "# apply array\n",
    "labels = np.arange(4)\n",
    "#\n",
    "r = X == labels\n",
    "\n",
    "print(f'原始数组\\n {X}')\n",
    "print(f'map后的数组\\n {r}')"
   ]
  }
 ],
 "metadata": {
  "kernelspec": {
   "display_name": "Python 3",
   "language": "python",
   "name": "python3"
  },
  "language_info": {
   "codemirror_mode": {
    "name": "ipython",
    "version": 3
   },
   "file_extension": ".py",
   "mimetype": "text/x-python",
   "name": "python",
   "nbconvert_exporter": "python",
   "pygments_lexer": "ipython3",
   "version": "3.6.5"
  }
 },
 "nbformat": 4,
 "nbformat_minor": 2
}
