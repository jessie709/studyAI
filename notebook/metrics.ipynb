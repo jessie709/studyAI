{
 "cells": [
  {
   "cell_type": "code",
   "execution_count": 29,
   "metadata": {},
   "outputs": [],
   "source": [
    "import numpy as np\n",
    "from sklearn.metrics import explained_variance_score"
   ]
  },
  {
   "cell_type": "code",
   "execution_count": 31,
   "metadata": {},
   "outputs": [
    {
     "name": "stdout",
     "output_type": "stream",
     "text": [
      "u = 0.3125\n",
      "d = 7.296875\n",
      "explained_variance_scorea = 0.9571734475374732\n"
     ]
    },
    {
     "data": {
      "text/plain": [
       "0.9571734475374732"
      ]
     },
     "execution_count": 31,
     "metadata": {},
     "output_type": "execute_result"
    }
   ],
   "source": [
    "y_true = np.array([3, -0.5, 2, 7])\n",
    "y_pred = np.array([2.5, 0.0, 2, 8])\n",
    "\n",
    "u = (y_true - y_pred).var()\n",
    "d = y_true.var()\n",
    "\n",
    "print(f'u = {u}')\n",
    "print(f'd = {d}')\n",
    "print(f'explained_variance_scorea = {explained_variance_score(y_true, y_pred)}')\n",
    "\n",
    "1 - (u/d)"
   ]
  },
  {
   "cell_type": "code",
   "execution_count": 34,
   "metadata": {},
   "outputs": [
    {
     "name": "stdout",
     "output_type": "stream",
     "text": [
      "u = [0.38888889 0.        ]\n",
      "d = [12.05555556 10.88888889]\n",
      "explained_variance_scorea raw_values = [0.96774194 1.        ]\n"
     ]
    },
    {
     "data": {
      "text/plain": [
       "array([0.96774194, 1.        ])"
      ]
     },
     "execution_count": 34,
     "metadata": {},
     "output_type": "execute_result"
    }
   ],
   "source": [
    "y_true = np.array([[0.5, 1], [-1, 1], [7, -6]])\n",
    "y_pred = np.array([[0, 2], [-1, 2], [8, -5]])\n",
    "\n",
    "u = (y_true - y_pred).var(axis=0)\n",
    "d = y_true.var(axis=0)\n",
    "\n",
    "print(f'u = {u}')\n",
    "print(f'd = {d}')\n",
    "print(f'explained_variance_scorea raw_values = {explained_variance_score(y_true, y_pred, multioutput=\"raw_values\")}')\n",
    "\n",
    "1 - (u/d)"
   ]
  },
  {
   "cell_type": "code",
   "execution_count": 36,
   "metadata": {},
   "outputs": [
    {
     "name": "stdout",
     "output_type": "stream",
     "text": [
      "u = [0.38888889 0.        ]\n",
      "d = [12.05555556 10.88888889]\n",
      "explained_variance_scorea uniform_average = 0.9838709677419355\n"
     ]
    },
    {
     "data": {
      "text/plain": [
       "0.9838709677419355"
      ]
     },
     "execution_count": 36,
     "metadata": {},
     "output_type": "execute_result"
    }
   ],
   "source": [
    "y_true = np.array([[0.5, 1], [-1, 1], [7, -6]])\n",
    "y_pred = np.array([[0, 2], [-1, 2], [8, -5]])\n",
    "\n",
    "u = (y_true - y_pred).var(axis=0)\n",
    "d = y_true.var(axis=0)\n",
    "\n",
    "print(f'u = {u}')\n",
    "print(f'd = {d}')\n",
    "print(f'explained_variance_scorea uniform_average = {explained_variance_score(y_true, y_pred, multioutput=\"uniform_average\")}')\n",
    "\n",
    "(1 - (u/d)).mean()"
   ]
  },
  {
   "cell_type": "code",
   "execution_count": 39,
   "metadata": {},
   "outputs": [
    {
     "name": "stdout",
     "output_type": "stream",
     "text": [
      "u = [0.38888889 0.        ]\n",
      "d = [12.05555556 10.88888889]\n",
      "explained_variance_scorea shape = 0.9903225806451612\n"
     ]
    },
    {
     "data": {
      "text/plain": [
       "0.9903225806451612"
      ]
     },
     "execution_count": 39,
     "metadata": {},
     "output_type": "execute_result"
    }
   ],
   "source": [
    "y_true = np.array([[0.5, 1], [-1, 1], [7, -6]])\n",
    "y_pred = np.array([[0, 2], [-1, 2], [8, -5]])\n",
    "\n",
    "u = (y_true - y_pred).var(axis=0)\n",
    "d = y_true.var(axis=0)\n",
    "\n",
    "print(f'u = {u}')\n",
    "print(f'd = {d}')\n",
    "print(f'explained_variance_scorea shape = {explained_variance_score(y_true, y_pred, multioutput=[0.3, 0.7])}')\n",
    "\n",
    "((1 - (u/d)) * [0.3, 0.7]).sum()"
   ]
  }
 ],
 "metadata": {
  "kernelspec": {
   "display_name": "Python 3",
   "language": "python",
   "name": "python3"
  },
  "language_info": {
   "codemirror_mode": {
    "name": "ipython",
    "version": 3
   },
   "file_extension": ".py",
   "mimetype": "text/x-python",
   "name": "python",
   "nbconvert_exporter": "python",
   "pygments_lexer": "ipython3",
   "version": "3.6.8"
  }
 },
 "nbformat": 4,
 "nbformat_minor": 2
}
