{
 "cells": [
  {
   "cell_type": "markdown",
   "metadata": {},
   "source": [
    "# 介绍\n",
    "\n",
    "用代码的形式去理解分类算法\n",
    "\n",
    "## 原始数据集\n",
    "\n",
    "这里我们采用 Iris 数据集，即鸢尾花数据集，它是机器学习领域中分厂著名的分类数据集，它3个分类，每个分类50条样本，总共150条样本"
   ]
  },
  {
   "cell_type": "code",
   "execution_count": 5,
   "metadata": {
    "ExecuteTime": {
     "end_time": "2019-11-04T09:36:17.378023Z",
     "start_time": "2019-11-04T09:36:17.362423Z"
    }
   },
   "outputs": [],
   "source": [
    "from sklearn.datasets import load_iris"
   ]
  },
  {
   "cell_type": "code",
   "execution_count": 2,
   "metadata": {
    "ExecuteTime": {
     "end_time": "2019-11-04T09:21:47.637820Z",
     "start_time": "2019-11-04T09:21:47.594820Z"
    }
   },
   "outputs": [],
   "source": [
    "iris_data = load_iris()\n",
    "X = iris_data.data\n",
    "y = iris_data.target"
   ]
  },
  {
   "cell_type": "code",
   "execution_count": 3,
   "metadata": {
    "ExecuteTime": {
     "end_time": "2019-11-04T09:22:16.366620Z",
     "start_time": "2019-11-04T09:22:16.335420Z"
    }
   },
   "outputs": [
    {
     "data": {
      "text/plain": [
       "(['sepal length (cm)',\n",
       "  'sepal width (cm)',\n",
       "  'petal length (cm)',\n",
       "  'petal width (cm)'],\n",
       " array(['setosa', 'versicolor', 'virginica'], dtype='<U10'))"
      ]
     },
     "execution_count": 3,
     "metadata": {},
     "output_type": "execute_result"
    }
   ],
   "source": [
    "iris_data.feature_names, iris_data.target_names"
   ]
  },
  {
   "attachments": {},
   "cell_type": "markdown",
   "metadata": {},
   "source": [
    "鸢尾花数据集有4个特征\n",
    "\n",
    "- 'sepal length (cm)'： 花萼长度\n",
    "- 'sepal width (cm)'： 花萼宽度\n",
    "- 'petal length (cm)'：花瓣长度\n",
    "- 'petal width (cm)'： 花瓣宽度\n",
    "\n",
    "3种分类：\n",
    "\n",
    "- 'setosa'：山鸢尾\n",
    "- 'versicolor'：杂色鸢尾花\n",
    "- 'virginica'：维尔吉尼卡鸢尾花\n"
   ]
  },
  {
   "cell_type": "code",
   "execution_count": 4,
   "metadata": {
    "ExecuteTime": {
     "end_time": "2019-11-04T09:32:50.903222Z",
     "start_time": "2019-11-04T09:32:50.872022Z"
    }
   },
   "outputs": [
    {
     "data": {
      "text/plain": [
       "((150, 4), (150,))"
      ]
     },
     "execution_count": 4,
     "metadata": {},
     "output_type": "execute_result"
    }
   ],
   "source": [
    "X.shape, y.shape"
   ]
  },
  {
   "cell_type": "markdown",
   "metadata": {},
   "source": [
    "特征有150行4列\n",
    "\n",
    "目标有150行1列\n",
    "\n",
    "## 扩充数据集\n",
    "\n",
    "为了是数据集更加适用，我们扩展数据集的记录数并进行打散排序。"
   ]
  },
  {
   "cell_type": "code",
   "execution_count": 6,
   "metadata": {
    "ExecuteTime": {
     "end_time": "2019-11-04T09:36:28.223823Z",
     "start_time": "2019-11-04T09:36:28.218823Z"
    }
   },
   "outputs": [],
   "source": [
    "import numpy as np"
   ]
  },
  {
   "cell_type": "code",
   "execution_count": 7,
   "metadata": {
    "ExecuteTime": {
     "end_time": "2019-11-04T09:46:29.951424Z",
     "start_time": "2019-11-04T09:46:29.879824Z"
    }
   },
   "outputs": [
    {
     "data": {
      "text/plain": [
       "((4650, 4), (4650,))"
      ]
     },
     "execution_count": 7,
     "metadata": {},
     "output_type": "execute_result"
    }
   ],
   "source": [
    "np.random.seed(709)\n",
    "# shuffle dataset\n",
    "indics = np.random.permutation(len(X))\n",
    "X = X[indics]\n",
    "y = y[indics]\n",
    "# expand dataset\n",
    "X_refined = [X]\n",
    "y_refined = [y]\n",
    "for _ in range(30):\n",
    "    rd = np.random.randn(*X.shape)\n",
    "    X_refined.append(X + rd)\n",
    "    y_refined.append(y)\n",
    "X_refined = np.concatenate(X_refined, axis=0)\n",
    "y_refined = np.concatenate(y_refined, axis=0)\n",
    "\n",
    "X_refined.shape, y_refined.shape"
   ]
  },
  {
   "cell_type": "markdown",
   "metadata": {},
   "source": [
    "## Data Plot"
   ]
  },
  {
   "cell_type": "code",
   "execution_count": 8,
   "metadata": {
    "ExecuteTime": {
     "end_time": "2019-11-04T09:48:18.127425Z",
     "start_time": "2019-11-04T09:48:18.122425Z"
    }
   },
   "outputs": [],
   "source": [
    "import seaborn as sns\n",
    "import pandas as pd"
   ]
  },
  {
   "cell_type": "code",
   "execution_count": 11,
   "metadata": {
    "ExecuteTime": {
     "end_time": "2019-11-04T10:02:29.618028Z",
     "start_time": "2019-11-04T10:02:29.604028Z"
    }
   },
   "outputs": [
    {
     "ename": "IndexError",
     "evalue": "too many indices for array",
     "output_type": "error",
     "traceback": [
      "\u001b[1;31m---------------------------------------------------------------------------\u001b[0m",
      "\u001b[1;31mIndexError\u001b[0m                                Traceback (most recent call last)",
      "\u001b[1;32m<ipython-input-11-9c5fd311eb87>\u001b[0m in \u001b[0;36m<module>\u001b[1;34m()\u001b[0m\n\u001b[0;32m      1\u001b[0m \u001b[1;31m# iris_df = np.concatenate(X_refined, y_refined, axis=1)\u001b[0m\u001b[1;33m\u001b[0m\u001b[1;33m\u001b[0m\u001b[0m\n\u001b[1;32m----> 2\u001b[1;33m \u001b[0my_refined\u001b[0m\u001b[1;33m[\u001b[0m\u001b[1;33m:\u001b[0m\u001b[1;33m,\u001b[0m \u001b[1;36m1\u001b[0m\u001b[1;33m]\u001b[0m\u001b[1;33m\u001b[0m\u001b[0m\n\u001b[0m",
      "\u001b[1;31mIndexError\u001b[0m: too many indices for array"
     ]
    }
   ],
   "source": [
    "iris_df = np.concatenate(X_refined, y_refined[:, np.newaxis], axis=1)\n"
   ]
  },
  {
   "cell_type": "markdown",
   "metadata": {},
   "source": [
    "# KNN"
   ]
  },
  {
   "cell_type": "markdown",
   "metadata": {},
   "source": [
    "# SVM"
   ]
  },
  {
   "cell_type": "markdown",
   "metadata": {},
   "source": [
    "# LR_SGD/ElaticNet/LBFS"
   ]
  },
  {
   "cell_type": "markdown",
   "metadata": {},
   "source": [
    "# Naive Bayes"
   ]
  },
  {
   "cell_type": "code",
   "execution_count": null,
   "metadata": {},
   "outputs": [],
   "source": []
  }
 ],
 "metadata": {
  "kernelspec": {
   "display_name": "Python 3",
   "language": "python",
   "name": "python3"
  },
  "language_info": {
   "codemirror_mode": {
    "name": "ipython",
    "version": 3
   },
   "file_extension": ".py",
   "mimetype": "text/x-python",
   "name": "python",
   "nbconvert_exporter": "python",
   "pygments_lexer": "ipython3",
   "version": "3.6.5"
  },
  "toc": {
   "base_numbering": 1,
   "nav_menu": {},
   "number_sections": false,
   "sideBar": false,
   "skip_h1_title": false,
   "title_cell": "Table of Contents",
   "title_sidebar": "Contents",
   "toc_cell": false,
   "toc_position": {
    "height": "532px",
    "left": "1604.11px",
    "top": "51px",
    "width": "289.891px"
   },
   "toc_section_display": true,
   "toc_window_display": true
  }
 },
 "nbformat": 4,
 "nbformat_minor": 2
}
