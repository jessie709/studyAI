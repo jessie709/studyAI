{
 "cells": [
  {
   "cell_type": "markdown",
   "metadata": {},
   "source": [
    "# 计算输出特征图\n",
    "\n",
    "**假设：**\n",
    "\n",
    "> - 正方形的 方形的 输入 特征图 特征图 的大小为 的大小为 I * I \n",
    "> - 正方形的 卷积核的大小为 f * f\n",
    "> - 步长 （stride）为 s\n",
    "> - 填充 （padding）的行数或者列为 p\n",
    "\n",
    "**问：**正方形的输出特征图的大小 （O * O）为多少？请列出相应的数学公式？\n",
    "\n",
    "**答：**\n",
    "\n",
    "- 在 'SAME' 即填充的情况下\n",
    "    - $O = ceil(\\frac{I}{s})$\n",
    "- 在 'VALID' 即不填充的情况下\n",
    "    - $O = ceil(\\frac{I-f+1}{s})$"
   ]
  },
  {
   "cell_type": "markdown",
   "metadata": {},
   "source": [
    "# 根据下图中描述的卷积神经网络参数搭建一个与之对应的卷积神经网络，实现 MNIST 手写数字识别\n",
    "\n",
    "![](../pics/AIE20_W06_HW_CNN_01.png)"
   ]
  },
  {
   "cell_type": "code",
   "execution_count": 23,
   "metadata": {
    "ExecuteTime": {
     "end_time": "2019-11-19T13:50:45.734885Z",
     "start_time": "2019-11-19T13:50:45.728690Z"
    }
   },
   "outputs": [],
   "source": [
    "import tensorflow as tf\n",
    "import os"
   ]
  },
  {
   "cell_type": "code",
   "execution_count": 24,
   "metadata": {
    "ExecuteTime": {
     "end_time": "2019-11-19T13:50:46.598579Z",
     "start_time": "2019-11-19T13:50:46.592071Z"
    }
   },
   "outputs": [],
   "source": [
    "lib_path = os.path.abspath('../libs/')\n",
    "if lib_path not in os.sys.path:\n",
    "    os.sys.path.append(lib_path)\n",
    "import input_data"
   ]
  },
  {
   "cell_type": "code",
   "execution_count": 25,
   "metadata": {
    "ExecuteTime": {
     "end_time": "2019-11-19T13:50:49.339007Z",
     "start_time": "2019-11-19T13:50:48.660435Z"
    }
   },
   "outputs": [
    {
     "name": "stdout",
     "output_type": "stream",
     "text": [
      "Extracting mnist_data/train-images-idx3-ubyte.gz\n",
      "Extracting mnist_data/train-labels-idx1-ubyte.gz\n",
      "Extracting mnist_data/t10k-images-idx3-ubyte.gz\n",
      "Extracting mnist_data/t10k-labels-idx1-ubyte.gz\n"
     ]
    }
   ],
   "source": [
    "################################################################################\n",
    "#\n",
    "# load data\n",
    "#\n",
    "################################################################################\n",
    "mnist = input_data.read_data_sets('mnist_data', one_hot=True)"
   ]
  },
  {
   "cell_type": "code",
   "execution_count": 26,
   "metadata": {
    "ExecuteTime": {
     "end_time": "2019-11-19T13:50:50.455592Z",
     "start_time": "2019-11-19T13:50:50.448169Z"
    }
   },
   "outputs": [],
   "source": [
    "################################################################################\n",
    "#\n",
    "# initial tensorflow enviroment\n",
    "#\n",
    "################################################################################\n",
    "tf.reset_default_graph()"
   ]
  },
  {
   "cell_type": "code",
   "execution_count": 40,
   "metadata": {
    "ExecuteTime": {
     "end_time": "2019-11-19T14:48:29.410005Z",
     "start_time": "2019-11-19T14:48:29.392576Z"
    }
   },
   "outputs": [],
   "source": [
    "################################################################################\n",
    "#\n",
    "# declare parameters & function\n",
    "#\n",
    "################################################################################\n",
    "\n",
    "X_input = tf.placeholder(tf.float32,\n",
    "                         shape=[None, 28, 28, 1])\n",
    "Y_label = tf.placeholder(tf.float32,\n",
    "                         shape=[None, 10])\n",
    "\n",
    "\n",
    "def add_nn_layer(X,\n",
    "                 in_size,\n",
    "                 out_size,\n",
    "                 activation_function=None):\n",
    "    # weigths 使用随机正态分布初始化权重\n",
    "    W = tf.Variable(tf.random_normal(shape=[in_size, out_size]))\n",
    "    # bias 设置偏置单元的值为常量0.1\n",
    "    b = tf.Variable(tf.constant(0.1, shape=[1, out_size]))\n",
    "    # 计算：f = X product W + b\n",
    "    f = tf.add(tf.multiply(X, W), b)\n",
    "\n",
    "    return f if activation_function is None else activation_function(f)\n",
    "\n",
    "\n",
    "def add_convolutional_layer(X,\n",
    "                            in_channels,\n",
    "                            out_channels,\n",
    "                            filter_height,\n",
    "                            filter_width,\n",
    "                            stride,\n",
    "                            activation_function=None):\n",
    "    \"\"\"添加卷积层\n",
    "\n",
    "    Parameters:\n",
    "    -----------\n",
    "    X: 输入的数据 [batch, in_height, in_width, in_channels]\n",
    "    in_channels: 输入特征图（feature map）的数量\n",
    "    out_channels: 输出特征图（feature map）的数量\n",
    "    filter_hight: 过滤器卷积核的高度\n",
    "    filter_width：过滤器卷积核的宽度\n",
    "    stride: 步长\n",
    "    \"\"\"\n",
    "    # Filters 过滤器初始化\n",
    "    F = tf.Variable(tf.truncated_normal(shape=[filter_height,\n",
    "                                               filter_width,\n",
    "                                               in_channels,\n",
    "                                               out_channels]))\n",
    "    # bais 偏置单元初始化\n",
    "    b = tf.Variable(tf.constant(0.1, shape=[out_channels]))\n",
    "    # X [batch, in_height, in_width, in_channels]\n",
    "    # F [kernel_size kernel_size in_channels out_channels]\n",
    "    conv = tf.nn.conv2d(X,\n",
    "                        F,\n",
    "                        strides=[1, stride, stride, 1],\n",
    "                        padding='SAME',\n",
    "                        data_format='NHWC')\n",
    "    output = conv if activation_function is None else activation_function(conv)\n",
    "\n",
    "    return tf.add(output, b)\n",
    "\n",
    "\n",
    "def add_pooling_layer(X,\n",
    "                      pool_height,\n",
    "                      pool_width,\n",
    "                      stride):\n",
    "    \"\"\"添加池化层\n",
    "\n",
    "    Parameters:\n",
    "    -----------\n",
    "    X: 输入数据 [batch_size] + input_spatial_shape + [num_channels]\n",
    "    pool_height: 池化核高度\n",
    "    pool_width: 池化核宽度\n",
    "    stride: 步长\n",
    "    \"\"\"\n",
    "    return tf.nn.max_pool(X,\n",
    "                          [1, pool_height, pool_width, 1],\n",
    "                          [1, stride, stride, 1],\n",
    "                          padding='SAME')"
   ]
  },
  {
   "cell_type": "code",
   "execution_count": 41,
   "metadata": {
    "ExecuteTime": {
     "end_time": "2019-11-19T14:48:31.015651Z",
     "start_time": "2019-11-19T14:48:30.986953Z"
    }
   },
   "outputs": [],
   "source": [
    "################################################################################\n",
    "#\n",
    "# constructed graph\n",
    "#\n",
    "################################################################################\n",
    "conv_1 = add_convolutional_layer(X_input,\n",
    "                                 in_channels=1,\n",
    "                                 out_channels=32,\n",
    "                                 filter_height=5,\n",
    "                                 filter_width=5,\n",
    "                                 stride=2,\n",
    "                                 activation_function=tf.nn.relu)"
   ]
  },
  {
   "cell_type": "code",
   "execution_count": null,
   "metadata": {},
   "outputs": [],
   "source": [
    "################################################################################\n",
    "#\n",
    "# executed graph\n",
    "#\n",
    "################################################################################"
   ]
  }
 ],
 "metadata": {
  "kernelspec": {
   "display_name": "Python 3",
   "language": "python",
   "name": "python3"
  },
  "language_info": {
   "codemirror_mode": {
    "name": "ipython",
    "version": 3
   },
   "file_extension": ".py",
   "mimetype": "text/x-python",
   "name": "python",
   "nbconvert_exporter": "python",
   "pygments_lexer": "ipython3",
   "version": "3.6.8"
  },
  "toc": {
   "base_numbering": 1,
   "nav_menu": {},
   "number_sections": true,
   "sideBar": true,
   "skip_h1_title": true,
   "title_cell": "Table of Contents",
   "title_sidebar": "Contents",
   "toc_cell": false,
   "toc_position": {},
   "toc_section_display": true,
   "toc_window_display": false
  }
 },
 "nbformat": 4,
 "nbformat_minor": 2
}
