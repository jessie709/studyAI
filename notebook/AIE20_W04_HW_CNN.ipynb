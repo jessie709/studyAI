{
 "cells": [
  {
   "cell_type": "markdown",
   "metadata": {},
   "source": [
    "# 计算输出特征图\n",
    "\n",
    "**假设：**\n",
    "\n",
    "> - 正方形的 方形的 输入 特征图 特征图 的大小为 的大小为 I * I \n",
    "> - 正方形的 卷积核的大小为 f * f\n",
    "> - 步长 （stride）为 s\n",
    "> - 填充 （padding）的行数或者列为 p\n",
    "\n",
    "**问：**正方形的输出特征图的大小 （O * O）为多少？请列出相应的数学公式？\n",
    "\n",
    "**答：**\n",
    "\n",
    "$p = (I-f) \\bmod s$\n",
    "\n",
    "$O = \\frac{I-f+2p}{s} + 1$"
   ]
  },
  {
   "cell_type": "markdown",
   "metadata": {},
   "source": [
    "# 根据下图中描述的卷积神经网络参数搭建一个与之对应的卷积神经网络，实现 MNIST 手写数字识别\n",
    "\n",
    "![](../pics/AIE20_W06_HW_CNN_01.png)"
   ]
  },
  {
   "cell_type": "code",
   "execution_count": 6,
   "metadata": {
    "ExecuteTime": {
     "end_time": "2019-11-19T03:33:22.374434Z",
     "start_time": "2019-11-19T03:33:22.358834Z"
    }
   },
   "outputs": [],
   "source": [
    "import tensorflow as tf\n",
    "import os"
   ]
  },
  {
   "cell_type": "code",
   "execution_count": 7,
   "metadata": {
    "ExecuteTime": {
     "end_time": "2019-11-19T03:33:36.746434Z",
     "start_time": "2019-11-19T03:33:36.700834Z"
    }
   },
   "outputs": [],
   "source": [
    "lib_path = os.path.abspath('../libs/')\n",
    "if lib_path not in os.sys.path:\n",
    "    os.sys.path.append(lib_path)\n",
    "import input_data"
   ]
  },
  {
   "cell_type": "code",
   "execution_count": 18,
   "metadata": {
    "ExecuteTime": {
     "end_time": "2019-11-19T06:29:31.800896Z",
     "start_time": "2019-11-19T06:29:31.185696Z"
    }
   },
   "outputs": [
    {
     "name": "stdout",
     "output_type": "stream",
     "text": [
      "Extracting mnist_data\\train-images-idx3-ubyte.gz\n",
      "Extracting mnist_data\\train-labels-idx1-ubyte.gz\n",
      "Extracting mnist_data\\t10k-images-idx3-ubyte.gz\n",
      "Extracting mnist_data\\t10k-labels-idx1-ubyte.gz\n"
     ]
    }
   ],
   "source": [
    "################################################################################\n",
    "#\n",
    "# load data\n",
    "#\n",
    "################################################################################\n",
    "mnist = input_data.read_data_sets('mnist_data', one_hot=True)"
   ]
  },
  {
   "cell_type": "code",
   "execution_count": 31,
   "metadata": {
    "ExecuteTime": {
     "end_time": "2019-11-19T10:03:29.462763Z",
     "start_time": "2019-11-19T10:03:29.437163Z"
    }
   },
   "outputs": [],
   "source": [
    "################################################################################\n",
    "#\n",
    "# declare parameters & function\n",
    "#\n",
    "################################################################################\n",
    "\n",
    "X_input = tf.placeholder(tf.float32,\n",
    "                         shape=[None, 28, 28, 1])\n",
    "Y_label = tf.placeholder(tf.float32,\n",
    "                         shape=[None, 10])\n",
    "\n",
    "\n",
    "def add_nn_layer(X,\n",
    "                 in_size,\n",
    "                 out_size,\n",
    "                 activation_function=None):\n",
    "    # weigths 使用随机正态分布初始化权重\n",
    "    W = tf.Variable(tf.random_normal(shape=[in_size, out_size]))\n",
    "    # bias 设置偏置单元的值为常量0.1\n",
    "    b = tf.Variable(tf.constant(0.1, shape=[1, out_size]))\n",
    "    # 计算：f = X product W + b\n",
    "    f = tf.add(tf.multiply(X, W), b)\n",
    "\n",
    "    return f if activation_function is None else activation_function(f)\n",
    "\n",
    "\n",
    "def add_convolutional_layer(X,\n",
    "                            in_channels,\n",
    "                            out_channels,\n",
    "                            filter_height,\n",
    "                            filter_width,\n",
    "                            stride,\n",
    "                            activation_function=None):\n",
    "    \"\"\"添加卷积层\n",
    "\n",
    "    Parameters:\n",
    "    -----------\n",
    "    X: 输入的数据 [batch, in_height, in_width, in_channels]\n",
    "    in_channels: 输入特征图（feature map）的数量\n",
    "    out_channels: 输出特征图（feature map）的数量\n",
    "    filter_hight: 过滤器卷积核的高度\n",
    "    filter_width：过滤器卷积核的宽度\n",
    "    stride: 步长\n",
    "    \"\"\"\n",
    "    # Filters 过滤器初始化\n",
    "    F = tf.Variable(tf.truncated_normal(shape=[filter_height,\n",
    "                                               filter_width,\n",
    "                                               in_channels,\n",
    "                                               out_channels]))\n",
    "    # bais 偏置单元初始化\n",
    "    b = tf.Variable(tf.constant(0.1, shape=[out_channels]))\n",
    "    # X [batch, in_height, in_width, in_channels]\n",
    "    # F [kernel_size kernel_size in_channels out_channels]\n",
    "    conv = tf.nn.conv2d(X,\n",
    "                        F,\n",
    "                        strides=[1, stride, stride, 1],\n",
    "                        padding='SAME')\n",
    "    output = conv if activation_function is None else activation_function(conv)\n",
    "\n",
    "    return tf.add(output, b)\n",
    "\n",
    "\n",
    "def add_pooling_layer(X,\n",
    "                      pool_height,\n",
    "                      pool_width,\n",
    "                      stride):\n",
    "    \"\"\"添加池化层\n",
    "\n",
    "    Parameters:\n",
    "    -----------\n",
    "    X: 输入数据 [batch_size] + input_spatial_shape + [num_channels]\n",
    "    pool_height: 池化核高度\n",
    "    pool_width: 池化核宽度\n",
    "    stride: 步长\n",
    "    \"\"\"\n",
    "    return tf.nn.max_pool(X,\n",
    "                          [1, pool_height, pool_width, 1],\n",
    "                          [1, stride, stride, 1],\n",
    "                          padding='SAME')"
   ]
  },
  {
   "cell_type": "code",
   "execution_count": 32,
   "metadata": {
    "ExecuteTime": {
     "end_time": "2019-11-19T10:03:32.634163Z",
     "start_time": "2019-11-19T10:03:32.602963Z"
    }
   },
   "outputs": [],
   "source": [
    "################################################################################\n",
    "#\n",
    "# initial tensorflow enviroment\n",
    "#\n",
    "################################################################################\n",
    "tf.reset_default_graph()"
   ]
  },
  {
   "cell_type": "code",
   "execution_count": 33,
   "metadata": {
    "ExecuteTime": {
     "end_time": "2019-11-19T10:03:33.788763Z",
     "start_time": "2019-11-19T10:03:33.691163Z"
    }
   },
   "outputs": [
    {
     "ename": "ValueError",
     "evalue": "Tensor(\"Variable:0\", shape=(5, 5, 1, 32), dtype=float32_ref) must be from the same graph as Tensor(\"Placeholder:0\", shape=(?, 28, 28, 1), dtype=float32).",
     "output_type": "error",
     "traceback": [
      "\u001b[1;31m---------------------------------------------------------------------------\u001b[0m",
      "\u001b[1;31mValueError\u001b[0m                                Traceback (most recent call last)",
      "\u001b[1;32m<ipython-input-33-6055848945e0>\u001b[0m in \u001b[0;36m<module>\u001b[1;34m()\u001b[0m\n\u001b[0;32m     10\u001b[0m                                  \u001b[0mfilter_width\u001b[0m\u001b[1;33m=\u001b[0m\u001b[1;36m5\u001b[0m\u001b[1;33m,\u001b[0m\u001b[1;33m\u001b[0m\u001b[0m\n\u001b[0;32m     11\u001b[0m                                  \u001b[0mstride\u001b[0m\u001b[1;33m=\u001b[0m\u001b[1;36m2\u001b[0m\u001b[1;33m,\u001b[0m\u001b[1;33m\u001b[0m\u001b[0m\n\u001b[1;32m---> 12\u001b[1;33m                                  activation_function=tf.nn.relu)\n\u001b[0m",
      "\u001b[1;32m<ipython-input-31-2ce8f96578d2>\u001b[0m in \u001b[0;36madd_convolutional_layer\u001b[1;34m(X, in_channels, out_channels, filter_height, filter_width, stride, activation_function)\u001b[0m\n\u001b[0;32m     55\u001b[0m                         \u001b[0mF\u001b[0m\u001b[1;33m,\u001b[0m\u001b[1;33m\u001b[0m\u001b[0m\n\u001b[0;32m     56\u001b[0m                         \u001b[0mstrides\u001b[0m\u001b[1;33m=\u001b[0m\u001b[1;33m[\u001b[0m\u001b[1;36m1\u001b[0m\u001b[1;33m,\u001b[0m \u001b[0mstride\u001b[0m\u001b[1;33m,\u001b[0m \u001b[0mstride\u001b[0m\u001b[1;33m,\u001b[0m \u001b[1;36m1\u001b[0m\u001b[1;33m]\u001b[0m\u001b[1;33m,\u001b[0m\u001b[1;33m\u001b[0m\u001b[0m\n\u001b[1;32m---> 57\u001b[1;33m                         padding='SAME')\n\u001b[0m\u001b[0;32m     58\u001b[0m     \u001b[0moutput\u001b[0m \u001b[1;33m=\u001b[0m \u001b[0mconv\u001b[0m \u001b[1;32mif\u001b[0m \u001b[0mactivation_function\u001b[0m \u001b[1;32mis\u001b[0m \u001b[1;32mNone\u001b[0m \u001b[1;32melse\u001b[0m \u001b[0mactivation_function\u001b[0m\u001b[1;33m(\u001b[0m\u001b[0mconv\u001b[0m\u001b[1;33m)\u001b[0m\u001b[1;33m\u001b[0m\u001b[0m\n\u001b[0;32m     59\u001b[0m \u001b[1;33m\u001b[0m\u001b[0m\n",
      "\u001b[1;32mD:\\Anaconda3\\lib\\site-packages\\tensorflow\\python\\ops\\gen_nn_ops.py\u001b[0m in \u001b[0;36mconv2d\u001b[1;34m(input, filter, strides, padding, use_cudnn_on_gpu, data_format, dilations, name)\u001b[0m\n\u001b[0;32m   1040\u001b[0m         \u001b[1;34m\"Conv2D\"\u001b[0m\u001b[1;33m,\u001b[0m \u001b[0minput\u001b[0m\u001b[1;33m=\u001b[0m\u001b[0minput\u001b[0m\u001b[1;33m,\u001b[0m \u001b[0mfilter\u001b[0m\u001b[1;33m=\u001b[0m\u001b[0mfilter\u001b[0m\u001b[1;33m,\u001b[0m \u001b[0mstrides\u001b[0m\u001b[1;33m=\u001b[0m\u001b[0mstrides\u001b[0m\u001b[1;33m,\u001b[0m\u001b[1;33m\u001b[0m\u001b[0m\n\u001b[0;32m   1041\u001b[0m         \u001b[0mpadding\u001b[0m\u001b[1;33m=\u001b[0m\u001b[0mpadding\u001b[0m\u001b[1;33m,\u001b[0m \u001b[0muse_cudnn_on_gpu\u001b[0m\u001b[1;33m=\u001b[0m\u001b[0muse_cudnn_on_gpu\u001b[0m\u001b[1;33m,\u001b[0m\u001b[1;33m\u001b[0m\u001b[0m\n\u001b[1;32m-> 1042\u001b[1;33m         data_format=data_format, dilations=dilations, name=name)\n\u001b[0m\u001b[0;32m   1043\u001b[0m     \u001b[0m_result\u001b[0m \u001b[1;33m=\u001b[0m \u001b[0m_op\u001b[0m\u001b[1;33m.\u001b[0m\u001b[0moutputs\u001b[0m\u001b[1;33m[\u001b[0m\u001b[1;33m:\u001b[0m\u001b[1;33m]\u001b[0m\u001b[1;33m\u001b[0m\u001b[0m\n\u001b[0;32m   1044\u001b[0m     \u001b[0m_inputs_flat\u001b[0m \u001b[1;33m=\u001b[0m \u001b[0m_op\u001b[0m\u001b[1;33m.\u001b[0m\u001b[0minputs\u001b[0m\u001b[1;33m\u001b[0m\u001b[0m\n",
      "\u001b[1;32mD:\\Anaconda3\\lib\\site-packages\\tensorflow\\python\\framework\\op_def_library.py\u001b[0m in \u001b[0;36m_apply_op_helper\u001b[1;34m(self, op_type_name, name, **keywords)\u001b[0m\n\u001b[0;32m    348\u001b[0m       \u001b[1;31m# Need to flatten all the arguments into a list.\u001b[0m\u001b[1;33m\u001b[0m\u001b[1;33m\u001b[0m\u001b[0m\n\u001b[0;32m    349\u001b[0m       \u001b[1;31m# pylint: disable=protected-access\u001b[0m\u001b[1;33m\u001b[0m\u001b[1;33m\u001b[0m\u001b[0m\n\u001b[1;32m--> 350\u001b[1;33m       \u001b[0mg\u001b[0m \u001b[1;33m=\u001b[0m \u001b[0mops\u001b[0m\u001b[1;33m.\u001b[0m\u001b[0m_get_graph_from_inputs\u001b[0m\u001b[1;33m(\u001b[0m\u001b[0m_Flatten\u001b[0m\u001b[1;33m(\u001b[0m\u001b[0mkeywords\u001b[0m\u001b[1;33m.\u001b[0m\u001b[0mvalues\u001b[0m\u001b[1;33m(\u001b[0m\u001b[1;33m)\u001b[0m\u001b[1;33m)\u001b[0m\u001b[1;33m)\u001b[0m\u001b[1;33m\u001b[0m\u001b[0m\n\u001b[0m\u001b[0;32m    351\u001b[0m       \u001b[1;31m# pylint: enable=protected-access\u001b[0m\u001b[1;33m\u001b[0m\u001b[1;33m\u001b[0m\u001b[0m\n\u001b[0;32m    352\u001b[0m     \u001b[1;32mexcept\u001b[0m \u001b[0mAssertionError\u001b[0m \u001b[1;32mas\u001b[0m \u001b[0me\u001b[0m\u001b[1;33m:\u001b[0m\u001b[1;33m\u001b[0m\u001b[0m\n",
      "\u001b[1;32mD:\\Anaconda3\\lib\\site-packages\\tensorflow\\python\\framework\\ops.py\u001b[0m in \u001b[0;36m_get_graph_from_inputs\u001b[1;34m(op_input_list, graph)\u001b[0m\n\u001b[0;32m   5635\u001b[0m         \u001b[0mgraph\u001b[0m \u001b[1;33m=\u001b[0m \u001b[0mgraph_element\u001b[0m\u001b[1;33m.\u001b[0m\u001b[0mgraph\u001b[0m\u001b[1;33m\u001b[0m\u001b[0m\n\u001b[0;32m   5636\u001b[0m       \u001b[1;32melif\u001b[0m \u001b[0moriginal_graph_element\u001b[0m \u001b[1;32mis\u001b[0m \u001b[1;32mnot\u001b[0m \u001b[1;32mNone\u001b[0m\u001b[1;33m:\u001b[0m\u001b[1;33m\u001b[0m\u001b[0m\n\u001b[1;32m-> 5637\u001b[1;33m         \u001b[0m_assert_same_graph\u001b[0m\u001b[1;33m(\u001b[0m\u001b[0moriginal_graph_element\u001b[0m\u001b[1;33m,\u001b[0m \u001b[0mgraph_element\u001b[0m\u001b[1;33m)\u001b[0m\u001b[1;33m\u001b[0m\u001b[0m\n\u001b[0m\u001b[0;32m   5638\u001b[0m       \u001b[1;32melif\u001b[0m \u001b[0mgraph_element\u001b[0m\u001b[1;33m.\u001b[0m\u001b[0mgraph\u001b[0m \u001b[1;32mis\u001b[0m \u001b[1;32mnot\u001b[0m \u001b[0mgraph\u001b[0m\u001b[1;33m:\u001b[0m\u001b[1;33m\u001b[0m\u001b[0m\n\u001b[0;32m   5639\u001b[0m         \u001b[1;32mraise\u001b[0m \u001b[0mValueError\u001b[0m\u001b[1;33m(\u001b[0m\u001b[1;34m\"%s is not from the passed-in graph.\"\u001b[0m \u001b[1;33m%\u001b[0m \u001b[0mgraph_element\u001b[0m\u001b[1;33m)\u001b[0m\u001b[1;33m\u001b[0m\u001b[0m\n",
      "\u001b[1;32mD:\\Anaconda3\\lib\\site-packages\\tensorflow\\python\\framework\\ops.py\u001b[0m in \u001b[0;36m_assert_same_graph\u001b[1;34m(original_item, item)\u001b[0m\n\u001b[0;32m   5571\u001b[0m   \u001b[1;32mif\u001b[0m \u001b[0moriginal_item\u001b[0m\u001b[1;33m.\u001b[0m\u001b[0mgraph\u001b[0m \u001b[1;32mis\u001b[0m \u001b[1;32mnot\u001b[0m \u001b[0mitem\u001b[0m\u001b[1;33m.\u001b[0m\u001b[0mgraph\u001b[0m\u001b[1;33m:\u001b[0m\u001b[1;33m\u001b[0m\u001b[0m\n\u001b[0;32m   5572\u001b[0m     raise ValueError(\"%s must be from the same graph as %s.\" % (item,\n\u001b[1;32m-> 5573\u001b[1;33m                                                                 original_item))\n\u001b[0m\u001b[0;32m   5574\u001b[0m \u001b[1;33m\u001b[0m\u001b[0m\n\u001b[0;32m   5575\u001b[0m \u001b[1;33m\u001b[0m\u001b[0m\n",
      "\u001b[1;31mValueError\u001b[0m: Tensor(\"Variable:0\", shape=(5, 5, 1, 32), dtype=float32_ref) must be from the same graph as Tensor(\"Placeholder:0\", shape=(?, 28, 28, 1), dtype=float32)."
     ]
    }
   ],
   "source": [
    "################################################################################\n",
    "#\n",
    "# constructed graph\n",
    "#\n",
    "################################################################################\n",
    "conv_1 = add_convolutional_layer(X_input,\n",
    "                                 in_channels=1,\n",
    "                                 out_channels=32,\n",
    "                                 filter_height=5,\n",
    "                                 filter_width=5,\n",
    "                                 stride=2,\n",
    "                                 activation_function=tf.nn.relu)"
   ]
  },
  {
   "cell_type": "code",
   "execution_count": null,
   "metadata": {},
   "outputs": [],
   "source": [
    "################################################################################\n",
    "#\n",
    "# executed graph\n",
    "#\n",
    "################################################################################"
   ]
  }
 ],
 "metadata": {
  "kernelspec": {
   "display_name": "Python 3",
   "language": "python",
   "name": "python3"
  },
  "language_info": {
   "codemirror_mode": {
    "name": "ipython",
    "version": 3
   },
   "file_extension": ".py",
   "mimetype": "text/x-python",
   "name": "python",
   "nbconvert_exporter": "python",
   "pygments_lexer": "ipython3",
   "version": "3.6.5"
  },
  "toc": {
   "base_numbering": 1,
   "nav_menu": {},
   "number_sections": true,
   "sideBar": true,
   "skip_h1_title": true,
   "title_cell": "Table of Contents",
   "title_sidebar": "Contents",
   "toc_cell": false,
   "toc_position": {},
   "toc_section_display": true,
   "toc_window_display": false
  }
 },
 "nbformat": 4,
 "nbformat_minor": 2
}
