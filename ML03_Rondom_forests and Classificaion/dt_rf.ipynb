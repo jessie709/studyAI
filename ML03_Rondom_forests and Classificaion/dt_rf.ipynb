{
 "cells": [
  {
   "cell_type": "code",
   "execution_count": 1,
   "metadata": {},
   "outputs": [],
   "source": [
    "from sklearn.datasets import load_iris\n",
    "from sklearn import tree"
   ]
  },
  {
   "cell_type": "code",
   "execution_count": 2,
   "metadata": {},
   "outputs": [],
   "source": [
    "# load iris \n",
    "iris = load_iris()"
   ]
  },
  {
   "cell_type": "code",
   "execution_count": 3,
   "metadata": {},
   "outputs": [
    {
     "data": {
      "text/plain": [
       "(150, 4)"
      ]
     },
     "execution_count": 3,
     "metadata": {},
     "output_type": "execute_result"
    }
   ],
   "source": [
    "# dataset shape\n",
    "iris.data.shape"
   ]
  },
  {
   "cell_type": "code",
   "execution_count": 4,
   "metadata": {},
   "outputs": [
    {
     "data": {
      "text/plain": [
       "['sepal length (cm)',\n",
       " 'sepal width (cm)',\n",
       " 'petal length (cm)',\n",
       " 'petal width (cm)']"
      ]
     },
     "execution_count": 4,
     "metadata": {},
     "output_type": "execute_result"
    }
   ],
   "source": [
    "# features\n",
    "iris.feature_names"
   ]
  },
  {
   "cell_type": "code",
   "execution_count": 5,
   "metadata": {},
   "outputs": [
    {
     "data": {
      "text/plain": [
       "array([[4.9, 3. , 1.4, 0.2],\n",
       "       [4.7, 3.2, 1.3, 0.2],\n",
       "       [4.6, 3.1, 1.5, 0.2],\n",
       "       [5. , 3.6, 1.4, 0.2]])"
      ]
     },
     "execution_count": 5,
     "metadata": {},
     "output_type": "execute_result"
    }
   ],
   "source": [
    "iris.data[1:5]"
   ]
  },
  {
   "cell_type": "code",
   "execution_count": 6,
   "metadata": {},
   "outputs": [
    {
     "data": {
      "text/plain": [
       "array(['setosa', 'versicolor', 'virginica'], dtype='|S10')"
      ]
     },
     "execution_count": 6,
     "metadata": {},
     "output_type": "execute_result"
    }
   ],
   "source": [
    "# labels\n",
    "iris.target_names"
   ]
  },
  {
   "cell_type": "code",
   "execution_count": 7,
   "metadata": {},
   "outputs": [
    {
     "data": {
      "text/plain": [
       "array([0, 0, 0, 0, 0, 0, 0, 0, 0, 0, 0, 0, 0, 0, 0, 0, 0, 0, 0, 0, 0, 0,\n",
       "       0, 0, 0, 0, 0, 0, 0, 0, 0, 0, 0, 0, 0, 0, 0, 0, 0, 0, 0, 0, 0, 0,\n",
       "       0, 0, 0, 0, 0, 0, 1, 1, 1, 1, 1, 1, 1, 1, 1, 1, 1, 1, 1, 1, 1, 1,\n",
       "       1, 1, 1, 1, 1, 1, 1, 1, 1, 1, 1, 1, 1, 1, 1, 1, 1, 1, 1, 1, 1, 1,\n",
       "       1, 1, 1, 1, 1, 1, 1, 1, 1, 1, 1, 1, 2, 2, 2, 2, 2, 2, 2, 2, 2, 2,\n",
       "       2, 2, 2, 2, 2, 2, 2, 2, 2, 2, 2, 2, 2, 2, 2, 2, 2, 2, 2, 2, 2, 2,\n",
       "       2, 2, 2, 2, 2, 2, 2, 2, 2, 2, 2, 2, 2, 2, 2, 2, 2, 2])"
      ]
     },
     "execution_count": 7,
     "metadata": {},
     "output_type": "execute_result"
    }
   ],
   "source": [
    "iris.target"
   ]
  },
  {
   "cell_type": "code",
   "execution_count": 8,
   "metadata": {},
   "outputs": [],
   "source": [
    "# build model, decision tree\n",
    "clf = tree.DecisionTreeClassifier()"
   ]
  },
  {
   "cell_type": "code",
   "execution_count": 9,
   "metadata": {},
   "outputs": [],
   "source": [
    "# trainning model\n",
    "clf = clf.fit(iris.data, iris.target)"
   ]
  },
  {
   "cell_type": "code",
   "execution_count": 10,
   "metadata": {},
   "outputs": [
    {
     "data": {
      "text/plain": [
       "DecisionTreeClassifier(class_weight=None, criterion='gini', max_depth=None,\n",
       "            max_features=None, max_leaf_nodes=None,\n",
       "            min_impurity_decrease=0.0, min_impurity_split=None,\n",
       "            min_samples_leaf=1, min_samples_split=2,\n",
       "            min_weight_fraction_leaf=0.0, presort=False, random_state=None,\n",
       "            splitter='best')"
      ]
     },
     "execution_count": 10,
     "metadata": {},
     "output_type": "execute_result"
    }
   ],
   "source": [
    "# classifier\n",
    "clf"
   ]
  },
  {
   "cell_type": "code",
   "execution_count": 11,
   "metadata": {},
   "outputs": [],
   "source": [
    "# visulization\n",
    "import graphviz "
   ]
  },
  {
   "cell_type": "code",
   "execution_count": 12,
   "metadata": {},
   "outputs": [],
   "source": [
    "dot_data = tree.export_graphviz(clf, out_file=None, \n",
    "                     feature_names=iris.feature_names,  \n",
    "                     class_names=iris.target_names,  \n",
    "                     filled=True, rounded=True,  \n",
    "                     special_characters=True)  "
   ]
  },
  {
   "cell_type": "code",
   "execution_count": 13,
   "metadata": {},
   "outputs": [],
   "source": [
    "graph = graphviz.Source(dot_data)"
   ]
  },
  {
   "cell_type": "code",
   "execution_count": 14,
   "metadata": {
    "scrolled": true
   },
   "outputs": [
    {
     "data": {
      "image/svg+xml": [
       "<?xml version=\"1.0\" encoding=\"UTF-8\" standalone=\"no\"?>\n",
       "<!DOCTYPE svg PUBLIC \"-//W3C//DTD SVG 1.1//EN\"\n",
       " \"http://www.w3.org/Graphics/SVG/1.1/DTD/svg11.dtd\">\n",
       "<!-- Generated by graphviz version 2.40.1 (20161225.0304)\n",
       " -->\n",
       "<!-- Title: Tree Pages: 1 -->\n",
       "<svg width=\"872pt\" height=\"723pt\"\n",
       " viewBox=\"0.00 0.00 871.81 723.20\" xmlns=\"http://www.w3.org/2000/svg\" xmlns:xlink=\"http://www.w3.org/1999/xlink\">\n",
       "<g id=\"graph0\" class=\"graph\" transform=\"scale(1 1) rotate(0) translate(4 719.2)\">\n",
       "<title>Tree</title>\n",
       "<polygon fill=\"#ffffff\" stroke=\"transparent\" points=\"-4,4 -4,-719.2 867.8057,-719.2 867.8057,4 -4,4\"/>\n",
       "<!-- 0 -->\n",
       "<g id=\"node1\" class=\"node\">\n",
       "<title>0</title>\n",
       "<path fill=\"transparent\" stroke=\"#000000\" d=\"M525.737,-715.2C525.737,-715.2 383.9902,-715.2 383.9902,-715.2 377.9902,-715.2 371.9902,-709.2 371.9902,-703.2 371.9902,-703.2 371.9902,-635.2 371.9902,-635.2 371.9902,-629.2 377.9902,-623.2 383.9902,-623.2 383.9902,-623.2 525.737,-623.2 525.737,-623.2 531.737,-623.2 537.737,-629.2 537.737,-635.2 537.737,-635.2 537.737,-703.2 537.737,-703.2 537.737,-709.2 531.737,-715.2 525.737,-715.2\"/>\n",
       "<text text-anchor=\"start\" x=\"380.1771\" y=\"-698.6\" font-family=\"Helvetica,sans-Serif\" font-size=\"14.00\" fill=\"#000000\">petal length (cm) ≤ 2.45</text>\n",
       "<text text-anchor=\"start\" x=\"418.486\" y=\"-681.8\" font-family=\"Helvetica,sans-Serif\" font-size=\"14.00\" fill=\"#000000\">gini = 0.667</text>\n",
       "<text text-anchor=\"start\" x=\"409.1543\" y=\"-665\" font-family=\"Helvetica,sans-Serif\" font-size=\"14.00\" fill=\"#000000\">samples = 150</text>\n",
       "<text text-anchor=\"start\" x=\"395.1389\" y=\"-648.2\" font-family=\"Helvetica,sans-Serif\" font-size=\"14.00\" fill=\"#000000\">value = [50, 50, 50]</text>\n",
       "<text text-anchor=\"start\" x=\"410.3219\" y=\"-631.4\" font-family=\"Helvetica,sans-Serif\" font-size=\"14.00\" fill=\"#000000\">class = setosa</text>\n",
       "</g>\n",
       "<!-- 1 -->\n",
       "<g id=\"node2\" class=\"node\">\n",
       "<title>1</title>\n",
       "<path fill=\"#e58139\" stroke=\"#000000\" d=\"M423.7479,-578.9003C423.7479,-578.9003 327.9793,-578.9003 327.9793,-578.9003 321.9793,-578.9003 315.9793,-572.9003 315.9793,-566.9003 315.9793,-566.9003 315.9793,-515.4997 315.9793,-515.4997 315.9793,-509.4997 321.9793,-503.4997 327.9793,-503.4997 327.9793,-503.4997 423.7479,-503.4997 423.7479,-503.4997 429.7479,-503.4997 435.7479,-509.4997 435.7479,-515.4997 435.7479,-515.4997 435.7479,-566.9003 435.7479,-566.9003 435.7479,-572.9003 429.7479,-578.9003 423.7479,-578.9003\"/>\n",
       "<text text-anchor=\"start\" x=\"347.2686\" y=\"-562.2\" font-family=\"Helvetica,sans-Serif\" font-size=\"14.00\" fill=\"#000000\">gini = 0.0</text>\n",
       "<text text-anchor=\"start\" x=\"334.0456\" y=\"-545.4\" font-family=\"Helvetica,sans-Serif\" font-size=\"14.00\" fill=\"#000000\">samples = 50</text>\n",
       "<text text-anchor=\"start\" x=\"323.9215\" y=\"-528.6\" font-family=\"Helvetica,sans-Serif\" font-size=\"14.00\" fill=\"#000000\">value = [50, 0, 0]</text>\n",
       "<text text-anchor=\"start\" x=\"331.3219\" y=\"-511.8\" font-family=\"Helvetica,sans-Serif\" font-size=\"14.00\" fill=\"#000000\">class = setosa</text>\n",
       "</g>\n",
       "<!-- 0&#45;&gt;1 -->\n",
       "<g id=\"edge1\" class=\"edge\">\n",
       "<title>0&#45;&gt;1</title>\n",
       "<path fill=\"none\" stroke=\"#000000\" d=\"M426.3428,-622.9891C419.2285,-611.4622 411.5981,-599.099 404.4793,-587.5647\"/>\n",
       "<polygon fill=\"#000000\" stroke=\"#000000\" points=\"407.3828,-585.605 399.1522,-578.9335 401.426,-589.2815 407.3828,-585.605\"/>\n",
       "<text text-anchor=\"middle\" x=\"393.3935\" y=\"-599.0612\" font-family=\"Helvetica,sans-Serif\" font-size=\"14.00\" fill=\"#000000\">True</text>\n",
       "</g>\n",
       "<!-- 2 -->\n",
       "<g id=\"node3\" class=\"node\">\n",
       "<title>2</title>\n",
       "<path fill=\"transparent\" stroke=\"#000000\" d=\"M601.778,-587.2C601.778,-587.2 465.9492,-587.2 465.9492,-587.2 459.9492,-587.2 453.9492,-581.2 453.9492,-575.2 453.9492,-575.2 453.9492,-507.2 453.9492,-507.2 453.9492,-501.2 459.9492,-495.2 465.9492,-495.2 465.9492,-495.2 601.778,-495.2 601.778,-495.2 607.778,-495.2 613.778,-501.2 613.778,-507.2 613.778,-507.2 613.778,-575.2 613.778,-575.2 613.778,-581.2 607.778,-587.2 601.778,-587.2\"/>\n",
       "<text text-anchor=\"start\" x=\"461.9064\" y=\"-570.6\" font-family=\"Helvetica,sans-Serif\" font-size=\"14.00\" fill=\"#000000\">petal width (cm) ≤ 1.75</text>\n",
       "<text text-anchor=\"start\" x=\"505.2686\" y=\"-553.8\" font-family=\"Helvetica,sans-Serif\" font-size=\"14.00\" fill=\"#000000\">gini = 0.5</text>\n",
       "<text text-anchor=\"start\" x=\"488.1543\" y=\"-537\" font-family=\"Helvetica,sans-Serif\" font-size=\"14.00\" fill=\"#000000\">samples = 100</text>\n",
       "<text text-anchor=\"start\" x=\"478.0302\" y=\"-520.2\" font-family=\"Helvetica,sans-Serif\" font-size=\"14.00\" fill=\"#000000\">value = [0, 50, 50]</text>\n",
       "<text text-anchor=\"start\" x=\"480\" y=\"-503.4\" font-family=\"Helvetica,sans-Serif\" font-size=\"14.00\" fill=\"#000000\">class = versicolor</text>\n",
       "</g>\n",
       "<!-- 0&#45;&gt;2 -->\n",
       "<g id=\"edge2\" class=\"edge\">\n",
       "<title>0&#45;&gt;2</title>\n",
       "<path fill=\"none\" stroke=\"#000000\" d=\"M483.3844,-622.9891C488.8102,-614.1979 494.5363,-604.9202 500.1066,-595.8949\"/>\n",
       "<polygon fill=\"#000000\" stroke=\"#000000\" points=\"503.1109,-597.6911 505.3847,-587.3431 497.1541,-594.0146 503.1109,-597.6911\"/>\n",
       "<text text-anchor=\"middle\" x=\"511.1434\" y=\"-607.4708\" font-family=\"Helvetica,sans-Serif\" font-size=\"14.00\" fill=\"#000000\">False</text>\n",
       "</g>\n",
       "<!-- 3 -->\n",
       "<g id=\"node4\" class=\"node\">\n",
       "<title>3</title>\n",
       "<path fill=\"#39e581\" fill-opacity=\"0.898039\" stroke=\"#000000\" d=\"M491.737,-459.2C491.737,-459.2 349.9902,-459.2 349.9902,-459.2 343.9902,-459.2 337.9902,-453.2 337.9902,-447.2 337.9902,-447.2 337.9902,-379.2 337.9902,-379.2 337.9902,-373.2 343.9902,-367.2 349.9902,-367.2 349.9902,-367.2 491.737,-367.2 491.737,-367.2 497.737,-367.2 503.737,-373.2 503.737,-379.2 503.737,-379.2 503.737,-447.2 503.737,-447.2 503.737,-453.2 497.737,-459.2 491.737,-459.2\"/>\n",
       "<text text-anchor=\"start\" x=\"346.1771\" y=\"-442.6\" font-family=\"Helvetica,sans-Serif\" font-size=\"14.00\" fill=\"#000000\">petal length (cm) ≤ 4.95</text>\n",
       "<text text-anchor=\"start\" x=\"384.486\" y=\"-425.8\" font-family=\"Helvetica,sans-Serif\" font-size=\"14.00\" fill=\"#000000\">gini = 0.168</text>\n",
       "<text text-anchor=\"start\" x=\"379.0456\" y=\"-409\" font-family=\"Helvetica,sans-Serif\" font-size=\"14.00\" fill=\"#000000\">samples = 54</text>\n",
       "<text text-anchor=\"start\" x=\"368.9215\" y=\"-392.2\" font-family=\"Helvetica,sans-Serif\" font-size=\"14.00\" fill=\"#000000\">value = [0, 49, 5]</text>\n",
       "<text text-anchor=\"start\" x=\"367\" y=\"-375.4\" font-family=\"Helvetica,sans-Serif\" font-size=\"14.00\" fill=\"#000000\">class = versicolor</text>\n",
       "</g>\n",
       "<!-- 2&#45;&gt;3 -->\n",
       "<g id=\"edge3\" class=\"edge\">\n",
       "<title>2&#45;&gt;3</title>\n",
       "<path fill=\"none\" stroke=\"#000000\" d=\"M493.068,-494.9891C485.067,-485.926 476.6096,-476.3459 468.4103,-467.0582\"/>\n",
       "<polygon fill=\"#000000\" stroke=\"#000000\" points=\"470.8413,-464.5234 461.5993,-459.3431 465.5937,-469.1562 470.8413,-464.5234\"/>\n",
       "</g>\n",
       "<!-- 12 -->\n",
       "<g id=\"node13\" class=\"node\">\n",
       "<title>12</title>\n",
       "<path fill=\"#8139e5\" fill-opacity=\"0.976471\" stroke=\"#000000\" d=\"M718.737,-459.2C718.737,-459.2 576.9902,-459.2 576.9902,-459.2 570.9902,-459.2 564.9902,-453.2 564.9902,-447.2 564.9902,-447.2 564.9902,-379.2 564.9902,-379.2 564.9902,-373.2 570.9902,-367.2 576.9902,-367.2 576.9902,-367.2 718.737,-367.2 718.737,-367.2 724.737,-367.2 730.737,-373.2 730.737,-379.2 730.737,-379.2 730.737,-447.2 730.737,-447.2 730.737,-453.2 724.737,-459.2 718.737,-459.2\"/>\n",
       "<text text-anchor=\"start\" x=\"573.1771\" y=\"-442.6\" font-family=\"Helvetica,sans-Serif\" font-size=\"14.00\" fill=\"#000000\">petal length (cm) ≤ 4.85</text>\n",
       "<text text-anchor=\"start\" x=\"611.486\" y=\"-425.8\" font-family=\"Helvetica,sans-Serif\" font-size=\"14.00\" fill=\"#000000\">gini = 0.043</text>\n",
       "<text text-anchor=\"start\" x=\"606.0456\" y=\"-409\" font-family=\"Helvetica,sans-Serif\" font-size=\"14.00\" fill=\"#000000\">samples = 46</text>\n",
       "<text text-anchor=\"start\" x=\"595.9215\" y=\"-392.2\" font-family=\"Helvetica,sans-Serif\" font-size=\"14.00\" fill=\"#000000\">value = [0, 1, 45]</text>\n",
       "<text text-anchor=\"start\" x=\"598.277\" y=\"-375.4\" font-family=\"Helvetica,sans-Serif\" font-size=\"14.00\" fill=\"#000000\">class = virginica</text>\n",
       "</g>\n",
       "<!-- 2&#45;&gt;12 -->\n",
       "<g id=\"edge12\" class=\"edge\">\n",
       "<title>2&#45;&gt;12</title>\n",
       "<path fill=\"none\" stroke=\"#000000\" d=\"M575.0202,-494.9891C583.092,-485.926 591.6243,-476.3459 599.8961,-467.0582\"/>\n",
       "<polygon fill=\"#000000\" stroke=\"#000000\" points=\"602.7302,-469.1386 606.7674,-459.3431 597.5028,-464.483 602.7302,-469.1386\"/>\n",
       "</g>\n",
       "<!-- 4 -->\n",
       "<g id=\"node5\" class=\"node\">\n",
       "<title>4</title>\n",
       "<path fill=\"#39e581\" fill-opacity=\"0.980392\" stroke=\"#000000\" d=\"M266.778,-331.2C266.778,-331.2 130.9492,-331.2 130.9492,-331.2 124.9492,-331.2 118.9492,-325.2 118.9492,-319.2 118.9492,-319.2 118.9492,-251.2 118.9492,-251.2 118.9492,-245.2 124.9492,-239.2 130.9492,-239.2 130.9492,-239.2 266.778,-239.2 266.778,-239.2 272.778,-239.2 278.778,-245.2 278.778,-251.2 278.778,-251.2 278.778,-319.2 278.778,-319.2 278.778,-325.2 272.778,-331.2 266.778,-331.2\"/>\n",
       "<text text-anchor=\"start\" x=\"126.9064\" y=\"-314.6\" font-family=\"Helvetica,sans-Serif\" font-size=\"14.00\" fill=\"#000000\">petal width (cm) ≤ 1.65</text>\n",
       "<text text-anchor=\"start\" x=\"162.486\" y=\"-297.8\" font-family=\"Helvetica,sans-Serif\" font-size=\"14.00\" fill=\"#000000\">gini = 0.041</text>\n",
       "<text text-anchor=\"start\" x=\"157.0456\" y=\"-281\" font-family=\"Helvetica,sans-Serif\" font-size=\"14.00\" fill=\"#000000\">samples = 48</text>\n",
       "<text text-anchor=\"start\" x=\"146.9215\" y=\"-264.2\" font-family=\"Helvetica,sans-Serif\" font-size=\"14.00\" fill=\"#000000\">value = [0, 47, 1]</text>\n",
       "<text text-anchor=\"start\" x=\"145\" y=\"-247.4\" font-family=\"Helvetica,sans-Serif\" font-size=\"14.00\" fill=\"#000000\">class = versicolor</text>\n",
       "</g>\n",
       "<!-- 3&#45;&gt;4 -->\n",
       "<g id=\"edge4\" class=\"edge\">\n",
       "<title>3&#45;&gt;4</title>\n",
       "<path fill=\"none\" stroke=\"#000000\" d=\"M341.0301,-367.1699C323.7757,-357.2214 305.428,-346.6425 287.8479,-336.5062\"/>\n",
       "<polygon fill=\"#000000\" stroke=\"#000000\" points=\"289.1458,-333.2145 278.7344,-331.2516 285.6493,-339.2788 289.1458,-333.2145\"/>\n",
       "</g>\n",
       "<!-- 7 -->\n",
       "<g id=\"node8\" class=\"node\">\n",
       "<title>7</title>\n",
       "<path fill=\"#8139e5\" fill-opacity=\"0.498039\" stroke=\"#000000\" d=\"M488.778,-331.2C488.778,-331.2 352.9492,-331.2 352.9492,-331.2 346.9492,-331.2 340.9492,-325.2 340.9492,-319.2 340.9492,-319.2 340.9492,-251.2 340.9492,-251.2 340.9492,-245.2 346.9492,-239.2 352.9492,-239.2 352.9492,-239.2 488.778,-239.2 488.778,-239.2 494.778,-239.2 500.778,-245.2 500.778,-251.2 500.778,-251.2 500.778,-319.2 500.778,-319.2 500.778,-325.2 494.778,-331.2 488.778,-331.2\"/>\n",
       "<text text-anchor=\"start\" x=\"348.9064\" y=\"-314.6\" font-family=\"Helvetica,sans-Serif\" font-size=\"14.00\" fill=\"#000000\">petal width (cm) ≤ 1.55</text>\n",
       "<text text-anchor=\"start\" x=\"384.486\" y=\"-297.8\" font-family=\"Helvetica,sans-Serif\" font-size=\"14.00\" fill=\"#000000\">gini = 0.444</text>\n",
       "<text text-anchor=\"start\" x=\"382.9369\" y=\"-281\" font-family=\"Helvetica,sans-Serif\" font-size=\"14.00\" fill=\"#000000\">samples = 6</text>\n",
       "<text text-anchor=\"start\" x=\"372.8128\" y=\"-264.2\" font-family=\"Helvetica,sans-Serif\" font-size=\"14.00\" fill=\"#000000\">value = [0, 2, 4]</text>\n",
       "<text text-anchor=\"start\" x=\"371.277\" y=\"-247.4\" font-family=\"Helvetica,sans-Serif\" font-size=\"14.00\" fill=\"#000000\">class = virginica</text>\n",
       "</g>\n",
       "<!-- 3&#45;&gt;7 -->\n",
       "<g id=\"edge7\" class=\"edge\">\n",
       "<title>3&#45;&gt;7</title>\n",
       "<path fill=\"none\" stroke=\"#000000\" d=\"M420.8636,-366.9891C420.8636,-358.7417 420.8636,-350.0661 420.8636,-341.5724\"/>\n",
       "<polygon fill=\"#000000\" stroke=\"#000000\" points=\"424.3637,-341.3431 420.8636,-331.3431 417.3637,-341.3431 424.3637,-341.3431\"/>\n",
       "</g>\n",
       "<!-- 5 -->\n",
       "<g id=\"node6\" class=\"node\">\n",
       "<title>5</title>\n",
       "<path fill=\"#39e581\" stroke=\"#000000\" d=\"M111.5911,-194.9003C111.5911,-194.9003 12.1361,-194.9003 12.1361,-194.9003 6.1361,-194.9003 .1361,-188.9003 .1361,-182.9003 .1361,-182.9003 .1361,-131.4997 .1361,-131.4997 .1361,-125.4997 6.1361,-119.4997 12.1361,-119.4997 12.1361,-119.4997 111.5911,-119.4997 111.5911,-119.4997 117.5911,-119.4997 123.5911,-125.4997 123.5911,-131.4997 123.5911,-131.4997 123.5911,-182.9003 123.5911,-182.9003 123.5911,-188.9003 117.5911,-194.9003 111.5911,-194.9003\"/>\n",
       "<text text-anchor=\"start\" x=\"33.2686\" y=\"-178.2\" font-family=\"Helvetica,sans-Serif\" font-size=\"14.00\" fill=\"#000000\">gini = 0.0</text>\n",
       "<text text-anchor=\"start\" x=\"20.0456\" y=\"-161.4\" font-family=\"Helvetica,sans-Serif\" font-size=\"14.00\" fill=\"#000000\">samples = 47</text>\n",
       "<text text-anchor=\"start\" x=\"9.9215\" y=\"-144.6\" font-family=\"Helvetica,sans-Serif\" font-size=\"14.00\" fill=\"#000000\">value = [0, 47, 0]</text>\n",
       "<text text-anchor=\"start\" x=\"8\" y=\"-127.8\" font-family=\"Helvetica,sans-Serif\" font-size=\"14.00\" fill=\"#000000\">class = versicolor</text>\n",
       "</g>\n",
       "<!-- 4&#45;&gt;5 -->\n",
       "<g id=\"edge5\" class=\"edge\">\n",
       "<title>4&#45;&gt;5</title>\n",
       "<path fill=\"none\" stroke=\"#000000\" d=\"M149.4035,-238.9891C136.4613,-226.8971 122.5342,-213.8849 109.6794,-201.8746\"/>\n",
       "<polygon fill=\"#000000\" stroke=\"#000000\" points=\"111.9467,-199.2031 102.2502,-194.9335 107.1678,-204.318 111.9467,-199.2031\"/>\n",
       "</g>\n",
       "<!-- 6 -->\n",
       "<g id=\"node7\" class=\"node\">\n",
       "<title>6</title>\n",
       "<path fill=\"#8139e5\" stroke=\"#000000\" d=\"M244.5369,-194.9003C244.5369,-194.9003 153.1903,-194.9003 153.1903,-194.9003 147.1903,-194.9003 141.1903,-188.9003 141.1903,-182.9003 141.1903,-182.9003 141.1903,-131.4997 141.1903,-131.4997 141.1903,-125.4997 147.1903,-119.4997 153.1903,-119.4997 153.1903,-119.4997 244.5369,-119.4997 244.5369,-119.4997 250.5369,-119.4997 256.5369,-125.4997 256.5369,-131.4997 256.5369,-131.4997 256.5369,-182.9003 256.5369,-182.9003 256.5369,-188.9003 250.5369,-194.9003 244.5369,-194.9003\"/>\n",
       "<text text-anchor=\"start\" x=\"170.2686\" y=\"-178.2\" font-family=\"Helvetica,sans-Serif\" font-size=\"14.00\" fill=\"#000000\">gini = 0.0</text>\n",
       "<text text-anchor=\"start\" x=\"160.9369\" y=\"-161.4\" font-family=\"Helvetica,sans-Serif\" font-size=\"14.00\" fill=\"#000000\">samples = 1</text>\n",
       "<text text-anchor=\"start\" x=\"150.8128\" y=\"-144.6\" font-family=\"Helvetica,sans-Serif\" font-size=\"14.00\" fill=\"#000000\">value = [0, 0, 1]</text>\n",
       "<text text-anchor=\"start\" x=\"149.277\" y=\"-127.8\" font-family=\"Helvetica,sans-Serif\" font-size=\"14.00\" fill=\"#000000\">class = virginica</text>\n",
       "</g>\n",
       "<!-- 4&#45;&gt;6 -->\n",
       "<g id=\"edge6\" class=\"edge\">\n",
       "<title>4&#45;&gt;6</title>\n",
       "<path fill=\"none\" stroke=\"#000000\" d=\"M198.8636,-238.9891C198.8636,-228.0272 198.8636,-216.309 198.8636,-205.2667\"/>\n",
       "<polygon fill=\"#000000\" stroke=\"#000000\" points=\"202.3637,-204.9335 198.8636,-194.9335 195.3637,-204.9335 202.3637,-204.9335\"/>\n",
       "</g>\n",
       "<!-- 8 -->\n",
       "<g id=\"node9\" class=\"node\">\n",
       "<title>8</title>\n",
       "<path fill=\"#8139e5\" stroke=\"#000000\" d=\"M377.5369,-194.9003C377.5369,-194.9003 286.1903,-194.9003 286.1903,-194.9003 280.1903,-194.9003 274.1903,-188.9003 274.1903,-182.9003 274.1903,-182.9003 274.1903,-131.4997 274.1903,-131.4997 274.1903,-125.4997 280.1903,-119.4997 286.1903,-119.4997 286.1903,-119.4997 377.5369,-119.4997 377.5369,-119.4997 383.5369,-119.4997 389.5369,-125.4997 389.5369,-131.4997 389.5369,-131.4997 389.5369,-182.9003 389.5369,-182.9003 389.5369,-188.9003 383.5369,-194.9003 377.5369,-194.9003\"/>\n",
       "<text text-anchor=\"start\" x=\"303.2686\" y=\"-178.2\" font-family=\"Helvetica,sans-Serif\" font-size=\"14.00\" fill=\"#000000\">gini = 0.0</text>\n",
       "<text text-anchor=\"start\" x=\"293.9369\" y=\"-161.4\" font-family=\"Helvetica,sans-Serif\" font-size=\"14.00\" fill=\"#000000\">samples = 3</text>\n",
       "<text text-anchor=\"start\" x=\"283.8128\" y=\"-144.6\" font-family=\"Helvetica,sans-Serif\" font-size=\"14.00\" fill=\"#000000\">value = [0, 0, 3]</text>\n",
       "<text text-anchor=\"start\" x=\"282.277\" y=\"-127.8\" font-family=\"Helvetica,sans-Serif\" font-size=\"14.00\" fill=\"#000000\">class = virginica</text>\n",
       "</g>\n",
       "<!-- 7&#45;&gt;8 -->\n",
       "<g id=\"edge8\" class=\"edge\">\n",
       "<title>7&#45;&gt;8</title>\n",
       "<path fill=\"none\" stroke=\"#000000\" d=\"M388.7326,-238.9891C380.6392,-227.3492 371.9529,-214.8565 363.8658,-203.2257\"/>\n",
       "<polygon fill=\"#000000\" stroke=\"#000000\" points=\"366.6826,-201.1458 358.1002,-194.9335 360.9353,-205.142 366.6826,-201.1458\"/>\n",
       "</g>\n",
       "<!-- 9 -->\n",
       "<g id=\"node10\" class=\"node\">\n",
       "<title>9</title>\n",
       "<path fill=\"#39e581\" fill-opacity=\"0.498039\" stroke=\"#000000\" d=\"M560.737,-203.2C560.737,-203.2 418.9902,-203.2 418.9902,-203.2 412.9902,-203.2 406.9902,-197.2 406.9902,-191.2 406.9902,-191.2 406.9902,-123.2 406.9902,-123.2 406.9902,-117.2 412.9902,-111.2 418.9902,-111.2 418.9902,-111.2 560.737,-111.2 560.737,-111.2 566.737,-111.2 572.737,-117.2 572.737,-123.2 572.737,-123.2 572.737,-191.2 572.737,-191.2 572.737,-197.2 566.737,-203.2 560.737,-203.2\"/>\n",
       "<text text-anchor=\"start\" x=\"415.1771\" y=\"-186.6\" font-family=\"Helvetica,sans-Serif\" font-size=\"14.00\" fill=\"#000000\">petal length (cm) ≤ 5.45</text>\n",
       "<text text-anchor=\"start\" x=\"453.486\" y=\"-169.8\" font-family=\"Helvetica,sans-Serif\" font-size=\"14.00\" fill=\"#000000\">gini = 0.444</text>\n",
       "<text text-anchor=\"start\" x=\"451.9369\" y=\"-153\" font-family=\"Helvetica,sans-Serif\" font-size=\"14.00\" fill=\"#000000\">samples = 3</text>\n",
       "<text text-anchor=\"start\" x=\"441.8128\" y=\"-136.2\" font-family=\"Helvetica,sans-Serif\" font-size=\"14.00\" fill=\"#000000\">value = [0, 2, 1]</text>\n",
       "<text text-anchor=\"start\" x=\"436\" y=\"-119.4\" font-family=\"Helvetica,sans-Serif\" font-size=\"14.00\" fill=\"#000000\">class = versicolor</text>\n",
       "</g>\n",
       "<!-- 7&#45;&gt;9 -->\n",
       "<g id=\"edge9\" class=\"edge\">\n",
       "<title>7&#45;&gt;9</title>\n",
       "<path fill=\"none\" stroke=\"#000000\" d=\"M445.7742,-238.9891C450.4643,-230.2885 455.4113,-221.1115 460.2291,-212.1741\"/>\n",
       "<polygon fill=\"#000000\" stroke=\"#000000\" points=\"463.3253,-213.8064 464.9896,-203.3431 457.1636,-210.4848 463.3253,-213.8064\"/>\n",
       "</g>\n",
       "<!-- 10 -->\n",
       "<g id=\"node11\" class=\"node\">\n",
       "<title>10</title>\n",
       "<path fill=\"#39e581\" stroke=\"#000000\" d=\"M470.5911,-75.3003C470.5911,-75.3003 371.1361,-75.3003 371.1361,-75.3003 365.1361,-75.3003 359.1361,-69.3003 359.1361,-63.3003 359.1361,-63.3003 359.1361,-11.8997 359.1361,-11.8997 359.1361,-5.8997 365.1361,.1003 371.1361,.1003 371.1361,.1003 470.5911,.1003 470.5911,.1003 476.5911,.1003 482.5911,-5.8997 482.5911,-11.8997 482.5911,-11.8997 482.5911,-63.3003 482.5911,-63.3003 482.5911,-69.3003 476.5911,-75.3003 470.5911,-75.3003\"/>\n",
       "<text text-anchor=\"start\" x=\"392.2686\" y=\"-58.6\" font-family=\"Helvetica,sans-Serif\" font-size=\"14.00\" fill=\"#000000\">gini = 0.0</text>\n",
       "<text text-anchor=\"start\" x=\"382.9369\" y=\"-41.8\" font-family=\"Helvetica,sans-Serif\" font-size=\"14.00\" fill=\"#000000\">samples = 2</text>\n",
       "<text text-anchor=\"start\" x=\"372.8128\" y=\"-25\" font-family=\"Helvetica,sans-Serif\" font-size=\"14.00\" fill=\"#000000\">value = [0, 2, 0]</text>\n",
       "<text text-anchor=\"start\" x=\"367\" y=\"-8.2\" font-family=\"Helvetica,sans-Serif\" font-size=\"14.00\" fill=\"#000000\">class = versicolor</text>\n",
       "</g>\n",
       "<!-- 9&#45;&gt;10 -->\n",
       "<g id=\"edge10\" class=\"edge\">\n",
       "<title>9&#45;&gt;10</title>\n",
       "<path fill=\"none\" stroke=\"#000000\" d=\"M463.1864,-110.9595C458.0668,-102.0855 452.7046,-92.791 447.5836,-83.9147\"/>\n",
       "<polygon fill=\"#000000\" stroke=\"#000000\" points=\"450.5899,-82.1216 442.561,-75.2088 444.5266,-85.6197 450.5899,-82.1216\"/>\n",
       "</g>\n",
       "<!-- 11 -->\n",
       "<g id=\"node12\" class=\"node\">\n",
       "<title>11</title>\n",
       "<path fill=\"#8139e5\" stroke=\"#000000\" d=\"M603.5369,-75.3003C603.5369,-75.3003 512.1903,-75.3003 512.1903,-75.3003 506.1903,-75.3003 500.1903,-69.3003 500.1903,-63.3003 500.1903,-63.3003 500.1903,-11.8997 500.1903,-11.8997 500.1903,-5.8997 506.1903,.1003 512.1903,.1003 512.1903,.1003 603.5369,.1003 603.5369,.1003 609.5369,.1003 615.5369,-5.8997 615.5369,-11.8997 615.5369,-11.8997 615.5369,-63.3003 615.5369,-63.3003 615.5369,-69.3003 609.5369,-75.3003 603.5369,-75.3003\"/>\n",
       "<text text-anchor=\"start\" x=\"529.2686\" y=\"-58.6\" font-family=\"Helvetica,sans-Serif\" font-size=\"14.00\" fill=\"#000000\">gini = 0.0</text>\n",
       "<text text-anchor=\"start\" x=\"519.9369\" y=\"-41.8\" font-family=\"Helvetica,sans-Serif\" font-size=\"14.00\" fill=\"#000000\">samples = 1</text>\n",
       "<text text-anchor=\"start\" x=\"509.8128\" y=\"-25\" font-family=\"Helvetica,sans-Serif\" font-size=\"14.00\" fill=\"#000000\">value = [0, 0, 1]</text>\n",
       "<text text-anchor=\"start\" x=\"508.277\" y=\"-8.2\" font-family=\"Helvetica,sans-Serif\" font-size=\"14.00\" fill=\"#000000\">class = virginica</text>\n",
       "</g>\n",
       "<!-- 9&#45;&gt;11 -->\n",
       "<g id=\"edge11\" class=\"edge\">\n",
       "<title>9&#45;&gt;11</title>\n",
       "<path fill=\"none\" stroke=\"#000000\" d=\"M516.1542,-110.9595C521.1996,-102.0855 526.4841,-92.791 531.5308,-83.9147\"/>\n",
       "<polygon fill=\"#000000\" stroke=\"#000000\" points=\"534.5806,-85.6319 536.4807,-75.2088 528.4954,-82.1721 534.5806,-85.6319\"/>\n",
       "</g>\n",
       "<!-- 13 -->\n",
       "<g id=\"node14\" class=\"node\">\n",
       "<title>13</title>\n",
       "<path fill=\"#8139e5\" fill-opacity=\"0.498039\" stroke=\"#000000\" d=\"M713.605,-331.2C713.605,-331.2 582.1222,-331.2 582.1222,-331.2 576.1222,-331.2 570.1222,-325.2 570.1222,-319.2 570.1222,-319.2 570.1222,-251.2 570.1222,-251.2 570.1222,-245.2 576.1222,-239.2 582.1222,-239.2 582.1222,-239.2 713.605,-239.2 713.605,-239.2 719.605,-239.2 725.605,-245.2 725.605,-251.2 725.605,-251.2 725.605,-319.2 725.605,-319.2 725.605,-325.2 719.605,-331.2 713.605,-331.2\"/>\n",
       "<text text-anchor=\"start\" x=\"578.243\" y=\"-314.6\" font-family=\"Helvetica,sans-Serif\" font-size=\"14.00\" fill=\"#000000\">sepal width (cm) ≤ 3.1</text>\n",
       "<text text-anchor=\"start\" x=\"611.486\" y=\"-297.8\" font-family=\"Helvetica,sans-Serif\" font-size=\"14.00\" fill=\"#000000\">gini = 0.444</text>\n",
       "<text text-anchor=\"start\" x=\"609.9369\" y=\"-281\" font-family=\"Helvetica,sans-Serif\" font-size=\"14.00\" fill=\"#000000\">samples = 3</text>\n",
       "<text text-anchor=\"start\" x=\"599.8128\" y=\"-264.2\" font-family=\"Helvetica,sans-Serif\" font-size=\"14.00\" fill=\"#000000\">value = [0, 1, 2]</text>\n",
       "<text text-anchor=\"start\" x=\"598.277\" y=\"-247.4\" font-family=\"Helvetica,sans-Serif\" font-size=\"14.00\" fill=\"#000000\">class = virginica</text>\n",
       "</g>\n",
       "<!-- 12&#45;&gt;13 -->\n",
       "<g id=\"edge13\" class=\"edge\">\n",
       "<title>12&#45;&gt;13</title>\n",
       "<path fill=\"none\" stroke=\"#000000\" d=\"M647.8636,-366.9891C647.8636,-358.7417 647.8636,-350.0661 647.8636,-341.5724\"/>\n",
       "<polygon fill=\"#000000\" stroke=\"#000000\" points=\"651.3637,-341.3431 647.8636,-331.3431 644.3637,-341.3431 651.3637,-341.3431\"/>\n",
       "</g>\n",
       "<!-- 16 -->\n",
       "<g id=\"node17\" class=\"node\">\n",
       "<title>16</title>\n",
       "<path fill=\"#8139e5\" stroke=\"#000000\" d=\"M851.7479,-322.9003C851.7479,-322.9003 755.9793,-322.9003 755.9793,-322.9003 749.9793,-322.9003 743.9793,-316.9003 743.9793,-310.9003 743.9793,-310.9003 743.9793,-259.4997 743.9793,-259.4997 743.9793,-253.4997 749.9793,-247.4997 755.9793,-247.4997 755.9793,-247.4997 851.7479,-247.4997 851.7479,-247.4997 857.7479,-247.4997 863.7479,-253.4997 863.7479,-259.4997 863.7479,-259.4997 863.7479,-310.9003 863.7479,-310.9003 863.7479,-316.9003 857.7479,-322.9003 851.7479,-322.9003\"/>\n",
       "<text text-anchor=\"start\" x=\"775.2686\" y=\"-306.2\" font-family=\"Helvetica,sans-Serif\" font-size=\"14.00\" fill=\"#000000\">gini = 0.0</text>\n",
       "<text text-anchor=\"start\" x=\"762.0456\" y=\"-289.4\" font-family=\"Helvetica,sans-Serif\" font-size=\"14.00\" fill=\"#000000\">samples = 43</text>\n",
       "<text text-anchor=\"start\" x=\"751.9215\" y=\"-272.6\" font-family=\"Helvetica,sans-Serif\" font-size=\"14.00\" fill=\"#000000\">value = [0, 0, 43]</text>\n",
       "<text text-anchor=\"start\" x=\"754.277\" y=\"-255.8\" font-family=\"Helvetica,sans-Serif\" font-size=\"14.00\" fill=\"#000000\">class = virginica</text>\n",
       "</g>\n",
       "<!-- 12&#45;&gt;16 -->\n",
       "<g id=\"edge16\" class=\"edge\">\n",
       "<title>12&#45;&gt;16</title>\n",
       "<path fill=\"none\" stroke=\"#000000\" d=\"M704.1832,-366.9891C719.058,-354.7841 735.0754,-341.6416 749.8265,-329.5382\"/>\n",
       "<polygon fill=\"#000000\" stroke=\"#000000\" points=\"752.3653,-331.9825 757.8759,-322.9335 747.925,-326.5709 752.3653,-331.9825\"/>\n",
       "</g>\n",
       "<!-- 14 -->\n",
       "<g id=\"node15\" class=\"node\">\n",
       "<title>14</title>\n",
       "<path fill=\"#8139e5\" stroke=\"#000000\" d=\"M693.5369,-194.9003C693.5369,-194.9003 602.1903,-194.9003 602.1903,-194.9003 596.1903,-194.9003 590.1903,-188.9003 590.1903,-182.9003 590.1903,-182.9003 590.1903,-131.4997 590.1903,-131.4997 590.1903,-125.4997 596.1903,-119.4997 602.1903,-119.4997 602.1903,-119.4997 693.5369,-119.4997 693.5369,-119.4997 699.5369,-119.4997 705.5369,-125.4997 705.5369,-131.4997 705.5369,-131.4997 705.5369,-182.9003 705.5369,-182.9003 705.5369,-188.9003 699.5369,-194.9003 693.5369,-194.9003\"/>\n",
       "<text text-anchor=\"start\" x=\"619.2686\" y=\"-178.2\" font-family=\"Helvetica,sans-Serif\" font-size=\"14.00\" fill=\"#000000\">gini = 0.0</text>\n",
       "<text text-anchor=\"start\" x=\"609.9369\" y=\"-161.4\" font-family=\"Helvetica,sans-Serif\" font-size=\"14.00\" fill=\"#000000\">samples = 2</text>\n",
       "<text text-anchor=\"start\" x=\"599.8128\" y=\"-144.6\" font-family=\"Helvetica,sans-Serif\" font-size=\"14.00\" fill=\"#000000\">value = [0, 0, 2]</text>\n",
       "<text text-anchor=\"start\" x=\"598.277\" y=\"-127.8\" font-family=\"Helvetica,sans-Serif\" font-size=\"14.00\" fill=\"#000000\">class = virginica</text>\n",
       "</g>\n",
       "<!-- 13&#45;&gt;14 -->\n",
       "<g id=\"edge14\" class=\"edge\">\n",
       "<title>13&#45;&gt;14</title>\n",
       "<path fill=\"none\" stroke=\"#000000\" d=\"M647.8636,-238.9891C647.8636,-228.0272 647.8636,-216.309 647.8636,-205.2667\"/>\n",
       "<polygon fill=\"#000000\" stroke=\"#000000\" points=\"651.3637,-204.9335 647.8636,-194.9335 644.3637,-204.9335 651.3637,-204.9335\"/>\n",
       "</g>\n",
       "<!-- 15 -->\n",
       "<g id=\"node16\" class=\"node\">\n",
       "<title>15</title>\n",
       "<path fill=\"#39e581\" stroke=\"#000000\" d=\"M834.5911,-194.9003C834.5911,-194.9003 735.1361,-194.9003 735.1361,-194.9003 729.1361,-194.9003 723.1361,-188.9003 723.1361,-182.9003 723.1361,-182.9003 723.1361,-131.4997 723.1361,-131.4997 723.1361,-125.4997 729.1361,-119.4997 735.1361,-119.4997 735.1361,-119.4997 834.5911,-119.4997 834.5911,-119.4997 840.5911,-119.4997 846.5911,-125.4997 846.5911,-131.4997 846.5911,-131.4997 846.5911,-182.9003 846.5911,-182.9003 846.5911,-188.9003 840.5911,-194.9003 834.5911,-194.9003\"/>\n",
       "<text text-anchor=\"start\" x=\"756.2686\" y=\"-178.2\" font-family=\"Helvetica,sans-Serif\" font-size=\"14.00\" fill=\"#000000\">gini = 0.0</text>\n",
       "<text text-anchor=\"start\" x=\"746.9369\" y=\"-161.4\" font-family=\"Helvetica,sans-Serif\" font-size=\"14.00\" fill=\"#000000\">samples = 1</text>\n",
       "<text text-anchor=\"start\" x=\"736.8128\" y=\"-144.6\" font-family=\"Helvetica,sans-Serif\" font-size=\"14.00\" fill=\"#000000\">value = [0, 1, 0]</text>\n",
       "<text text-anchor=\"start\" x=\"731\" y=\"-127.8\" font-family=\"Helvetica,sans-Serif\" font-size=\"14.00\" fill=\"#000000\">class = versicolor</text>\n",
       "</g>\n",
       "<!-- 13&#45;&gt;15 -->\n",
       "<g id=\"edge15\" class=\"edge\">\n",
       "<title>13&#45;&gt;15</title>\n",
       "<path fill=\"none\" stroke=\"#000000\" d=\"M697.3237,-238.9891C710.2659,-226.8971 724.193,-213.8849 737.0478,-201.8746\"/>\n",
       "<polygon fill=\"#000000\" stroke=\"#000000\" points=\"739.5594,-204.318 744.477,-194.9335 734.7805,-199.2031 739.5594,-204.318\"/>\n",
       "</g>\n",
       "</g>\n",
       "</svg>\n"
      ],
      "text/plain": [
       "<graphviz.files.Source at 0x11c9762d0>"
      ]
     },
     "execution_count": 14,
     "metadata": {},
     "output_type": "execute_result"
    }
   ],
   "source": [
    "graph"
   ]
  },
  {
   "cell_type": "code",
   "execution_count": 15,
   "metadata": {},
   "outputs": [],
   "source": [
    "# save model\n",
    "from sklearn.externals import joblib"
   ]
  },
  {
   "cell_type": "code",
   "execution_count": 16,
   "metadata": {},
   "outputs": [
    {
     "data": {
      "text/plain": [
       "['clf.m']"
      ]
     },
     "execution_count": 16,
     "metadata": {},
     "output_type": "execute_result"
    }
   ],
   "source": [
    "joblib.dump(clf, \"clf.m\")"
   ]
  },
  {
   "cell_type": "code",
   "execution_count": 17,
   "metadata": {},
   "outputs": [],
   "source": [
    "# load model\n",
    "clf2 = joblib.load(\"clf.m\")"
   ]
  },
  {
   "cell_type": "code",
   "execution_count": 18,
   "metadata": {},
   "outputs": [
    {
     "data": {
      "text/plain": [
       "DecisionTreeClassifier(class_weight=None, criterion='gini', max_depth=None,\n",
       "            max_features=None, max_leaf_nodes=None,\n",
       "            min_impurity_decrease=0.0, min_impurity_split=None,\n",
       "            min_samples_leaf=1, min_samples_split=2,\n",
       "            min_weight_fraction_leaf=0.0, presort=False, random_state=None,\n",
       "            splitter='best')"
      ]
     },
     "execution_count": 18,
     "metadata": {},
     "output_type": "execute_result"
    }
   ],
   "source": [
    "clf2"
   ]
  },
  {
   "cell_type": "code",
   "execution_count": 19,
   "metadata": {},
   "outputs": [
    {
     "data": {
      "text/plain": [
       "array([0, 0, 0])"
      ]
     },
     "execution_count": 19,
     "metadata": {},
     "output_type": "execute_result"
    }
   ],
   "source": [
    "# predict\n",
    "clf2.predict(iris.data[:3, :])"
   ]
  },
  {
   "cell_type": "code",
   "execution_count": 20,
   "metadata": {},
   "outputs": [
    {
     "data": {
      "text/plain": [
       "array([[1., 0., 0.],\n",
       "       [1., 0., 0.],\n",
       "       [1., 0., 0.]])"
      ]
     },
     "execution_count": 20,
     "metadata": {},
     "output_type": "execute_result"
    }
   ],
   "source": [
    "clf2.predict_proba(iris.data[:3, :])"
   ]
  },
  {
   "cell_type": "code",
   "execution_count": 21,
   "metadata": {},
   "outputs": [],
   "source": [
    "# random forest\n",
    "from sklearn.ensemble import RandomForestClassifier"
   ]
  },
  {
   "cell_type": "code",
   "execution_count": 22,
   "metadata": {},
   "outputs": [],
   "source": [
    "rf = RandomForestClassifier()"
   ]
  },
  {
   "cell_type": "code",
   "execution_count": 23,
   "metadata": {},
   "outputs": [
    {
     "name": "stderr",
     "output_type": "stream",
     "text": [
      "/Users/meizu/Work/py_env/my_scikit_learn/lib/python2.7/site-packages/sklearn/ensemble/forest.py:246: FutureWarning: The default value of n_estimators will change from 10 in version 0.20 to 100 in 0.22.\n",
      "  \"10 in version 0.20 to 100 in 0.22.\", FutureWarning)\n"
     ]
    },
    {
     "data": {
      "text/plain": [
       "RandomForestClassifier(bootstrap=True, class_weight=None, criterion='gini',\n",
       "            max_depth=None, max_features='auto', max_leaf_nodes=None,\n",
       "            min_impurity_decrease=0.0, min_impurity_split=None,\n",
       "            min_samples_leaf=1, min_samples_split=2,\n",
       "            min_weight_fraction_leaf=0.0, n_estimators=10, n_jobs=None,\n",
       "            oob_score=False, random_state=None, verbose=0,\n",
       "            warm_start=False)"
      ]
     },
     "execution_count": 23,
     "metadata": {},
     "output_type": "execute_result"
    }
   ],
   "source": [
    "rf.fit(iris.data, iris.target)"
   ]
  },
  {
   "cell_type": "code",
   "execution_count": 24,
   "metadata": {},
   "outputs": [
    {
     "data": {
      "text/plain": [
       "array([2, 2, 2, 2, 2, 2, 1, 2, 2])"
      ]
     },
     "execution_count": 24,
     "metadata": {},
     "output_type": "execute_result"
    }
   ],
   "source": [
    "rf.predict(iris.data[100:109,:])"
   ]
  },
  {
   "cell_type": "code",
   "execution_count": 25,
   "metadata": {},
   "outputs": [
    {
     "data": {
      "text/plain": [
       "array([2, 2, 2, 2, 2, 2, 2, 2, 2])"
      ]
     },
     "execution_count": 25,
     "metadata": {},
     "output_type": "execute_result"
    }
   ],
   "source": [
    "iris.target[100:109]"
   ]
  },
  {
   "cell_type": "code",
   "execution_count": 26,
   "metadata": {},
   "outputs": [],
   "source": [
    "# splitting of train and test\n",
    "# n-cross validataion\n",
    "from sklearn.model_selection import cross_val_score\n",
    "from sklearn.datasets import make_blobs\n",
    "from sklearn.ensemble import ExtraTreesClassifier"
   ]
  },
  {
   "cell_type": "code",
   "execution_count": 27,
   "metadata": {},
   "outputs": [],
   "source": [
    "# prepare dataset\n",
    "X, y = make_blobs(n_samples=10000, n_features=10, centers=100, random_state=1234L)"
   ]
  },
  {
   "cell_type": "code",
   "execution_count": 28,
   "metadata": {},
   "outputs": [
    {
     "data": {
      "text/plain": [
       "array([[ 10.20003223,  -6.81561064, -10.49245073,   1.64815098,\n",
       "          1.37877155,   5.36446861,   7.10949454,   8.44537867,\n",
       "          0.31902792,  -3.48694784]])"
      ]
     },
     "execution_count": 28,
     "metadata": {},
     "output_type": "execute_result"
    }
   ],
   "source": [
    "X[:1]"
   ]
  },
  {
   "cell_type": "code",
   "execution_count": 29,
   "metadata": {},
   "outputs": [
    {
     "data": {
      "text/plain": [
       "array([74])"
      ]
     },
     "execution_count": 29,
     "metadata": {},
     "output_type": "execute_result"
    }
   ],
   "source": [
    "y[:1]"
   ]
  },
  {
   "cell_type": "code",
   "execution_count": 30,
   "metadata": {},
   "outputs": [
    {
     "name": "stderr",
     "output_type": "stream",
     "text": [
      "/Users/meizu/Work/py_env/my_scikit_learn/lib/python2.7/site-packages/sklearn/model_selection/_split.py:2053: FutureWarning: You should specify a value for 'cv' instead of relying on the default value. The default value will change from 3 to 5 in version 0.22.\n",
      "  warnings.warn(CV_WARNING, FutureWarning)\n"
     ]
    }
   ],
   "source": [
    "# rf testing\n",
    "rf_test = RandomForestClassifier(n_estimators=10, max_depth=None, min_samples_split=2, random_state=1234L)\n",
    "scores = cross_val_score(rf_test, X, y)"
   ]
  },
  {
   "cell_type": "code",
   "execution_count": 31,
   "metadata": {},
   "outputs": [
    {
     "data": {
      "text/plain": [
       "0.9996969696969696"
      ]
     },
     "execution_count": 31,
     "metadata": {},
     "output_type": "execute_result"
    }
   ],
   "source": [
    "scores.mean()"
   ]
  },
  {
   "cell_type": "code",
   "execution_count": 32,
   "metadata": {},
   "outputs": [],
   "source": [
    "# Extra trees testing\n",
    "et_test = ExtraTreesClassifier(n_estimators=10, max_depth=None, min_samples_split=2, random_state=1234L)\n",
    "scores = cross_val_score(et_test, X, y)"
   ]
  },
  {
   "cell_type": "code",
   "execution_count": 33,
   "metadata": {},
   "outputs": [
    {
     "data": {
      "text/plain": [
       "0.9999019607843138"
      ]
     },
     "execution_count": 33,
     "metadata": {},
     "output_type": "execute_result"
    }
   ],
   "source": [
    "scores.mean()"
   ]
  },
  {
   "cell_type": "code",
   "execution_count": 34,
   "metadata": {},
   "outputs": [],
   "source": [
    "# decision tree testing\n",
    "dt_test = tree.DecisionTreeClassifier(max_depth=None, min_samples_split=2, random_state=1234L)\n",
    "scores = cross_val_score(dt_test, X, y)"
   ]
  },
  {
   "cell_type": "code",
   "execution_count": 35,
   "metadata": {},
   "outputs": [
    {
     "data": {
      "text/plain": [
       "0.9757397504456328"
      ]
     },
     "execution_count": 35,
     "metadata": {},
     "output_type": "execute_result"
    }
   ],
   "source": [
    "scores.mean()"
   ]
  },
  {
   "cell_type": "code",
   "execution_count": null,
   "metadata": {},
   "outputs": [],
   "source": []
  }
 ],
 "metadata": {
  "kernelspec": {
   "display_name": "Python2(my_scikit_learn)",
   "language": "python",
   "name": "my_scikit_learn"
  },
  "language_info": {
   "codemirror_mode": {
    "name": "ipython",
    "version": 2
   },
   "file_extension": ".py",
   "mimetype": "text/x-python",
   "name": "python",
   "nbconvert_exporter": "python",
   "pygments_lexer": "ipython2",
   "version": "2.7.10"
  }
 },
 "nbformat": 4,
 "nbformat_minor": 2
}
